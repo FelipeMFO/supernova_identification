{
 "cells": [
  {
   "cell_type": "code",
   "execution_count": 1,
   "metadata": {},
   "outputs": [],
   "source": [
    "def log_likelihood(x, y, theta0, theta1, stdev):\n",
    "    # Get the likelihood of y given the least squares model described\n",
    "    # by theta0, theta1 and the standard deviation of the error term.\n",
    "    for i, x_val in enumerate(x):\n",
    "        mu = theta0 + (theta1*x_val)\n",
    "        # This is just plugging our observed y value into the normal\n",
    "        # density function.\n",
    "        lk = stats.norm(mu, stdev).pdf(y[i])\n",
    "        res = lk if i == 0 else lk * res\n",
    "    return Decimal(res).ln()"
   ]
  },
  {
   "cell_type": "code",
   "execution_count": 2,
   "metadata": {
    "colab": {
     "base_uri": "https://localhost:8080/",
     "height": 280
    },
    "colab_type": "code",
    "id": "58KfOwpdfcj-",
    "outputId": "ea7da86a-df79-4cf8-a433-80e58f3b9d2c"
   },
   "outputs": [],
   "source": [
    "#Primeiro instalo a biblioteca sncosmo para carregar a curva de luz de exemplo, nós vamos trabalhar com curvas de luz de uma simulação mas por hora essa basta.\n",
    "\n",
    "#!pip install --no-deps extinction sncosmo"
   ]
  },
  {
   "cell_type": "code",
   "execution_count": 3,
   "metadata": {
    "colab": {},
    "colab_type": "code",
    "id": "K9NGW5iXfiEZ"
   },
   "outputs": [],
   "source": [
    "import numpy as np\n",
    "import pandas as pd\n",
    "\n",
    "import sncosmo as snc\n",
    "\n",
    "from astropy.table import Table\n",
    "\n",
    "import matplotlib.pyplot as plt"
   ]
  },
  {
   "cell_type": "code",
   "execution_count": 4,
   "metadata": {},
   "outputs": [],
   "source": [
    "pd.set_option(\"display.max_rows\", 10)"
   ]
  },
  {
   "cell_type": "code",
   "execution_count": 5,
   "metadata": {
    "colab": {},
    "colab_type": "code",
    "id": "2NkUjX7pftaL"
   },
   "outputs": [],
   "source": [
    "#carrego os dados e converto para um pandas dataframe\n",
    "\n",
    "data = snc.load_example_data().to_pandas()\n",
    "data = data[data.flux>0]\n",
    "\n",
    "#cria um array igualmente espacado de 100 pontos entre o valor minimo do tempo e o maximo\n",
    "x = np.linspace(data.time.min(), data.time.max(), 100)"
   ]
  },
  {
   "cell_type": "code",
   "execution_count": 18,
   "metadata": {},
   "outputs": [
    {
     "data": {
      "text/html": [
       "<div>\n",
       "<style scoped>\n",
       "    .dataframe tbody tr th:only-of-type {\n",
       "        vertical-align: middle;\n",
       "    }\n",
       "\n",
       "    .dataframe tbody tr th {\n",
       "        vertical-align: top;\n",
       "    }\n",
       "\n",
       "    .dataframe thead th {\n",
       "        text-align: right;\n",
       "    }\n",
       "</style>\n",
       "<table border=\"1\" class=\"dataframe\">\n",
       "  <thead>\n",
       "    <tr style=\"text-align: right;\">\n",
       "      <th></th>\n",
       "      <th>time</th>\n",
       "      <th>band</th>\n",
       "      <th>flux</th>\n",
       "      <th>fluxerr</th>\n",
       "      <th>zp</th>\n",
       "      <th>zpsys</th>\n",
       "    </tr>\n",
       "  </thead>\n",
       "  <tbody>\n",
       "    <tr>\n",
       "      <th>0</th>\n",
       "      <td>55070.000000</td>\n",
       "      <td>sdssg</td>\n",
       "      <td>0.363512</td>\n",
       "      <td>0.672844</td>\n",
       "      <td>25.0</td>\n",
       "      <td>ab</td>\n",
       "    </tr>\n",
       "    <tr>\n",
       "      <th>2</th>\n",
       "      <td>55074.102564</td>\n",
       "      <td>sdssi</td>\n",
       "      <td>0.307494</td>\n",
       "      <td>0.672844</td>\n",
       "      <td>25.0</td>\n",
       "      <td>ab</td>\n",
       "    </tr>\n",
       "    <tr>\n",
       "      <th>3</th>\n",
       "      <td>55076.153846</td>\n",
       "      <td>sdssz</td>\n",
       "      <td>1.087761</td>\n",
       "      <td>0.672844</td>\n",
       "      <td>25.0</td>\n",
       "      <td>ab</td>\n",
       "    </tr>\n",
       "    <tr>\n",
       "      <th>5</th>\n",
       "      <td>55080.256410</td>\n",
       "      <td>sdssr</td>\n",
       "      <td>1.097810</td>\n",
       "      <td>0.672844</td>\n",
       "      <td>25.0</td>\n",
       "      <td>ab</td>\n",
       "    </tr>\n",
       "    <tr>\n",
       "      <th>6</th>\n",
       "      <td>55082.307692</td>\n",
       "      <td>sdssi</td>\n",
       "      <td>3.756269</td>\n",
       "      <td>0.672844</td>\n",
       "      <td>25.0</td>\n",
       "      <td>ab</td>\n",
       "    </tr>\n",
       "    <tr>\n",
       "      <th>...</th>\n",
       "      <td>...</td>\n",
       "      <td>...</td>\n",
       "      <td>...</td>\n",
       "      <td>...</td>\n",
       "      <td>...</td>\n",
       "      <td>...</td>\n",
       "    </tr>\n",
       "    <tr>\n",
       "      <th>34</th>\n",
       "      <td>55139.743590</td>\n",
       "      <td>sdssi</td>\n",
       "      <td>3.043183</td>\n",
       "      <td>0.672844</td>\n",
       "      <td>25.0</td>\n",
       "      <td>ab</td>\n",
       "    </tr>\n",
       "    <tr>\n",
       "      <th>35</th>\n",
       "      <td>55141.794872</td>\n",
       "      <td>sdssz</td>\n",
       "      <td>5.626927</td>\n",
       "      <td>0.672844</td>\n",
       "      <td>25.0</td>\n",
       "      <td>ab</td>\n",
       "    </tr>\n",
       "    <tr>\n",
       "      <th>37</th>\n",
       "      <td>55145.897436</td>\n",
       "      <td>sdssr</td>\n",
       "      <td>1.120918</td>\n",
       "      <td>0.672844</td>\n",
       "      <td>25.0</td>\n",
       "      <td>ab</td>\n",
       "    </tr>\n",
       "    <tr>\n",
       "      <th>38</th>\n",
       "      <td>55147.948718</td>\n",
       "      <td>sdssi</td>\n",
       "      <td>2.124670</td>\n",
       "      <td>0.672844</td>\n",
       "      <td>25.0</td>\n",
       "      <td>ab</td>\n",
       "    </tr>\n",
       "    <tr>\n",
       "      <th>39</th>\n",
       "      <td>55150.000000</td>\n",
       "      <td>sdssz</td>\n",
       "      <td>5.348218</td>\n",
       "      <td>0.672844</td>\n",
       "      <td>25.0</td>\n",
       "      <td>ab</td>\n",
       "    </tr>\n",
       "  </tbody>\n",
       "</table>\n",
       "<p>37 rows × 6 columns</p>\n",
       "</div>"
      ],
      "text/plain": [
       "            time   band      flux   fluxerr    zp zpsys\n",
       "0   55070.000000  sdssg  0.363512  0.672844  25.0    ab\n",
       "2   55074.102564  sdssi  0.307494  0.672844  25.0    ab\n",
       "3   55076.153846  sdssz  1.087761  0.672844  25.0    ab\n",
       "5   55080.256410  sdssr  1.097810  0.672844  25.0    ab\n",
       "6   55082.307692  sdssi  3.756269  0.672844  25.0    ab\n",
       "..           ...    ...       ...       ...   ...   ...\n",
       "34  55139.743590  sdssi  3.043183  0.672844  25.0    ab\n",
       "35  55141.794872  sdssz  5.626927  0.672844  25.0    ab\n",
       "37  55145.897436  sdssr  1.120918  0.672844  25.0    ab\n",
       "38  55147.948718  sdssi  2.124670  0.672844  25.0    ab\n",
       "39  55150.000000  sdssz  5.348218  0.672844  25.0    ab\n",
       "\n",
       "[37 rows x 6 columns]"
      ]
     },
     "execution_count": 18,
     "metadata": {},
     "output_type": "execute_result"
    }
   ],
   "source": [
    "data"
   ]
  },
  {
   "cell_type": "code",
   "execution_count": null,
   "metadata": {},
   "outputs": [],
   "source": []
  },
  {
   "cell_type": "code",
   "execution_count": 8,
   "metadata": {
    "colab": {
     "base_uri": "https://localhost:8080/",
     "height": 365
    },
    "colab_type": "code",
    "id": "ubfwBwKhgT8Q",
    "outputId": "78844e63-9906-4cd8-cc4a-760add823455"
   },
   "outputs": [
    {
     "data": {
      "text/plain": [
       "<matplotlib.legend.Legend at 0x7f9fc9512780>"
      ]
     },
     "execution_count": 8,
     "metadata": {},
     "output_type": "execute_result"
    },
    {
     "data": {
      "image/png": "[encoded data removed]",
      "text/plain": [
       "<Figure size 432x288 with 1 Axes>"
      ]
     },
     "metadata": {
      "needs_background": "light"
     },
     "output_type": "display_data"
    }
   ],
   "source": [
    "#agrupa as bandas e plota o valor do fluxo em funcao do time; considera tambem o erro\n",
    "#TODO confirmar com o Marcelo se quer dizer que eh o mesmo objeto\n",
    "for band, df in data.groupby('band'):\n",
    "  \n",
    "  plt.errorbar(df.time, df.flux, yerr=df.fluxerr, fmt = 'o', label=band)\n",
    "\n",
    "plt.legend()"
   ]
  },
  {
   "cell_type": "code",
   "execution_count": 9,
   "metadata": {
    "colab": {
     "base_uri": "https://localhost:8080/",
     "height": 315
    },
    "colab_type": "code",
    "id": "KWhKhaz2gWXf",
    "outputId": "c39fa67f-d45f-4b22-dbf6-5fd74cf9c825"
   },
   "outputs": [],
   "source": [
    "## instalo agora a biblioteca george para Gaussian Process\n",
    "#!pip install george"
   ]
  },
  {
   "cell_type": "code",
   "execution_count": 19,
   "metadata": {
    "colab": {},
    "colab_type": "code",
    "id": "e5VRYH4liLLx"
   },
   "outputs": [],
   "source": [
    "import george as gg\n",
    "import george.kernels as kr"
   ]
  },
  {
   "cell_type": "code",
   "execution_count": null,
   "metadata": {},
   "outputs": [],
   "source": []
  },
  {
   "cell_type": "code",
   "execution_count": 22,
   "metadata": {
    "colab": {},
    "colab_type": "code",
    "id": "ZYFvV6Bki-Bj"
   },
   "outputs": [],
   "source": [
    "#Aqui ele ta criando um dicionario que mapeia os nomes das bands \n",
    "#em um array de arrays com os valores do tempo fluxo e erro (que eh o que vamos usar no GP)\n",
    "data = {band: df[['time', 'flux', 'fluxerr']].values for band, df in data.groupby('band')}"
   ]
  },
  {
   "cell_type": "code",
   "execution_count": 23,
   "metadata": {
    "scrolled": true
   },
   "outputs": [
    {
     "data": {
      "text/plain": [
       "{'sdssg': array([[5.50700000e+04, 3.63511536e-01, 6.72843848e-01],\n",
       "        [5.50864103e+04, 2.82614187e+00, 6.72843848e-01],\n",
       "        [5.50946154e+04, 1.57823662e+00, 6.72843848e-01],\n",
       "        [5.51028205e+04, 2.20875360e+00, 6.72843848e-01],\n",
       "        [5.51110256e+04, 6.08391162e-01, 6.72843848e-01],\n",
       "        [5.51192308e+04, 6.79196212e-01, 6.72843848e-01],\n",
       "        [5.51274359e+04, 3.25442801e-01, 6.72843848e-01],\n",
       "        [5.51356410e+04, 3.30702283e-01, 6.72843848e-01]]),\n",
       " 'sdssi': array([[5.50741026e+04, 3.07494233e-01, 6.72843848e-01],\n",
       "        [5.50823077e+04, 3.75626856e+00, 6.72843848e-01],\n",
       "        [5.50905128e+04, 7.43316961e+00, 6.72843848e-01],\n",
       "        [5.50987179e+04, 1.21116206e+01, 6.72843848e-01],\n",
       "        [5.51069231e+04, 1.13724767e+01, 6.72843848e-01],\n",
       "        [5.51151282e+04, 7.99428156e+00, 6.72843848e-01],\n",
       "        [5.51233333e+04, 7.03584282e+00, 6.72843848e-01],\n",
       "        [5.51315385e+04, 3.99520404e+00, 6.72843848e-01],\n",
       "        [5.51397436e+04, 3.04318347e+00, 6.72843848e-01],\n",
       "        [5.51479487e+04, 2.12466953e+00, 6.72843848e-01]]),\n",
       " 'sdssr': array([[5.50802564e+04, 1.09780967e+00, 6.72843848e-01],\n",
       "        [5.50884615e+04, 7.56547045e+00, 6.72843848e-01],\n",
       "        [5.50966667e+04, 9.42016728e+00, 6.72843848e-01],\n",
       "        [5.51048718e+04, 9.63442013e+00, 6.72843848e-01],\n",
       "        [5.51130769e+04, 5.91642855e+00, 6.72843848e-01],\n",
       "        [5.51212821e+04, 4.03447329e+00, 6.72843848e-01],\n",
       "        [5.51294872e+04, 2.65974856e+00, 6.72843848e-01],\n",
       "        [5.51376923e+04, 5.65286727e-01, 6.72843848e-01],\n",
       "        [5.51458974e+04, 1.12091764e+00, 6.72843848e-01]]),\n",
       " 'sdssz': array([[5.50761538e+04, 1.08776104e+00, 6.72843848e-01],\n",
       "        [5.50843590e+04, 5.34858895e+00, 6.72843848e-01],\n",
       "        [5.50925641e+04, 1.07032995e+01, 6.72843848e-01],\n",
       "        [5.51007692e+04, 1.36445335e+01, 6.72843848e-01],\n",
       "        [5.51089744e+04, 1.25739037e+01, 6.72843848e-01],\n",
       "        [5.51171795e+04, 7.90862756e+00, 6.72843848e-01],\n",
       "        [5.51253846e+04, 6.84086374e+00, 6.72843848e-01],\n",
       "        [5.51335897e+04, 5.73989458e+00, 6.72843848e-01],\n",
       "        [5.51417949e+04, 5.62692686e+00, 6.72843848e-01],\n",
       "        [5.51500000e+04, 5.34821756e+00, 6.72843848e-01]])}"
      ]
     },
     "execution_count": 23,
     "metadata": {},
     "output_type": "execute_result"
    }
   ],
   "source": [
    "data"
   ]
  },
  {
   "cell_type": "code",
   "execution_count": 70,
   "metadata": {
    "colab": {},
    "colab_type": "code",
    "id": "5rHIFmZPkB1w"
   },
   "outputs": [],
   "source": [
    "#AQUI QUE ROLA O KERNEL\n",
    "gp = gg.GP((500**2)*kr.ExpSquaredKernel(metric=20**2), fit_mean=True)\n",
    "gp.compute(data['sdssi'][:,0], data['sdssi'][:,2])\n",
    "#Aqui em cima nesse compute ele pega o tempo (que sao os indices 0 e depois os erros \n",
    "#que sao os indices 2). \n",
    "#O compute faz Pre-compute the covariance matrix and factorize it for a set of times and uncertainties."
   ]
  },
  {
   "cell_type": "code",
   "execution_count": 71,
   "metadata": {
    "colab": {
     "base_uri": "https://localhost:8080/",
     "height": 52
    },
    "colab_type": "code",
    "id": "jCyn4_Y4lmtf",
    "outputId": "8f9059fa-2e06-4a88-9a14-102141fe4bcc"
   },
   "outputs": [
    {
     "name": "stdout",
     "output_type": "stream",
     "text": [
      "-50.44764839729803\n",
      "[-4.31477309 11.06721096]\n"
     ]
    }
   ],
   "source": [
    "#isso eh um metodo do George e nao uma funcao declarada\n",
    "#precisa ter dado gp.compute antes\n",
    "print(gp.log_likelihood(data['sdssi'][:,1])) \n",
    "print(gp.grad_log_likelihood(data['sdssi'][:,1]))"
   ]
  },
  {
   "cell_type": "code",
   "execution_count": 72,
   "metadata": {
    "colab": {},
    "colab_type": "code",
    "id": "ZmlROoeOlxkC"
   },
   "outputs": [],
   "source": [
    "#AQUI QUE ROLA O PREDICT\n",
    "#aqui que entra aquele x que foi calculado dos espacos entre o time min e time max pelo linspace\n",
    "mu, var = gp.predict(data['sdssi'][:,1], x, return_var=True)\n",
    "#mu e var sao respectivamente a media e a covariancia de cada um dos 100 pontos\n",
    "std = np.sqrt(var)"
   ]
  },
  {
   "cell_type": "code",
   "execution_count": null,
   "metadata": {},
   "outputs": [],
   "source": []
  },
  {
   "cell_type": "code",
   "execution_count": 73,
   "metadata": {
    "colab": {
     "base_uri": "https://localhost:8080/",
     "height": 365
    },
    "colab_type": "code",
    "id": "bfHtj7szmcEH",
    "outputId": "7965be38-e1ba-425a-aa9b-750e7ba4fc7f"
   },
   "outputs": [
    {
     "data": {
      "text/plain": [
       "<ErrorbarContainer object of 3 artists>"
      ]
     },
     "execution_count": 73,
     "metadata": {},
     "output_type": "execute_result"
    },
    {
     "data": {
      "image/png": "[encoded data removed]",
      "text/plain": [
       "<Figure size 432x288 with 1 Axes>"
      ]
     },
     "metadata": {
      "needs_background": "light"
     },
     "output_type": "display_data"
    }
   ],
   "source": [
    "plt.fill_between(x, mu-std, mu+std, alpha=.4, color='g')\n",
    "plt.plot(x, mu, color='g')\n",
    "plt.errorbar(data['sdssi'][:,0], data['sdssi'][:,1], yerr=data['sdssi'][:,2], fmt='o', color='g')"
   ]
  },
  {
   "cell_type": "code",
   "execution_count": 74,
   "metadata": {
    "colab": {},
    "colab_type": "code",
    "id": "_XfwbC_rm7S5"
   },
   "outputs": [],
   "source": [
    "import scipy.optimize as op\n",
    "\n",
    "# Define the objective function (negative log-likelihood in this case).\n",
    "def nll(p):\n",
    "    gp.set_parameter_vector(p)\n",
    "    ll = gp.log_likelihood(data['sdssi'][:,1], quiet=True)\n",
    "    return -ll if np.isfinite(ll) else 1e25\n",
    "\n",
    "# And the gradient of the objective function.\n",
    "def grad_nll(p):\n",
    "    gp.set_parameter_vector(p)\n",
    "    return -gp.grad_log_likelihood(data['sdssi'][:,1], quiet=True)"
   ]
  },
  {
   "cell_type": "code",
   "execution_count": 75,
   "metadata": {
    "colab": {},
    "colab_type": "code",
    "id": "ZEtoQ0U4nkN7"
   },
   "outputs": [],
   "source": [
    "p0 = gp.get_parameter_vector()\n",
    "results = op.minimize(nll, p0, jac=grad_nll, method=\"L-BFGS-B\")"
   ]
  },
  {
   "cell_type": "code",
   "execution_count": 76,
   "metadata": {
    "colab": {
     "base_uri": "https://localhost:8080/",
     "height": 52
    },
    "colab_type": "code",
    "id": "i_ir1Ltv4NaD",
    "outputId": "7cce3d36-4558-408c-99db-5e174131765d"
   },
   "outputs": [
    {
     "name": "stdout",
     "output_type": "stream",
     "text": [
      "-22.60967874760521\n",
      "[ 2.37155209e-05 -5.85570691e-05]\n"
     ]
    }
   ],
   "source": [
    "print(gp.log_likelihood(data['sdssi'][:,1]))\n",
    "print(gp.grad_log_likelihood(data['sdssi'][:,1]))"
   ]
  },
  {
   "cell_type": "code",
   "execution_count": 77,
   "metadata": {
    "colab": {},
    "colab_type": "code",
    "id": "a7dfZFLFnpGt"
   },
   "outputs": [],
   "source": [
    "mu, var = gp.predict(data['sdssi'][:,1], x, return_var=True)\n",
    "std = np.sqrt(var)"
   ]
  },
  {
   "cell_type": "code",
   "execution_count": 78,
   "metadata": {
    "colab": {
     "base_uri": "https://localhost:8080/",
     "height": 365
    },
    "colab_type": "code",
    "id": "PMErsh8Mn2Md",
    "outputId": "4278bd6a-f17a-4b16-a61b-de4aafd3407c"
   },
   "outputs": [
    {
     "data": {
      "text/plain": [
       "<ErrorbarContainer object of 3 artists>"
      ]
     },
     "execution_count": 78,
     "metadata": {},
     "output_type": "execute_result"
    },
    {
     "data": {
      "image/png": "[encoded data removed]",
      "text/plain": [
       "<Figure size 432x288 with 1 Axes>"
      ]
     },
     "metadata": {
      "needs_background": "light"
     },
     "output_type": "display_data"
    }
   ],
   "source": [
    "plt.fill_between(x, mu-std, mu+std, alpha=.3, color='g')\n",
    "plt.plot(x, mu, color='g')\n",
    "plt.errorbar(data['sdssi'][:,0], data['sdssi'][:,1], yerr=data['sdssi'][:,2], fmt='o', color='g')"
   ]
  },
  {
   "cell_type": "code",
   "execution_count": 79,
   "metadata": {
    "colab": {},
    "colab_type": "code",
    "id": "jeij4lBh1uaY"
   },
   "outputs": [],
   "source": [
    "colors = {'g': 'g', 'r': 'r', 'i': 'y', 'z': 'b'}\n",
    "#dicionario do final das letras com a cor, no caso o sdssi eh amarelo"
   ]
  },
  {
   "cell_type": "code",
   "execution_count": 83,
   "metadata": {},
   "outputs": [
    {
     "name": "stdout",
     "output_type": "stream",
     "text": [
      "[55070.        55086.4102564 55094.6153846 55102.8205128 55111.025641\n",
      " 55119.2307692 55127.4358974 55135.6410256] [0.67284385 0.67284385 0.67284385 0.67284385 0.67284385 0.67284385\n",
      " 0.67284385 0.67284385]\n",
      "[55074.1025641 55082.3076923 55090.5128205 55098.7179487 55106.9230769\n",
      " 55115.1282051 55123.3333333 55131.5384615 55139.7435897 55147.9487179] [0.67284385 0.67284385 0.67284385 0.67284385 0.67284385 0.67284385\n",
      " 0.67284385 0.67284385 0.67284385 0.67284385]\n",
      "[55080.2564103 55088.4615385 55096.6666667 55104.8717949 55113.0769231\n",
      " 55121.2820513 55129.4871795 55137.6923077 55145.8974359] [0.67284385 0.67284385 0.67284385 0.67284385 0.67284385 0.67284385\n",
      " 0.67284385 0.67284385 0.67284385]\n",
      "[55076.1538462 55084.3589744 55092.5641026 55100.7692308 55108.974359\n",
      " 55117.1794872 55125.3846154 55133.5897436 55141.7948718 55150.       ] [0.67284385 0.67284385 0.67284385 0.67284385 0.67284385 0.67284385\n",
      " 0.67284385 0.67284385 0.67284385 0.67284385]\n"
     ]
    }
   ],
   "source": [
    "for band, dat in data.items():\n",
    "    gp = gg.GP((500**2)*kr.ExpSquaredKernel(metric=20**2), fit_mean=True)\n",
    "    gp.compute(dat[:,0], dat[:,2])\n",
    "    print(dat[:,0], dat[:,2])"
   ]
  },
  {
   "cell_type": "code",
   "execution_count": 80,
   "metadata": {
    "colab": {
     "base_uri": "https://localhost:8080/",
     "height": 379
    },
    "colab_type": "code",
    "id": "Fu5_l4Bdn2qy",
    "outputId": "0ce075e4-0554-4bbc-8428-169969413793"
   },
   "outputs": [
    {
     "data": {
      "text/plain": [
       "Text(0, 0.5, 'flux')"
      ]
     },
     "execution_count": 80,
     "metadata": {},
     "output_type": "execute_result"
    },
    {
     "data": {
      "image/png": "[encoded data removed]",
      "text/plain": [
       "<Figure size 432x288 with 1 Axes>"
      ]
     },
     "metadata": {
      "needs_background": "light"
     },
     "output_type": "display_data"
    }
   ],
   "source": [
    "for band, dat in data.items():\n",
    "  #a diferença eh que no dat[:,0], dat[:,2] ele nao especifica qual eh a banda\n",
    "    #entao creio que faca pra todo mundo\n",
    "  gp = gg.GP((500**2)*kr.ExpSquaredKernel(metric=20**2), fit_mean=True)\n",
    "  gp.compute(dat[:,0], dat[:,2])\n",
    "  \n",
    "  # Define the objective function (negative log-likelihood in this case).\n",
    "  def nll(p):\n",
    "      gp.set_parameter_vector(p)\n",
    "      ll = gp.log_likelihood(dat[:,1], quiet=True)\n",
    "      return -ll if np.isfinite(ll) else 1e25\n",
    "\n",
    "  # And the gradient of the objective function.\n",
    "  def grad_nll(p):\n",
    "      gp.set_parameter_vector(p)\n",
    "      return -gp.grad_log_likelihood(dat[:,1], quiet=True)\n",
    "    \n",
    "  p0 = gp.get_parameter_vector()\n",
    "  results = op.minimize(nll, p0, jac=grad_nll, method=\"L-BFGS-B\")\n",
    "  \n",
    "  mu, var = gp.predict(dat[:,1], x, return_var=True)\n",
    "  std = np.sqrt(var)\n",
    "\n",
    "#aparentemente os mu, std ficou tudo sendo mais de uma dimensao\n",
    "#carregando as informacoes das 4 curvas a interpolar\n",
    "\n",
    "#daqui pra baixo so plot\n",
    "  plt.fill_between(x, mu-std, mu+std, alpha=.3, color=colors[band[-1]])\n",
    "  plt.plot(x, mu, color=colors[band[-1]])\n",
    "  plt.errorbar(dat[:,0], dat[:,1], yerr=dat[:,2], fmt='o', color=colors[band[-1]])\n",
    "  \n",
    "plt.xlabel('time (days)')\n",
    "plt.ylabel('flux')"
   ]
  },
  {
   "cell_type": "code",
   "execution_count": null,
   "metadata": {
    "colab": {},
    "colab_type": "code",
    "id": "eSz_IHgj0Yhe"
   },
   "outputs": [],
   "source": []
  },
  {
   "cell_type": "code",
   "execution_count": null,
   "metadata": {},
   "outputs": [],
   "source": []
  },
  {
   "cell_type": "code",
   "execution_count": null,
   "metadata": {},
   "outputs": [],
   "source": []
  },
  {
   "cell_type": "code",
   "execution_count": null,
   "metadata": {},
   "outputs": [],
   "source": []
  },
  {
   "cell_type": "code",
   "execution_count": null,
   "metadata": {},
   "outputs": [],
   "source": []
  },
  {
   "cell_type": "code",
   "execution_count": null,
   "metadata": {},
   "outputs": [],
   "source": []
  }
 ],
 "metadata": {
  "colab": {
   "name": "SN_example.ipynb",
   "provenance": [],
   "version": "0.3.2"
  },
  "kernelspec": {
   "display_name": "Python 3",
   "language": "python",
   "name": "python3"
  },
  "language_info": {
   "codemirror_mode": {
    "name": "ipython",
    "version": 3
   },
   "file_extension": ".py",
   "mimetype": "text/x-python",
   "name": "python",
   "nbconvert_exporter": "python",
   "pygments_lexer": "ipython3",
   "version": "3.7.1"
  }
 },
 "nbformat": 4,
 "nbformat_minor": 1
}
