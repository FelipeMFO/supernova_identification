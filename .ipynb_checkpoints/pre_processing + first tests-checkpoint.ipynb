{
 "cells": [
  {
   "cell_type": "code",
   "execution_count": 1,
   "metadata": {},
   "outputs": [],
   "source": [
    "from tensorflow.examples.tutorials.mnist import input_data\n",
    "import numpy as np\n",
    "import pandas as pd\n",
    "import tensorflow as tf\n",
    "import os\n",
    "import time\n",
    "from PIL import Image"
   ]
  },
  {
   "cell_type": "code",
   "execution_count": 2,
   "metadata": {},
   "outputs": [
    {
     "name": "stdout",
     "output_type": "stream",
     "text": [
      "1.13.1\n"
     ]
    }
   ],
   "source": [
    "from __future__ import absolute_import, division, print_function\n",
    "\n",
    "# TensorFlow and tf.keras\n",
    "import tensorflow as tf\n",
    "from tensorflow import keras\n",
    "\n",
    "# Helper libraries\n",
    "import numpy as np\n",
    "import matplotlib.pyplot as plt\n",
    "\n",
    "print(tf.__version__)"
   ]
  },
  {
   "cell_type": "code",
   "execution_count": 3,
   "metadata": {},
   "outputs": [],
   "source": [
    "path_to_read = 'interpolate_data_low_quality/'\n",
    "files = []\n",
    "\n",
    "for r, d, f in os.walk(path_to_read):\n",
    "    for file in f:\n",
    "        if '.png' in file:\n",
    "            files.append(os.path.join(r, file))\n",
    "files.sort()\n",
    "np_files = np.asarray(files)"
   ]
  },
  {
   "cell_type": "code",
   "execution_count": null,
   "metadata": {},
   "outputs": [],
   "source": []
  },
  {
   "cell_type": "code",
   "execution_count": 4,
   "metadata": {},
   "outputs": [],
   "source": [
    "##VERIFICADOR DE TRANSIENTES SEM AS 4 CURVAS\n",
    "#temp = 'SN000017'\n",
    "#count = 0\n",
    "#for f in np_files:\n",
    "#    if (count == 4):\n",
    "#        temp = f[29:37]\n",
    "#        count = 0\n",
    "#    if ((temp == f[29:37]) & (count < 4)):\n",
    "#        count += 1\n",
    "#    elif ((temp != f[29:37]) & (count < 4)):\n",
    "#        print(f)"
   ]
  },
  {
   "cell_type": "code",
   "execution_count": 5,
   "metadata": {},
   "outputs": [],
   "source": [
    "#set(types) -> {'IIL', 'IIP', 'II_', 'IIn', 'Ia_', 'Ib_', 'Ibc', 'Ic_'}\n",
    "conversion = {'IIL' : 5, 'IIP' : 6, 'II_' : 4, 'IIn' : 7, 'Ia_' : 0, 'Ib_' : 1, 'Ibc' : 2, 'Ic_' : 3}"
   ]
  },
  {
   "cell_type": "code",
   "execution_count": 6,
   "metadata": {
    "scrolled": true
   },
   "outputs": [
    {
     "data": {
      "text/plain": [
       "{0, 1, 2, 3, 4, 5, 6, 7}"
      ]
     },
     "execution_count": 6,
     "metadata": {},
     "output_type": "execute_result"
    }
   ],
   "source": [
    "np_grouped = np_files.reshape(round(np_files.shape[0]/4), 4)\n",
    "class_id = []\n",
    "for g in np_grouped:\n",
    "    class_id = class_id + [[g[0][29:37], g[0][38:41]]] \n",
    "types = []\n",
    "for ids in class_id:\n",
    "    types = types + [conversion[ids[1]]]\n",
    "set(types)"
   ]
  },
  {
   "cell_type": "code",
   "execution_count": 7,
   "metadata": {},
   "outputs": [
    {
     "data": {
      "text/plain": [
       "21317"
      ]
     },
     "execution_count": 7,
     "metadata": {},
     "output_type": "execute_result"
    }
   ],
   "source": [
    "astr_objs = []\n",
    "for i in range(len(np_grouped)):\n",
    "    astr_objs = astr_objs + [class_id[i]]\n",
    "    for file in np_grouped[i]:\n",
    "        img = Image.open(file).convert('L')\n",
    "        arr = np.array(img)\n",
    "        astr_objs[-1] = astr_objs[-1] + [arr[5:35,10:56]]\n",
    "len(astr_objs)\n"
   ]
  },
  {
   "cell_type": "code",
   "execution_count": 8,
   "metadata": {},
   "outputs": [],
   "source": [
    "##for ims in astr_objs[0][2:]:\n",
    "##    print(len(ims[0]))\n",
    "#\n",
    "#teste = astr_objs[0][2]\n",
    "#teste2 = teste[5:35,10:56]\n",
    "#teste2.shape\n",
    "#len(teste2[1])"
   ]
  },
  {
   "cell_type": "code",
   "execution_count": null,
   "metadata": {},
   "outputs": [],
   "source": []
  },
  {
   "cell_type": "code",
   "execution_count": 9,
   "metadata": {},
   "outputs": [],
   "source": [
    "labels = []\n",
    "images = []\n",
    "ids = []\n",
    "for o in astr_objs:\n",
    "    labels.append((conversion[o[1]])) #converting here to numbers to assure label in training\n",
    "    images.append(o[2:])\n",
    "    ids.append(o[0])\n",
    "labels = np.asarray(labels)\n",
    "images = np.asarray(images)\n",
    "ids = np.asarray(ids)\n",
    "\n",
    "train_n = 18000\n",
    "\n",
    "train_labels = labels[0:train_n]\n",
    "test_labels = labels[train_n:]\n",
    "\n",
    "train_images = images[0:train_n]\n",
    "test_images = images[train_n:]\n",
    "\n",
    "train_ids = ids[0:train_n]\n",
    "test_ids = ids[train_n:]\n"
   ]
  },
  {
   "cell_type": "code",
   "execution_count": 10,
   "metadata": {},
   "outputs": [
    {
     "name": "stdout",
     "output_type": "stream",
     "text": [
      "(21317,) (21317,) (21317, 4, 30, 46)\n"
     ]
    }
   ],
   "source": [
    "print(ids.shape, labels.shape, images.shape)"
   ]
  },
  {
   "cell_type": "code",
   "execution_count": 11,
   "metadata": {},
   "outputs": [
    {
     "data": {
      "text/plain": [
       "(18000, 4, 30, 46)"
      ]
     },
     "execution_count": 11,
     "metadata": {},
     "output_type": "execute_result"
    }
   ],
   "source": [
    "train_images.shape"
   ]
  },
  {
   "cell_type": "code",
   "execution_count": 12,
   "metadata": {},
   "outputs": [],
   "source": [
    "train_images = np.around(train_images/255, decimals = 2)\n",
    "test_images = np.around(test_images/255, decimals = 2)"
   ]
  },
  {
   "cell_type": "markdown",
   "metadata": {},
   "source": [
    "# Here starts the training"
   ]
  },
  {
   "cell_type": "code",
   "execution_count": 13,
   "metadata": {},
   "outputs": [
    {
     "name": "stdout",
     "output_type": "stream",
     "text": [
      "WARNING:tensorflow:From /home/felipematheus/anaconda3/lib/python3.7/site-packages/tensorflow/python/ops/resource_variable_ops.py:435: colocate_with (from tensorflow.python.framework.ops) is deprecated and will be removed in a future version.\n",
      "Instructions for updating:\n",
      "Colocations handled automatically by placer.\n"
     ]
    }
   ],
   "source": [
    "model = keras.Sequential([\n",
    "    keras.layers.Flatten(input_shape=(4, 30, 46)), #aqui mudar o novo shape () 64x40 iu 46x30, x4 talvez \n",
    "    #Transform the 2d array into a 1d with mxn \n",
    "    keras.layers.Dense(128, activation=tf.nn.relu),\n",
    "    keras.layers.Dense(128, activation=tf.nn.relu),\n",
    "    keras.layers.Dense(128, activation=tf.nn.relu),\n",
    "    keras.layers.Dense(128, activation=tf.nn.relu),\n",
    "    keras.layers.Dense(128, activation=tf.nn.relu),\n",
    "    keras.layers.Dense(8, activation=tf.nn.softmax) #exit layer, change to the number of class we have ()\n",
    "])\n"
   ]
  },
  {
   "cell_type": "code",
   "execution_count": 14,
   "metadata": {},
   "outputs": [
    {
     "name": "stdout",
     "output_type": "stream",
     "text": [
      "WARNING:tensorflow:From /home/felipematheus/anaconda3/lib/python3.7/site-packages/keras/backend/tensorflow_backend.py:3445: calling dropout (from tensorflow.python.ops.nn_ops) with keep_prob is deprecated and will be removed in a future version.\n",
      "Instructions for updating:\n",
      "Please use `rate` instead of `keep_prob`. Rate should be set to `rate = 1 - keep_prob`.\n"
     ]
    },
    {
     "name": "stderr",
     "output_type": "stream",
     "text": [
      "Using TensorFlow backend.\n"
     ]
    }
   ],
   "source": [
    "img_rows, img_cols = 30, 46\n",
    "input_shape = (4, img_rows, img_cols)\n",
    "\n",
    "from keras.models import Sequential\n",
    "from keras.layers import Dense, Dropout, Flatten\n",
    "from keras.layers import Conv2D, MaxPooling2D\n",
    "\n",
    "cnn1 = Sequential()\n",
    "cnn1.add(Conv2D(32, kernel_size=(3, 3), activation='relu', input_shape=input_shape))\n",
    "cnn1.add(MaxPooling2D(pool_size=(2, 2)))\n",
    "cnn1.add(Dropout(0.2))\n",
    "\n",
    "cnn1.add(Flatten())\n",
    "\n",
    "cnn1.add(Dense(128, activation='relu'))\n",
    "cnn1.add(Dense(10, activation='softmax'))\n"
   ]
  },
  {
   "cell_type": "code",
   "execution_count": 15,
   "metadata": {},
   "outputs": [],
   "source": [
    "#from keras.models import Sequential\n",
    "#from keras.layers import Dense, Dropout, Flatten\n",
    "#from keras.layers import Conv2D, MaxPooling2D\n",
    "#\n",
    "#cnn3 = Sequential()\n",
    "#cnn3.add(Conv2D(32, kernel_size=(3, 3), activation='relu', input_shape=input_shape))\n",
    "#cnn3.add(MaxPooling2D((2, 2)))\n",
    "#cnn3.add(Dropout(0.25))\n",
    "#\n",
    "#cnn3.add(Conv2D(64, kernel_size=(3, 3), activation='relu'))\n",
    "#cnn3.add(MaxPooling2D(pool_size=(2, 2)))\n",
    "#cnn3.add(Dropout(0.25))\n",
    "#\n",
    "#cnn3.add(Conv2D(128, kernel_size=(3, 3), activation='relu'))\n",
    "#cnn3.add(Dropout(0.4))\n",
    "#\n",
    "#cnn3.add(Flatten())\n",
    "#\n",
    "#cnn3.add(Dense(128, activation='relu'))\n",
    "#cnn3.add(Dropout(0.3))\n",
    "#cnn3.add(Dense(10, activation='softmax'))\n",
    "#\n",
    "#cnn3.compile(loss=keras.losses.categorical_crossentropy,\n",
    "#              optimizer=keras.optimizers.Adam(),\n",
    "#              metrics=['accuracy'])"
   ]
  },
  {
   "cell_type": "code",
   "execution_count": 16,
   "metadata": {},
   "outputs": [],
   "source": [
    "#cnn1.compile(optimizer='adam', \n",
    "#              loss='sparse_categorical_crossentropy',\n",
    "#              metrics=['accuracy'])"
   ]
  },
  {
   "cell_type": "code",
   "execution_count": 17,
   "metadata": {},
   "outputs": [],
   "source": [
    "model.compile(optimizer='adam', \n",
    "              loss='sparse_categorical_crossentropy',\n",
    "              metrics=['accuracy'])"
   ]
  },
  {
   "cell_type": "code",
   "execution_count": 18,
   "metadata": {},
   "outputs": [],
   "source": [
    "#cnn1.fit(train_images, train_labels, epochs=10)\n",
    "#"
   ]
  },
  {
   "cell_type": "code",
   "execution_count": 19,
   "metadata": {},
   "outputs": [
    {
     "name": "stdout",
     "output_type": "stream",
     "text": [
      "Epoch 1/10\n",
      "18000/18000 [==============================] - 16s 899us/sample - loss: 1.3278 - acc: 0.5611\n",
      "Epoch 2/10\n",
      "18000/18000 [==============================] - 14s 791us/sample - loss: 1.2922 - acc: 0.5668\n",
      "Epoch 3/10\n",
      "18000/18000 [==============================] - 15s 822us/sample - loss: 1.2820 - acc: 0.5667\n",
      "Epoch 4/10\n",
      "18000/18000 [==============================] - 15s 850us/sample - loss: 1.2397 - acc: 0.5847\n",
      "Epoch 5/10\n",
      "18000/18000 [==============================] - 16s 867us/sample - loss: 1.1277 - acc: 0.6413\n",
      "Epoch 6/10\n",
      "18000/18000 [==============================] - 16s 890us/sample - loss: 1.0640 - acc: 0.6635\n",
      "Epoch 7/10\n",
      "18000/18000 [==============================] - 18s 981us/sample - loss: 1.0538 - acc: 0.6688\n",
      "Epoch 8/10\n",
      "18000/18000 [==============================] - 27s 1ms/sample - loss: 1.0255 - acc: 0.6813\n",
      "Epoch 9/10\n",
      "18000/18000 [==============================] - 27s 1ms/sample - loss: 1.0172 - acc: 0.6798\n",
      "Epoch 10/10\n",
      "18000/18000 [==============================] - 24s 1ms/sample - loss: 1.0018 - acc: 0.6892\n"
     ]
    },
    {
     "data": {
      "text/plain": [
       "<tensorflow.python.keras.callbacks.History at 0x7fd00d96dfd0>"
      ]
     },
     "execution_count": 19,
     "metadata": {},
     "output_type": "execute_result"
    }
   ],
   "source": [
    "model.fit(train_images, train_labels, epochs=10)\n"
   ]
  },
  {
   "cell_type": "code",
   "execution_count": 20,
   "metadata": {},
   "outputs": [
    {
     "name": "stdout",
     "output_type": "stream",
     "text": [
      "3317/3317 [==============================] - 1s 350us/sample - loss: 1.0232 - acc: 0.6666\n",
      "Test accuracy: 0.6665662\n"
     ]
    }
   ],
   "source": [
    "test_loss, test_acc = model.evaluate(test_images, test_labels)\n",
    "\n",
    "print('Test accuracy:', test_acc)"
   ]
  },
  {
   "cell_type": "code",
   "execution_count": 21,
   "metadata": {},
   "outputs": [],
   "source": [
    "predictions = model.predict(test_images)"
   ]
  },
  {
   "cell_type": "code",
   "execution_count": 22,
   "metadata": {},
   "outputs": [
    {
     "name": "stdout",
     "output_type": "stream",
     "text": [
      "[0.044048   0.01934973 0.00480296 0.03077574 0.8325867  0.00511907\n",
      " 0.01112222 0.05219564] \n",
      " Predicted:  4  True one:  4\n"
     ]
    }
   ],
   "source": [
    "print(predictions[0], '\\n',\n",
    "      'Predicted: ', np.argmax(predictions[0]), ' True one: ', test_labels[0])\n"
   ]
  },
  {
   "cell_type": "code",
   "execution_count": 23,
   "metadata": {},
   "outputs": [],
   "source": [
    "##TEMPLATE DE COMO PEGAR O ARQUIVO\n",
    "#import numpy as np\n",
    "#from PIL import Image\n",
    "#\n",
    "#img = Image.open('SN000017_II_desg.png').convert('L')\n",
    "#arr = np.array(img)\n",
    "#arr = arr[5:35,10:56]\n",
    "## record the original shape\n",
    "#shape = arr.shape\n",
    "#\n",
    "## make a 1-dimensional view of arr\n",
    "#flat_arr = arr.ravel()\n",
    "#\n",
    "## convert it to a matrix\n",
    "#vector = np.matrix(flat_arr)\n",
    "#\n",
    "## do something to the vector\n",
    "#vector[:,::10] = 128\n",
    "#\n",
    "## reform a numpy array of the original shape\n",
    "#arr2 = np.asarray(vector).reshape(shape)\n",
    "#\n",
    "## make a PIL image\n",
    "#img2 = Image.fromarray(arr2, 'L')\n",
    "#img2.show()"
   ]
  },
  {
   "cell_type": "code",
   "execution_count": 24,
   "metadata": {},
   "outputs": [],
   "source": [
    "def plot_value_array(i, predictions_array, true_label):\n",
    "    predictions_array, true_label = predictions_array[i], true_label[i]\n",
    "    plt.grid(False)\n",
    "    plt.xticks([])\n",
    "    plt.yticks([])\n",
    "    thisplot = plt.bar(range(10), predictions_array, color=\"#777777\")\n",
    "    plt.ylim([0, 1]) \n",
    "    predicted_label = np.argmax(predictions_array)\n",
    "    thisplot[predicted_label].set_color('red')\n",
    "    thisplot[true_label].set_color('blue')\n"
   ]
  },
  {
   "cell_type": "code",
   "execution_count": 39,
   "metadata": {},
   "outputs": [
    {
     "data": {
      "text/plain": [
       "array([[ 445,    0,    0,    0,  361,    0,    0,    0],\n",
       "       [ 124,    0,    0,    0,  109,    0,    0,    0],\n",
       "       [  21,    0,    0,    0,   23,    0,    0,    0],\n",
       "       [  43,    0,    0,    0,  126,    0,    0,    0],\n",
       "       [  59,    0,    0,    0, 1766,    0,    0,    0],\n",
       "       [  49,    0,    0,    0,   27,    0,    0,    0],\n",
       "       [   6,    0,    0,    0,   28,    0,    0,    0],\n",
       "       [   7,    0,    0,    0,  123,    0,    0,    0]])"
      ]
     },
     "execution_count": 39,
     "metadata": {},
     "output_type": "execute_result"
    }
   ],
   "source": [
    "from sklearn.metrics import confusion_matrix\n",
    "y_true = test_labels\n",
    "y_pred = []\n",
    "for i in predictions:\n",
    "    y_pred.append(np.argmax(i))\n",
    "\n",
    "confusion_matrix(y_true, y_pred)"
   ]
  },
  {
   "cell_type": "code",
   "execution_count": null,
   "metadata": {},
   "outputs": [],
   "source": []
  },
  {
   "cell_type": "code",
   "execution_count": 54,
   "metadata": {},
   "outputs": [],
   "source": [
    "unique, counts = np.unique(labels, return_counts=True)"
   ]
  },
  {
   "cell_type": "code",
   "execution_count": 55,
   "metadata": {},
   "outputs": [
    {
     "data": {
      "text/plain": [
       "array([0, 1, 2, 3, 4, 5, 6, 7])"
      ]
     },
     "execution_count": 55,
     "metadata": {},
     "output_type": "execute_result"
    }
   ],
   "source": [
    "unique"
   ]
  },
  {
   "cell_type": "code",
   "execution_count": 56,
   "metadata": {},
   "outputs": [
    {
     "data": {
      "text/plain": [
       "array([ 5087,  1438,   259,  1103, 12027,   425,   189,   789])"
      ]
     },
     "execution_count": 56,
     "metadata": {},
     "output_type": "execute_result"
    }
   ],
   "source": [
    "counts"
   ]
  },
  {
   "cell_type": "code",
   "execution_count": 48,
   "metadata": {},
   "outputs": [
    {
     "data": {
      "text/plain": [
       "{'IIL': 5,\n",
       " 'IIP': 6,\n",
       " 'II_': 4,\n",
       " 'IIn': 7,\n",
       " 'Ia_': 0,\n",
       " 'Ib_': 1,\n",
       " 'Ibc': 2,\n",
       " 'Ic_': 3}"
      ]
     },
     "execution_count": 48,
     "metadata": {},
     "output_type": "execute_result"
    }
   ],
   "source": [
    "conversion"
   ]
  },
  {
   "cell_type": "code",
   "execution_count": 79,
   "metadata": {},
   "outputs": [
    {
     "data": {
      "text/plain": [
       "(3317,)"
      ]
     },
     "execution_count": 79,
     "metadata": {},
     "output_type": "execute_result"
    }
   ],
   "source": [
    "y_true.shape"
   ]
  },
  {
   "cell_type": "code",
   "execution_count": 82,
   "metadata": {},
   "outputs": [],
   "source": [
    "y_pred = np.asarray(y_pred)"
   ]
  },
  {
   "cell_type": "code",
   "execution_count": 99,
   "metadata": {},
   "outputs": [
    {
     "data": {
      "text/plain": [
       "{'IIL': 5,\n",
       " 'IIP': 6,\n",
       " 'II_': 4,\n",
       " 'IIn': 7,\n",
       " 'Ia_': 0,\n",
       " 'Ib_': 1,\n",
       " 'Ibc': 2,\n",
       " 'Ic_': 3}"
      ]
     },
     "execution_count": 99,
     "metadata": {},
     "output_type": "execute_result"
    }
   ],
   "source": [
    "conversion"
   ]
  },
  {
   "cell_type": "code",
   "execution_count": 97,
   "metadata": {},
   "outputs": [],
   "source": [
    "class_names = ['Ia','Ib','Ibc','Ic','II','IIL','IIP','IIn',]"
   ]
  },
  {
   "cell_type": "code",
   "execution_count": 107,
   "metadata": {},
   "outputs": [
    {
     "name": "stdout",
     "output_type": "stream",
     "text": [
      "Confusion matrix, without normalization\n",
      "Normalized confusion matrix\n"
     ]
    },
    {
     "data": {
      "image/png": "[encoded data removed]",
      "text/plain": [
       "<Figure size 576x576 with 2 Axes>"
      ]
     },
     "metadata": {
      "needs_background": "light"
     },
     "output_type": "display_data"
    },
    {
     "data": {
      "image/png": "[encoded data removed]",
      "text/plain": [
       "<Figure size 576x576 with 2 Axes>"
      ]
     },
     "metadata": {
      "needs_background": "light"
     },
     "output_type": "display_data"
    }
   ],
   "source": [
    "\n",
    "\n",
    "\n",
    "np.set_printoptions(precision=1)\n",
    "\n",
    "# Plot non-normalized confusion matrix\n",
    "plot_confusion_matrix(y_true, y_pred, classes=class_names,\n",
    "                      title='Confusion matrix, without normalization')\n",
    "\n",
    "# Plot normalized confusion matrix\n",
    "plot_confusion_matrix(y_true, y_pred, classes=class_names, normalize=True,\n",
    "                      title='Normalized confusion matrix')\n",
    "\n",
    "plt.show()\n"
   ]
  },
  {
   "cell_type": "code",
   "execution_count": 75,
   "metadata": {},
   "outputs": [
    {
     "data": {
      "text/plain": [
       "array([0, 1, 2, 3, 4, 5, 6, 7])"
      ]
     },
     "execution_count": 75,
     "metadata": {},
     "output_type": "execute_result"
    }
   ],
   "source": [
    "unique"
   ]
  },
  {
   "cell_type": "code",
   "execution_count": null,
   "metadata": {},
   "outputs": [],
   "source": []
  }
 ],
 "metadata": {
  "kernelspec": {
   "display_name": "Python 3",
   "language": "python",
   "name": "python3"
  },
  "language_info": {
   "codemirror_mode": {
    "name": "ipython",
    "version": 3
   },
   "file_extension": ".py",
   "mimetype": "text/x-python",
   "name": "python",
   "nbconvert_exporter": "python",
   "pygments_lexer": "ipython3",
   "version": "3.7.1"
  }
 },
 "nbformat": 4,
 "nbformat_minor": 2
}
