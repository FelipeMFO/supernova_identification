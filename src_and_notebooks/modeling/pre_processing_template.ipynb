{
 "cells": [
  {
   "cell_type": "code",
   "execution_count": 7,
   "metadata": {},
   "outputs": [],
   "source": [
    "import numpy as np\n",
    "import pandas as pd\n",
    "import os\n",
    "from PIL import Image"
   ]
  },
  {
   "cell_type": "code",
   "execution_count": 3,
   "metadata": {
    "scrolled": true
   },
   "outputs": [],
   "source": [
    "path_to_read = 'interpolate_data_low_quality/'\n",
    "files = []\n",
    "\n",
    "for r, d, f in os.walk(path_to_read):\n",
    "    for file in f:\n",
    "        if '.png' in file:\n",
    "            files.append(os.path.join(r, file))\n",
    "files.sort()\n",
    "np_files = np.asarray(files)"
   ]
  },
  {
   "cell_type": "code",
   "execution_count": 4,
   "metadata": {},
   "outputs": [],
   "source": [
    "##Verification if each transient has 4 curves\n",
    "#temp = 'SN000017'\n",
    "#count = 0\n",
    "#for f in np_files:\n",
    "#    if (count == 4):\n",
    "#        temp = f[29:37]\n",
    "#        count = 0\n",
    "#    if ((temp == f[29:37]) & (count < 4)):\n",
    "#        count += 1\n",
    "#    elif ((temp != f[29:37]) & (count < 4)):\n",
    "#        print(f)"
   ]
  },
  {
   "cell_type": "code",
   "execution_count": 5,
   "metadata": {},
   "outputs": [],
   "source": [
    "#set(types) -> {'IIL', 'IIP', 'II_', 'IIn', 'Ia_', 'Ib_', 'Ibc', 'Ic_'}\n",
    "conversion = {'IIL' : 5, 'IIP' : 7, 'II_' : 4, 'IIn' : 6, 'Ia_' : 0, 'Ib_' : 1, 'Ibc' : 2, 'Ic_' : 3}"
   ]
  },
  {
   "cell_type": "code",
   "execution_count": 8,
   "metadata": {},
   "outputs": [
    {
     "name": "stdout",
     "output_type": "stream",
     "text": [
      "The quantity of objects is:  21317\n"
     ]
    }
   ],
   "source": [
    "np_grouped = np_files.reshape(round(np_files.shape[0]/4), 4)\n",
    "class_id = []\n",
    "for g in np_grouped:\n",
    "    class_id = class_id + [[g[0][29:37], g[0][38:41]]] \n",
    "types = []\n",
    "for ids in class_id:\n",
    "    types = types + [conversion[ids[1]]]\n",
    "    \n",
    "astr_objs = []\n",
    "for i in range(len(np_grouped)):\n",
    "    astr_objs = astr_objs + [class_id[i]]\n",
    "    for file in np_grouped[i]:\n",
    "        img = Image.open(file).convert('L')\n",
    "        arr = np.array(img)\n",
    "        astr_objs[-1] = astr_objs[-1] + [arr[5:35,10:56]]\n",
    "\n",
    "print( \"The quantity of objects is: \", len(astr_objs))"
   ]
  },
  {
   "cell_type": "code",
   "execution_count": 12,
   "metadata": {},
   "outputs": [],
   "source": [
    "labels = []\n",
    "images = []\n",
    "ids = []\n",
    "for o in astr_objs:\n",
    "    labels.append((conversion[o[1]])) #converting here to numbers to assure label in training\n",
    "    images.append(o[2:])\n",
    "    ids.append(o[0])\n",
    "labels = np.asarray(labels)\n",
    "images = np.asarray(images)\n",
    "ids = np.asarray(ids)\n",
    "\n",
    "train_n = 18000\n",
    "\n",
    "train_labels = labels[0:train_n]\n",
    "test_labels = labels[train_n:]\n",
    "\n",
    "train_images = images[0:train_n]\n",
    "test_images = images[train_n:]\n",
    "\n",
    "train_ids = ids[0:train_n]\n",
    "test_ids = ids[train_n:]\n"
   ]
  },
  {
   "cell_type": "code",
   "execution_count": 16,
   "metadata": {},
   "outputs": [
    {
     "name": "stdout",
     "output_type": "stream",
     "text": [
      "The shapes of the objects are: (21317,) (21317,) (21317, 4, 30, 46) (18000, 4, 30, 46)\n"
     ]
    }
   ],
   "source": [
    "print('The shapes of the objects are:', ids.shape, labels.shape, images.shape, train_images.shape)"
   ]
  },
  {
   "cell_type": "code",
   "execution_count": 17,
   "metadata": {},
   "outputs": [],
   "source": [
    "train_images = np.around(train_images/255, decimals = 2)\n",
    "test_images = np.around(test_images/255, decimals = 2)"
   ]
  },
  {
   "cell_type": "code",
   "execution_count": 12,
   "metadata": {},
   "outputs": [],
   "source": []
  }
 ],
 "metadata": {
  "kernelspec": {
   "display_name": "Python 3",
   "language": "python",
   "name": "python3"
  },
  "language_info": {
   "codemirror_mode": {
    "name": "ipython",
    "version": 3
   },
   "file_extension": ".py",
   "mimetype": "text/x-python",
   "name": "python",
   "nbconvert_exporter": "python",
   "pygments_lexer": "ipython3",
   "version": "3.7.1"
  }
 },
 "nbformat": 4,
 "nbformat_minor": 2
}
