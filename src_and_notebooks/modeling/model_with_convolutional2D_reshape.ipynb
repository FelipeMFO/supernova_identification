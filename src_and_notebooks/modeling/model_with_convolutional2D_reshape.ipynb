{
 "cells": [
  {
   "cell_type": "code",
   "execution_count": 168,
   "metadata": {},
   "outputs": [],
   "source": [
    "%run ../processing/functions.ipynb"
   ]
  },
  {
   "cell_type": "code",
   "execution_count": 1,
   "metadata": {},
   "outputs": [
    {
     "name": "stdout",
     "output_type": "stream",
     "text": [
      "The quantity of objects is:  21317\n",
      "The shapes of the objects are:\n",
      "ids:  (21317,)\n",
      "labels:  (21317,)\n",
      "images:  (21317, 4, 30, 46)\n",
      "train_images:  (18000, 4, 30, 46)\n",
      "Other useful object: \"test_images\"\n",
      "1.13.1\n"
     ]
    }
   ],
   "source": [
    "%run pre_processing_template.ipynb"
   ]
  },
  {
   "cell_type": "code",
   "execution_count": 204,
   "metadata": {},
   "outputs": [],
   "source": [
    "import tensorflow as tf\n",
    "import matplotlib.pyplot as plt\n",
    "from tensorflow.keras.models import Sequential\n",
    "from tensorflow.keras.layers import Dense, Dropout, Activation, Flatten, Conv2D, MaxPooling2D, Conv3D, MaxPooling3D, ZeroPadding3D"
   ]
  },
  {
   "cell_type": "code",
   "execution_count": 171,
   "metadata": {},
   "outputs": [],
   "source": [
    "class_names = ['Ia','Ib','Ibc','Ic','II','IIL','IIP','IIn']"
   ]
  },
  {
   "cell_type": "code",
   "execution_count": 79,
   "metadata": {},
   "outputs": [],
   "source": [
    "#train_images.shape\n",
    "#test_images"
   ]
  },
  {
   "cell_type": "code",
   "execution_count": 146,
   "metadata": {},
   "outputs": [],
   "source": [
    "test_swaped = np.swapaxes(test_images,1,3)\n",
    "train_swaped = np.swapaxes(train_images,1,3)"
   ]
  },
  {
   "cell_type": "code",
   "execution_count": 144,
   "metadata": {},
   "outputs": [
    {
     "data": {
      "text/plain": [
       "(3317, 4, 30, 46)"
      ]
     },
     "execution_count": 144,
     "metadata": {},
     "output_type": "execute_result"
    }
   ],
   "source": [
    "test_images.shape"
   ]
  },
  {
   "cell_type": "code",
   "execution_count": 148,
   "metadata": {},
   "outputs": [
    {
     "data": {
      "text/plain": [
       "(3317, 46, 30, 4)"
      ]
     },
     "execution_count": 148,
     "metadata": {},
     "output_type": "execute_result"
    }
   ],
   "source": [
    "test_swaped.shape"
   ]
  },
  {
   "cell_type": "code",
   "execution_count": null,
   "metadata": {},
   "outputs": [],
   "source": []
  },
  {
   "cell_type": "markdown",
   "metadata": {},
   "source": [
    "# Model Convolution NN 2D"
   ]
  },
  {
   "cell_type": "code",
   "execution_count": 150,
   "metadata": {
    "scrolled": true
   },
   "outputs": [
    {
     "name": "stdout",
     "output_type": "stream",
     "text": [
      "_________________________________________________________________\n",
      "Layer (type)                 Output Shape              Param #   \n",
      "=================================================================\n",
      "conv2d_17 (Conv2D)           (None, 46, 30, 64)        4160      \n",
      "_________________________________________________________________\n",
      "conv2d_18 (Conv2D)           (None, 46, 30, 64)        36928     \n",
      "_________________________________________________________________\n",
      "max_pooling2d_12 (MaxPooling (None, 23, 15, 64)        0         \n",
      "_________________________________________________________________\n",
      "conv2d_19 (Conv2D)           (None, 23, 15, 64)        36928     \n",
      "_________________________________________________________________\n",
      "max_pooling2d_13 (MaxPooling (None, 11, 7, 64)         0         \n",
      "_________________________________________________________________\n",
      "flatten_20 (Flatten)         (None, 4928)              0         \n",
      "_________________________________________________________________\n",
      "dense_50 (Dense)             (None, 8)                 39432     \n",
      "=================================================================\n",
      "Total params: 117,448\n",
      "Trainable params: 117,448\n",
      "Non-trainable params: 0\n",
      "_________________________________________________________________\n"
     ]
    }
   ],
   "source": [
    "img_rows, img_cols = 30, 46\n",
    "input_shape = (img_cols, img_rows, 4)\n",
    "\n",
    "model_cv = Sequential()\n",
    "\n",
    "model_cv.add(Conv2D(64, kernel_size=(4,4), padding='same', activation='relu', input_shape=input_shape))\n",
    "model_cv.add(Conv2D(64, kernel_size=(3,3), padding='same', activation='relu', input_shape=input_shape))\n",
    "model_cv.add(MaxPooling2D(pool_size=(2,2)))\n",
    "model_cv.add(Conv2D(64, kernel_size=(3,3), padding='same', activation='relu', input_shape=input_shape))\n",
    "model_cv.add(MaxPooling2D(pool_size=(2,2)))\n",
    "\n",
    "\n",
    "model_cv.add(Flatten())\n",
    "model_cv.add(Dense(8, activation=tf.nn.softmax))\n",
    "\n",
    "model_cv.summary()"
   ]
  },
  {
   "cell_type": "code",
   "execution_count": 151,
   "metadata": {},
   "outputs": [],
   "source": [
    "model_cv.compile(optimizer='adam', #optimizer = 'adadelta'\n",
    "              loss='sparse_categorical_crossentropy', #loss = \"binary_crossentropy\"\n",
    "              metrics=['accuracy'])"
   ]
  },
  {
   "cell_type": "code",
   "execution_count": 153,
   "metadata": {},
   "outputs": [
    {
     "name": "stdout",
     "output_type": "stream",
     "text": [
      "Epoch 1/10\n",
      "18000/18000 [==============================] - 141s 8ms/sample - loss: 1.1743 - acc: 0.6222\n",
      "Epoch 2/10\n",
      "18000/18000 [==============================] - 141s 8ms/sample - loss: 0.9224 - acc: 0.7160\n",
      "Epoch 3/10\n",
      "18000/18000 [==============================] - 145s 8ms/sample - loss: 0.8783 - acc: 0.7248\n",
      "Epoch 4/10\n",
      "18000/18000 [==============================] - 143s 8ms/sample - loss: 0.8313 - acc: 0.7352\n",
      "Epoch 5/10\n",
      "18000/18000 [==============================] - 142s 8ms/sample - loss: 0.7952 - acc: 0.7421\n",
      "Epoch 6/10\n",
      "18000/18000 [==============================] - 141s 8ms/sample - loss: 0.7566 - acc: 0.7525\n",
      "Epoch 7/10\n",
      "18000/18000 [==============================] - 142s 8ms/sample - loss: 0.7241 - acc: 0.7634\n",
      "Epoch 8/10\n",
      "18000/18000 [==============================] - 143s 8ms/sample - loss: 0.6931 - acc: 0.7720\n",
      "Epoch 9/10\n",
      "18000/18000 [==============================] - 142s 8ms/sample - loss: 0.6648 - acc: 0.7789\n",
      "Epoch 10/10\n",
      "18000/18000 [==============================] - 141s 8ms/sample - loss: 0.6370 - acc: 0.7864\n"
     ]
    },
    {
     "data": {
      "text/plain": [
       "<tensorflow.python.keras.callbacks.History at 0x7fbda16a0ef0>"
      ]
     },
     "execution_count": 153,
     "metadata": {},
     "output_type": "execute_result"
    }
   ],
   "source": [
    "model_cv.fit(train_swaped, train_labels, #validation_split = 0.1\n",
    "             epochs=10) "
   ]
  },
  {
   "cell_type": "markdown",
   "metadata": {},
   "source": [
    "# Train using simple Layers: tf.keras.layers.Dense"
   ]
  },
  {
   "cell_type": "code",
   "execution_count": 122,
   "metadata": {},
   "outputs": [
    {
     "name": "stdout",
     "output_type": "stream",
     "text": [
      "_________________________________________________________________\n",
      "Layer (type)                 Output Shape              Param #   \n",
      "=================================================================\n",
      "flatten_18 (Flatten)         (None, 5520)              0         \n",
      "_________________________________________________________________\n",
      "dense_43 (Dense)             (None, 128)               706688    \n",
      "_________________________________________________________________\n",
      "dense_44 (Dense)             (None, 128)               16512     \n",
      "_________________________________________________________________\n",
      "dense_45 (Dense)             (None, 128)               16512     \n",
      "_________________________________________________________________\n",
      "dense_46 (Dense)             (None, 128)               16512     \n",
      "_________________________________________________________________\n",
      "dense_47 (Dense)             (None, 128)               16512     \n",
      "_________________________________________________________________\n",
      "dense_48 (Dense)             (None, 8)                 1032      \n",
      "=================================================================\n",
      "Total params: 773,768\n",
      "Trainable params: 773,768\n",
      "Non-trainable params: 0\n",
      "_________________________________________________________________\n"
     ]
    }
   ],
   "source": [
    "img_rows, img_cols = 30, 46\n",
    "input_shape = (4, img_rows, img_cols)\n",
    "\n",
    "model = keras.Sequential([\n",
    "    keras.layers.Flatten(input_shape=(4, 30, 46)), #aqui mudar o novo shape () 64x40 iu 46x30, x4 talvez \n",
    "    #Transform the 2d array into a 1d with mxn \n",
    "    keras.layers.Dense(128, activation=tf.nn.relu),\n",
    "    keras.layers.Dense(128, activation=tf.nn.relu),\n",
    "    keras.layers.Dense(128, activation=tf.nn.relu),\n",
    "    keras.layers.Dense(128, activation=tf.nn.relu),\n",
    "    keras.layers.Dense(128, activation=tf.nn.relu),\n",
    "    keras.layers.Dense(8, activation=tf.nn.softmax) #exit layer, change to the number of class we have ()\n",
    "])\n",
    "\n",
    "model.summary()"
   ]
  },
  {
   "cell_type": "code",
   "execution_count": 126,
   "metadata": {},
   "outputs": [],
   "source": [
    "model.compile(optimizer='adam', \n",
    "              loss='sparse_categorical_crossentropy',\n",
    "              metrics=['accuracy'])"
   ]
  },
  {
   "cell_type": "code",
   "execution_count": 132,
   "metadata": {},
   "outputs": [
    {
     "name": "stdout",
     "output_type": "stream",
     "text": [
      "Epoch 1/10\n",
      "18000/18000 [==============================] - 22s 1ms/sample - loss: 1.3186 - acc: 0.5605\n",
      "Epoch 2/10\n",
      "18000/18000 [==============================] - 19s 1ms/sample - loss: 1.2928 - acc: 0.5668\n",
      "Epoch 3/10\n",
      "18000/18000 [==============================] - 22s 1ms/sample - loss: 1.2581 - acc: 0.5698\n",
      "Epoch 4/10\n",
      "18000/18000 [==============================] - 18s 1ms/sample - loss: 1.1575 - acc: 0.6217\n",
      "Epoch 5/10\n",
      "18000/18000 [==============================] - 27s 2ms/sample - loss: 1.0776 - acc: 0.6574\n",
      "Epoch 6/10\n",
      "18000/18000 [==============================] - 20s 1ms/sample - loss: 1.0496 - acc: 0.6695\n",
      "Epoch 7/10\n",
      "18000/18000 [==============================] - 26s 1ms/sample - loss: 1.0329 - acc: 0.6772\n",
      "Epoch 8/10\n",
      "18000/18000 [==============================] - 19s 1ms/sample - loss: 1.0242 - acc: 0.6787\n",
      "Epoch 9/10\n",
      "18000/18000 [==============================] - 16s 888us/sample - loss: 0.9992 - acc: 0.6879\n",
      "Epoch 10/10\n",
      "18000/18000 [==============================] - 20s 1ms/sample - loss: 1.0078 - acc: 0.6847\n"
     ]
    },
    {
     "data": {
      "text/plain": [
       "<tensorflow.python.keras.callbacks.History at 0x7fbda1f96978>"
      ]
     },
     "execution_count": 132,
     "metadata": {},
     "output_type": "execute_result"
    }
   ],
   "source": [
    "model.fit(train_images, train_labels, epochs=10)"
   ]
  },
  {
   "cell_type": "markdown",
   "metadata": {},
   "source": [
    "# CNN1 another structure"
   ]
  },
  {
   "cell_type": "code",
   "execution_count": 118,
   "metadata": {},
   "outputs": [
    {
     "name": "stdout",
     "output_type": "stream",
     "text": [
      "_________________________________________________________________\n",
      "Layer (type)                 Output Shape              Param #   \n",
      "=================================================================\n",
      "conv2d_13 (Conv2D)           (None, 2, 28, 32)         13280     \n",
      "_________________________________________________________________\n",
      "max_pooling2d_9 (MaxPooling2 (None, 1, 14, 32)         0         \n",
      "_________________________________________________________________\n",
      "dropout_2 (Dropout)          (None, 1, 14, 32)         0         \n",
      "_________________________________________________________________\n",
      "flatten_17 (Flatten)         (None, 448)               0         \n",
      "_________________________________________________________________\n",
      "dense_41 (Dense)             (None, 128)               57472     \n",
      "_________________________________________________________________\n",
      "dense_42 (Dense)             (None, 10)                1290      \n",
      "=================================================================\n",
      "Total params: 72,042\n",
      "Trainable params: 72,042\n",
      "Non-trainable params: 0\n",
      "_________________________________________________________________\n"
     ]
    }
   ],
   "source": [
    "img_rows, img_cols = 30, 46\n",
    "input_shape = (4, img_rows, img_cols)\n",
    "\n",
    "cnn1 = Sequential()\n",
    "cnn1.add(Conv2D(32, kernel_size=(3, 3), activation='relu', input_shape=input_shape))\n",
    "cnn1.add(MaxPooling2D(pool_size=(2, 2)))\n",
    "cnn1.add(Dropout(0.2))\n",
    "\n",
    "cnn1.add(Flatten())\n",
    "\n",
    "cnn1.add(Dense(128, activation='relu'))\n",
    "cnn1.add(Dense(10, activation='softmax'))\n",
    "\n",
    "cnn1.summary()"
   ]
  },
  {
   "cell_type": "code",
   "execution_count": 125,
   "metadata": {},
   "outputs": [],
   "source": [
    "cnn1.compile(optimizer='adam', \n",
    "              loss='sparse_categorical_crossentropy',\n",
    "              metrics=['accuracy'])"
   ]
  },
  {
   "cell_type": "code",
   "execution_count": 131,
   "metadata": {},
   "outputs": [
    {
     "name": "stdout",
     "output_type": "stream",
     "text": [
      "Epoch 1/10\n",
      "18000/18000 [==============================] - 10s 581us/sample - loss: 1.1340 - acc: 0.6315\n",
      "Epoch 2/10\n",
      "18000/18000 [==============================] - 10s 561us/sample - loss: 1.1208 - acc: 0.6397\n",
      "Epoch 3/10\n",
      "18000/18000 [==============================] - 19s 1ms/sample - loss: 1.1229 - acc: 0.6356\n",
      "Epoch 4/10\n",
      "18000/18000 [==============================] - 24s 1ms/sample - loss: 1.1212 - acc: 0.6397\n",
      "Epoch 5/10\n",
      "18000/18000 [==============================] - 25s 1ms/sample - loss: 1.1176 - acc: 0.6378\n",
      "Epoch 6/10\n",
      "18000/18000 [==============================] - 25s 1ms/sample - loss: 1.1143 - acc: 0.6422\n",
      "Epoch 7/10\n",
      "18000/18000 [==============================] - 25s 1ms/sample - loss: 1.1054 - acc: 0.6448\n",
      "Epoch 8/10\n",
      "18000/18000 [==============================] - 22s 1ms/sample - loss: 1.1048 - acc: 0.6471\n",
      "Epoch 9/10\n",
      "18000/18000 [==============================] - 17s 921us/sample - loss: 1.0983 - acc: 0.6490\n",
      "Epoch 10/10\n",
      "18000/18000 [==============================] - 13s 747us/sample - loss: 1.0967 - acc: 0.6469\n"
     ]
    },
    {
     "data": {
      "text/plain": [
       "<tensorflow.python.keras.callbacks.History at 0x7fbda2728358>"
      ]
     },
     "execution_count": 131,
     "metadata": {},
     "output_type": "execute_result"
    }
   ],
   "source": [
    "cnn1.fit(train_images, train_labels, epochs=10)"
   ]
  },
  {
   "cell_type": "markdown",
   "metadata": {},
   "source": [
    "# Evaluation"
   ]
  },
  {
   "cell_type": "code",
   "execution_count": 156,
   "metadata": {},
   "outputs": [
    {
     "name": "stdout",
     "output_type": "stream",
     "text": [
      "3317/3317 [==============================] - 1s 294us/sample - loss: 1.0613 - acc: 0.6551\n",
      "3317/3317 [==============================] - 9s 3ms/sample - loss: 0.8393 - acc: 0.7320\n",
      "3317/3317 [==============================] - 1s 298us/sample - loss: 1.1046 - acc: 0.6548\n",
      "Test accuracy model: 0.65511006\n",
      "Test accuracy model_cv: 0.73198676\n",
      "Test accuracy cnn: 0.6548086\n"
     ]
    }
   ],
   "source": [
    "test_loss_model, test_acc_model = model.evaluate(test_images, test_labels)\n",
    "test_loss_cv, test_acc_cv = model_cv.evaluate(test_swaped, test_labels)\n",
    "test_loss_cnn, test_acc_cnn = cnn1.evaluate(test_images, test_labels)\n",
    "\n",
    "print('Test accuracy model:', test_acc_model)\n",
    "print('Test accuracy model_cv:', test_acc_cv)\n",
    "print('Test accuracy cnn:', test_acc_cnn)"
   ]
  },
  {
   "cell_type": "code",
   "execution_count": 158,
   "metadata": {},
   "outputs": [
    {
     "name": "stdout",
     "output_type": "stream",
     "text": [
      "[9.5722053e-06 8.8233675e-04 2.1723541e-04 2.3779287e-03 9.8737490e-01\n",
      " 2.6400987e-05 3.5215167e-03 5.5901473e-03] \n",
      " Predicted:  4  True one:  4\n"
     ]
    }
   ],
   "source": [
    "predictions = model_cv.predict(test_swaped)\n",
    "print(predictions[0], '\\n',\n",
    "      'Predicted: ', np.argmax(predictions[0]), ' True one: ', test_labels[0])"
   ]
  },
  {
   "cell_type": "code",
   "execution_count": 162,
   "metadata": {},
   "outputs": [],
   "source": [
    "from sklearn.metrics import confusion_matrix\n",
    "y_true = test_labels\n",
    "y_pred = []\n",
    "for i in predictions:\n",
    "    y_pred.append(np.argmax(i))\n",
    "\n",
    "cm = confusion_matrix(y_true, y_pred)"
   ]
  },
  {
   "cell_type": "code",
   "execution_count": 167,
   "metadata": {},
   "outputs": [
    {
     "ename": "TypeError",
     "evalue": "only integer scalar arrays can be converted to a scalar index",
     "output_type": "error",
     "traceback": [
      "\u001b[0;31m---------------------------------------------------------------------------\u001b[0m",
      "\u001b[0;31mTypeError\u001b[0m                                 Traceback (most recent call last)",
      "\u001b[0;32m<ipython-input-167-445b0a0b9a2c>\u001b[0m in \u001b[0;36m<module>\u001b[0;34m\u001b[0m\n\u001b[1;32m      1\u001b[0m \u001b[0mcm_plot_labels\u001b[0m \u001b[0;34m=\u001b[0m \u001b[0;34m[\u001b[0m\u001b[0;36m1\u001b[0m\u001b[0;34m,\u001b[0m\u001b[0;36m2\u001b[0m\u001b[0;34m,\u001b[0m\u001b[0;36m3\u001b[0m\u001b[0;34m,\u001b[0m\u001b[0;36m4\u001b[0m\u001b[0;34m,\u001b[0m\u001b[0;36m5\u001b[0m\u001b[0;34m,\u001b[0m\u001b[0;36m6\u001b[0m\u001b[0;34m,\u001b[0m\u001b[0;36m7\u001b[0m\u001b[0;34m,\u001b[0m\u001b[0;36m8\u001b[0m\u001b[0;34m]\u001b[0m\u001b[0;34m\u001b[0m\u001b[0;34m\u001b[0m\u001b[0m\n\u001b[0;32m----> 2\u001b[0;31m \u001b[0mplot_confusion_matrix\u001b[0m\u001b[0;34m(\u001b[0m\u001b[0my_true\u001b[0m\u001b[0;34m,\u001b[0m \u001b[0my_pred\u001b[0m\u001b[0;34m,\u001b[0m \u001b[0mcm_plot_labels\u001b[0m\u001b[0;34m,\u001b[0m \u001b[0mtitle\u001b[0m \u001b[0;34m=\u001b[0m \u001b[0;34m\"Confusion cv\"\u001b[0m\u001b[0;34m)\u001b[0m\u001b[0;34m\u001b[0m\u001b[0;34m\u001b[0m\u001b[0m\n\u001b[0m",
      "\u001b[0;32m<ipython-input-160-251a1b254fb7>\u001b[0m in \u001b[0;36mplot_confusion_matrix\u001b[0;34m(y_true, y_pred, classes, normalize, title, cmap)\u001b[0m\n\u001b[1;32m     18\u001b[0m     \u001b[0mcm\u001b[0m \u001b[0;34m=\u001b[0m \u001b[0mconfusion_matrix\u001b[0m\u001b[0;34m(\u001b[0m\u001b[0my_true\u001b[0m\u001b[0;34m,\u001b[0m \u001b[0my_pred\u001b[0m\u001b[0;34m)\u001b[0m\u001b[0;34m\u001b[0m\u001b[0;34m\u001b[0m\u001b[0m\n\u001b[1;32m     19\u001b[0m     \u001b[0;31m# Only use the labels that appear in the data\u001b[0m\u001b[0;34m\u001b[0m\u001b[0;34m\u001b[0m\u001b[0;34m\u001b[0m\u001b[0m\n\u001b[0;32m---> 20\u001b[0;31m     \u001b[0mclasses\u001b[0m \u001b[0;34m=\u001b[0m \u001b[0mclasses\u001b[0m\u001b[0;34m[\u001b[0m\u001b[0munique_labels\u001b[0m\u001b[0;34m(\u001b[0m\u001b[0my_true\u001b[0m\u001b[0;34m,\u001b[0m \u001b[0my_pred\u001b[0m\u001b[0;34m)\u001b[0m\u001b[0;34m]\u001b[0m\u001b[0;34m\u001b[0m\u001b[0;34m\u001b[0m\u001b[0m\n\u001b[0m\u001b[1;32m     21\u001b[0m     \u001b[0;32mif\u001b[0m \u001b[0mnormalize\u001b[0m\u001b[0;34m:\u001b[0m\u001b[0;34m\u001b[0m\u001b[0;34m\u001b[0m\u001b[0m\n\u001b[1;32m     22\u001b[0m         \u001b[0mcm\u001b[0m \u001b[0;34m=\u001b[0m \u001b[0mcm\u001b[0m\u001b[0;34m.\u001b[0m\u001b[0mastype\u001b[0m\u001b[0;34m(\u001b[0m\u001b[0;34m'float'\u001b[0m\u001b[0;34m)\u001b[0m \u001b[0;34m/\u001b[0m \u001b[0mcm\u001b[0m\u001b[0;34m.\u001b[0m\u001b[0msum\u001b[0m\u001b[0;34m(\u001b[0m\u001b[0maxis\u001b[0m\u001b[0;34m=\u001b[0m\u001b[0;36m1\u001b[0m\u001b[0;34m)\u001b[0m\u001b[0;34m[\u001b[0m\u001b[0;34m:\u001b[0m\u001b[0;34m,\u001b[0m \u001b[0mnp\u001b[0m\u001b[0;34m.\u001b[0m\u001b[0mnewaxis\u001b[0m\u001b[0;34m]\u001b[0m\u001b[0;34m\u001b[0m\u001b[0;34m\u001b[0m\u001b[0m\n",
      "\u001b[0;31mTypeError\u001b[0m: only integer scalar arrays can be converted to a scalar index"
     ]
    }
   ],
   "source": [
    "cm_plot_labels = [1,2,3,4,5,6,7,8]\n",
    "plot_confusion_matrix(y_true, y_pred, cm_plot_labels, title = \"Confusion cv\")"
   ]
  },
  {
   "cell_type": "code",
   "execution_count": 175,
   "metadata": {},
   "outputs": [
    {
     "data": {
      "text/plain": [
       "<function sklearn.metrics.classification.confusion_matrix(y_true, y_pred, labels=None, sample_weight=None)>"
      ]
     },
     "execution_count": 175,
     "metadata": {},
     "output_type": "execute_result"
    }
   ],
   "source": [
    "confusion_matrix"
   ]
  },
  {
   "cell_type": "code",
   "execution_count": 172,
   "metadata": {},
   "outputs": [
    {
     "data": {
      "text/plain": [
       "{'IIL': 5,\n",
       " 'IIP': 7,\n",
       " 'II_': 4,\n",
       " 'IIn': 6,\n",
       " 'Ia_': 0,\n",
       " 'Ib_': 1,\n",
       " 'Ibc': 2,\n",
       " 'Ic_': 3}"
      ]
     },
     "execution_count": 172,
     "metadata": {},
     "output_type": "execute_result"
    }
   ],
   "source": [
    "conversion"
   ]
  },
  {
   "cell_type": "code",
   "execution_count": 177,
   "metadata": {},
   "outputs": [
    {
     "data": {
      "text/plain": [
       "['Ia', 'Ib', 'Ibc', 'Ic', 'II', 'IIL', 'IIP', 'IIn']"
      ]
     },
     "execution_count": 177,
     "metadata": {},
     "output_type": "execute_result"
    }
   ],
   "source": [
    "class_names"
   ]
  },
  {
   "cell_type": "code",
   "execution_count": null,
   "metadata": {},
   "outputs": [],
   "source": []
  },
  {
   "cell_type": "code",
   "execution_count": null,
   "metadata": {},
   "outputs": [],
   "source": []
  },
  {
   "cell_type": "code",
   "execution_count": 206,
   "metadata": {},
   "outputs": [],
   "source": [
    "def plot_confusion_matrix(y_true, y_pred, classes,\n",
    "                          normalize=False,\n",
    "                          title=None,\n",
    "                          cmap=plt.cm.Blues):\n",
    "    \"\"\"\n",
    "    This function prints and plots the confusion matrix.\n",
    "    Normalization can be applied by setting `normalize=True`.\n",
    "    \"\"\"\n",
    "    if not title:\n",
    "        if normalize:\n",
    "            title = 'Normalized confusion matrix'\n",
    "        else:\n",
    "            title = 'Confusion matrix, without normalization'\n",
    "\n",
    "    # Compute confusion matrix\n",
    "    cm = confusion_matrix(y_true, y_pred)\n",
    "    # Only use the labels that appear in the data\n",
    "    #classes = classes[unique_labels(y_true, y_pred)]\n",
    "    if normalize:\n",
    "        cm = cm.astype('float') / cm.sum(axis=1)[:, np.newaxis]\n",
    "        print(\"Normalized confusion matrix\")\n",
    "    else:\n",
    "        print('Confusion matrix, without normalization')\n",
    "\n",
    "    print(cm)\n",
    "\n",
    "    fig, ax = plt.subplots()\n",
    "    im = ax.imshow(cm, interpolation='nearest', cmap=cmap)\n",
    "    ax.figure.colorbar(im, ax=ax)\n",
    "    # We want to show all ticks...\n",
    "    ax.set(xticks=np.arange(cm.shape[1]),\n",
    "           yticks=np.arange(cm.shape[0]),\n",
    "           # ... and label them with the respective list entries\n",
    "           xticklabels=classes, yticklabels=classes,\n",
    "           title=title,\n",
    "           ylabel='True label',\n",
    "           xlabel='Predicted label')\n",
    "\n",
    "    # Rotate the tick labels and set their alignment.\n",
    "    plt.setp(ax.get_xticklabels(), rotation=45, ha=\"right\",\n",
    "             rotation_mode=\"anchor\")\n",
    "\n",
    "    # Loop over data dimensions and create text annotations.\n",
    "    fmt = '.2f' if normalize else 'd'\n",
    "    thresh = cm.max() / 2.\n",
    "    for i in range(cm.shape[0]):\n",
    "        for j in range(cm.shape[1]):\n",
    "            ax.text(j, i, format(cm[i, j], fmt),\n",
    "                    ha=\"center\", va=\"center\",\n",
    "                    color=\"white\" if cm[i, j] > thresh else \"black\")\n",
    "    fig.tight_layout()\n",
    "    return ax\n"
   ]
  },
  {
   "cell_type": "code",
   "execution_count": null,
   "metadata": {},
   "outputs": [],
   "source": []
  },
  {
   "cell_type": "code",
   "execution_count": 208,
   "metadata": {},
   "outputs": [
    {
     "name": "stdout",
     "output_type": "stream",
     "text": [
      "Confusion matrix, without normalization\n",
      "[[ 575   56    4   25  140    3    3    0]\n",
      " [ 113   38    1   14   66    1    0    0]\n",
      " [  14    4    2    5   18    0    1    0]\n",
      " [  47   10    0   20   88    1    3    0]\n",
      " [  39    9    1   23 1737    2   14    0]\n",
      " [  31    9    0    4   19   12    1    0]\n",
      " [   3    1    0    2   81    0   43    0]\n",
      " [   4    1    0    2   26    0    0    1]]\n",
      "Normalized confusion matrix\n",
      "[[7.13e-01 6.95e-02 4.96e-03 3.10e-02 1.74e-01 3.72e-03 3.72e-03 0.00e+00]\n",
      " [4.85e-01 1.63e-01 4.29e-03 6.01e-02 2.83e-01 4.29e-03 0.00e+00 0.00e+00]\n",
      " [3.18e-01 9.09e-02 4.55e-02 1.14e-01 4.09e-01 0.00e+00 2.27e-02 0.00e+00]\n",
      " [2.78e-01 5.92e-02 0.00e+00 1.18e-01 5.21e-01 5.92e-03 1.78e-02 0.00e+00]\n",
      " [2.14e-02 4.93e-03 5.48e-04 1.26e-02 9.52e-01 1.10e-03 7.67e-03 0.00e+00]\n",
      " [4.08e-01 1.18e-01 0.00e+00 5.26e-02 2.50e-01 1.58e-01 1.32e-02 0.00e+00]\n",
      " [2.31e-02 7.69e-03 0.00e+00 1.54e-02 6.23e-01 0.00e+00 3.31e-01 0.00e+00]\n",
      " [1.18e-01 2.94e-02 0.00e+00 5.88e-02 7.65e-01 0.00e+00 0.00e+00 2.94e-02]]\n"
     ]
    }
   ],
   "source": [
    "np.set_printoptions(precision=2)\n",
    "\n",
    "# Plot non-normalized confusion matrix\n",
    "plot_confusion_matrix(y_true, y_pred, classes=class_names,\n",
    "                      title='Confusion matrix, without normalization')\n",
    "\n",
    "# Plot normalized confusion matrix\n",
    "plot_confusion_matrix(y_true, y_pred, classes=class_names, normalize=True,\n",
    "                      title='Normalized confusion matrix')\n",
    "\n",
    "plt.show()"
   ]
  },
  {
   "cell_type": "code",
   "execution_count": 203,
   "metadata": {},
   "outputs": [
    {
     "data": {
      "text/plain": [
       "'/home/felipematheus/anaconda3/lib/python3.7/site-packages/matplotlib/mpl-data/matplotlibrc'"
      ]
     },
     "execution_count": 203,
     "metadata": {},
     "output_type": "execute_result"
    }
   ],
   "source": [
    "import matplotlib\n",
    "matplotlib.matplotlib_fname()\n"
   ]
  },
  {
   "cell_type": "code",
   "execution_count": 202,
   "metadata": {},
   "outputs": [
    {
     "name": "stdout",
     "output_type": "stream",
     "text": [
      "['GTK3Agg', 'GTK3Cairo', 'MacOSX', 'nbAgg', 'Qt4Agg', 'Qt4Cairo', 'Qt5Agg', 'Qt5Cairo', 'TkAgg', 'TkCairo', 'WebAgg', 'WX', 'WXAgg', 'WXCairo', 'agg', 'cairo', 'pdf', 'pgf', 'ps', 'svg', 'template']\n"
     ]
    }
   ],
   "source": [
    "import matplotlib.rcsetup as rcsetup\n",
    "print(rcsetup.all_backends)"
   ]
  },
  {
   "cell_type": "code",
   "execution_count": null,
   "metadata": {},
   "outputs": [],
   "source": [
    "GTK3Agg"
   ]
  }
 ],
 "metadata": {
  "kernelspec": {
   "display_name": "Python 3",
   "language": "python",
   "name": "python3"
  },
  "language_info": {
   "codemirror_mode": {
    "name": "ipython",
    "version": 3
   },
   "file_extension": ".py",
   "mimetype": "text/x-python",
   "name": "python",
   "nbconvert_exporter": "python",
   "pygments_lexer": "ipython3",
   "version": "3.7.1"
  }
 },
 "nbformat": 4,
 "nbformat_minor": 2
}
