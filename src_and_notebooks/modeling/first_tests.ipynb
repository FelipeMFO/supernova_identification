{
 "cells": [
  {
   "cell_type": "code",
   "execution_count": 1,
   "metadata": {},
   "outputs": [],
   "source": [
    "%run ../processing/read_data.py\n",
    "%run ../processing/functions.ipynb\n",
    "\n",
    "from tensorflow.examples.tutorials.mnist import input_data\n",
    "import numpy as np\n",
    "import pandas as pd\n",
    "import tensorflow as tf\n",
    "import os\n",
    "import time\n",
    "from PIL import Image"
   ]
  },
  {
   "cell_type": "code",
   "execution_count": 2,
   "metadata": {},
   "outputs": [
    {
     "name": "stdout",
     "output_type": "stream",
     "text": [
      "1.13.1\n"
     ]
    }
   ],
   "source": [
    "from __future__ import absolute_import, division, print_function\n",
    "\n",
    "# TensorFlow and tf.keras\n",
    "import tensorflow as tf\n",
    "from tensorflow import keras\n",
    "\n",
    "# Helper libraries\n",
    "import numpy as np\n",
    "import matplotlib.pyplot as plt\n",
    "\n",
    "print(tf.__version__)"
   ]
  },
  {
   "cell_type": "code",
   "execution_count": 3,
   "metadata": {},
   "outputs": [],
   "source": [
    "path_to_read = '../../data/interpolate_data_low_quality/'\n",
    "files = []\n",
    "\n",
    "for r, d, f in os.walk(path_to_read):\n",
    "    for file in f:\n",
    "        if '.png' in file:\n",
    "            files.append(os.path.join(r, file))\n",
    "files.sort()\n",
    "np_files = np.asarray(files)"
   ]
  },
  {
   "cell_type": "code",
   "execution_count": null,
   "metadata": {},
   "outputs": [],
   "source": []
  },
  {
   "cell_type": "code",
   "execution_count": 4,
   "metadata": {},
   "outputs": [],
   "source": [
    "##Verification if each transient has 4 curves\n",
    "#temp = 'SN000017'\n",
    "#count = 0\n",
    "#for f in np_files:\n",
    "#    if (count == 4):\n",
    "#        temp = f[40:48]\n",
    "#        count = 0\n",
    "#    if ((temp == f[40:48]) & (count < 4)):\n",
    "#        count += 1\n",
    "#    elif ((temp != f[40:48]) & (count < 4)):\n",
    "#        print(f)"
   ]
  },
  {
   "cell_type": "code",
   "execution_count": 5,
   "metadata": {},
   "outputs": [],
   "source": [
    "#set(types) -> {'IIL', 'IIP', 'II_', 'IIn', 'Ia_', 'Ib_', 'Ibc', 'Ic_'}\n",
    "conversion = {'IIL' : 5, 'IIP' : 7, 'II_' : 4, 'IIn' : 6, 'Ia_' : 0, 'Ib_' : 1, 'Ibc' : 2, 'Ic_' : 3}"
   ]
  },
  {
   "cell_type": "code",
   "execution_count": 6,
   "metadata": {
    "scrolled": true
   },
   "outputs": [
    {
     "data": {
      "text/plain": [
       "{0, 1, 2, 3, 4, 5, 6, 7}"
      ]
     },
     "execution_count": 6,
     "metadata": {},
     "output_type": "execute_result"
    }
   ],
   "source": [
    "np_grouped = np_files.reshape(round(np_files.shape[0]/4), 4)\n",
    "class_id = []\n",
    "for g in np_grouped:\n",
    "    class_id = class_id + [[g[0][40:48], g[0][49:52]]] \n",
    "types = []\n",
    "for ids in class_id:\n",
    "    types = types + [conversion[ids[1]]]\n",
    "set(types)"
   ]
  },
  {
   "cell_type": "code",
   "execution_count": 7,
   "metadata": {},
   "outputs": [
    {
     "data": {
      "text/plain": [
       "21317"
      ]
     },
     "execution_count": 7,
     "metadata": {},
     "output_type": "execute_result"
    }
   ],
   "source": [
    "astr_objs = []\n",
    "for i in range(len(np_grouped)):\n",
    "    astr_objs = astr_objs + [class_id[i]]\n",
    "    for file in np_grouped[i]:\n",
    "        img = Image.open(file).convert('L')\n",
    "        arr = np.array(img)\n",
    "        astr_objs[-1] = astr_objs[-1] + [arr[5:35,10:56]]\n",
    "len(astr_objs)\n"
   ]
  },
  {
   "cell_type": "code",
   "execution_count": 8,
   "metadata": {},
   "outputs": [],
   "source": [
    "##for ims in astr_objs[0][2:]:\n",
    "##    print(len(ims[0]))\n",
    "#\n",
    "#teste = astr_objs[0][2]\n",
    "#teste2 = teste[5:35,10:56]\n",
    "#teste2.shape\n",
    "#len(teste2[1])"
   ]
  },
  {
   "cell_type": "code",
   "execution_count": null,
   "metadata": {},
   "outputs": [],
   "source": []
  },
  {
   "cell_type": "code",
   "execution_count": 9,
   "metadata": {},
   "outputs": [],
   "source": [
    "labels = []\n",
    "images = []\n",
    "ids = []\n",
    "for o in astr_objs:\n",
    "    labels.append((conversion[o[1]])) #converting here to numbers to assure label in training\n",
    "    images.append(o[2:])\n",
    "    ids.append(o[0])\n",
    "labels = np.asarray(labels)\n",
    "images = np.asarray(images)\n",
    "ids = np.asarray(ids)\n",
    "\n",
    "train_n = 18000\n",
    "\n",
    "train_labels = labels[0:train_n]\n",
    "test_labels = labels[train_n:]\n",
    "\n",
    "train_images = images[0:train_n]\n",
    "test_images = images[train_n:]\n",
    "\n",
    "train_ids = ids[0:train_n]\n",
    "test_ids = ids[train_n:]\n"
   ]
  },
  {
   "cell_type": "code",
   "execution_count": 10,
   "metadata": {},
   "outputs": [
    {
     "name": "stdout",
     "output_type": "stream",
     "text": [
      "(21317,) (21317,) (21317, 4, 30, 46)\n"
     ]
    }
   ],
   "source": [
    "print(ids.shape, labels.shape, images.shape)"
   ]
  },
  {
   "cell_type": "code",
   "execution_count": 11,
   "metadata": {},
   "outputs": [
    {
     "data": {
      "text/plain": [
       "(18000, 4, 30, 46)"
      ]
     },
     "execution_count": 11,
     "metadata": {},
     "output_type": "execute_result"
    }
   ],
   "source": [
    "train_images.shape"
   ]
  },
  {
   "cell_type": "code",
   "execution_count": 12,
   "metadata": {},
   "outputs": [],
   "source": [
    "train_images = np.around(train_images/255, decimals = 2)\n",
    "test_images = np.around(test_images/255, decimals = 2)"
   ]
  },
  {
   "cell_type": "markdown",
   "metadata": {},
   "source": [
    "# Here starts the training"
   ]
  },
  {
   "cell_type": "code",
   "execution_count": 13,
   "metadata": {},
   "outputs": [
    {
     "name": "stdout",
     "output_type": "stream",
     "text": [
      "WARNING:tensorflow:From /home/felipematheus/anaconda3/lib/python3.7/site-packages/tensorflow/python/ops/resource_variable_ops.py:435: colocate_with (from tensorflow.python.framework.ops) is deprecated and will be removed in a future version.\n",
      "Instructions for updating:\n",
      "Colocations handled automatically by placer.\n"
     ]
    }
   ],
   "source": [
    "model = keras.Sequential([\n",
    "    keras.layers.Flatten(input_shape=(4, 30, 46)), #aqui mudar o novo shape () 64x40 iu 46x30, x4 talvez \n",
    "    #Transform the 2d array into a 1d with mxn \n",
    "    keras.layers.Dense(128, activation=tf.nn.relu),\n",
    "    keras.layers.Dense(128, activation=tf.nn.relu),\n",
    "    keras.layers.Dense(128, activation=tf.nn.relu),\n",
    "    keras.layers.Dense(128, activation=tf.nn.relu),\n",
    "    keras.layers.Dense(128, activation=tf.nn.relu),\n",
    "    keras.layers.Dense(8, activation=tf.nn.softmax) #exit layer, change to the number of class we have ()\n",
    "])\n"
   ]
  },
  {
   "cell_type": "code",
   "execution_count": 14,
   "metadata": {},
   "outputs": [
    {
     "name": "stderr",
     "output_type": "stream",
     "text": [
      "Using TensorFlow backend.\n"
     ]
    },
    {
     "name": "stdout",
     "output_type": "stream",
     "text": [
      "WARNING:tensorflow:From /home/felipematheus/anaconda3/lib/python3.7/site-packages/keras/backend/tensorflow_backend.py:3445: calling dropout (from tensorflow.python.ops.nn_ops) with keep_prob is deprecated and will be removed in a future version.\n",
      "Instructions for updating:\n",
      "Please use `rate` instead of `keep_prob`. Rate should be set to `rate = 1 - keep_prob`.\n"
     ]
    }
   ],
   "source": [
    "img_rows, img_cols = 30, 46\n",
    "input_shape = (4, img_rows, img_cols)\n",
    "\n",
    "from keras.models import Sequential\n",
    "from keras.layers import Dense, Dropout, Flatten\n",
    "from keras.layers import Conv2D, MaxPooling2D\n",
    "\n",
    "cnn1 = Sequential()\n",
    "cnn1.add(Conv2D(32, kernel_size=(3, 3), activation='relu', input_shape=input_shape))\n",
    "cnn1.add(MaxPooling2D(pool_size=(2, 2)))\n",
    "cnn1.add(Dropout(0.2))\n",
    "\n",
    "cnn1.add(Flatten())\n",
    "\n",
    "cnn1.add(Dense(128, activation='relu'))\n",
    "cnn1.add(Dense(10, activation='softmax'))\n"
   ]
  },
  {
   "cell_type": "code",
   "execution_count": 15,
   "metadata": {},
   "outputs": [],
   "source": [
    "#from keras.models import Sequential\n",
    "#from keras.layers import Dense, Dropout, Flatten\n",
    "#from keras.layers import Conv2D, MaxPooling2D\n",
    "#\n",
    "#cnn3 = Sequential()\n",
    "#cnn3.add(Conv2D(32, kernel_size=(3, 3), activation='relu', input_shape=input_shape))\n",
    "#cnn3.add(MaxPooling2D((2, 2)))\n",
    "#cnn3.add(Dropout(0.25))\n",
    "#\n",
    "#cnn3.add(Conv2D(64, kernel_size=(3, 3), activation='relu'))\n",
    "#cnn3.add(MaxPooling2D(pool_size=(2, 2)))\n",
    "#cnn3.add(Dropout(0.25))\n",
    "#\n",
    "#cnn3.add(Conv2D(128, kernel_size=(3, 3), activation='relu'))\n",
    "#cnn3.add(Dropout(0.4))\n",
    "#\n",
    "#cnn3.add(Flatten())\n",
    "#\n",
    "#cnn3.add(Dense(128, activation='relu'))\n",
    "#cnn3.add(Dropout(0.3))\n",
    "#cnn3.add(Dense(10, activation='softmax'))\n",
    "#\n",
    "#cnn3.compile(loss=keras.losses.categorical_crossentropy,\n",
    "#              optimizer=keras.optimizers.Adam(),\n",
    "#              metrics=['accuracy'])"
   ]
  },
  {
   "cell_type": "code",
   "execution_count": 16,
   "metadata": {},
   "outputs": [],
   "source": [
    "#cnn1.compile(optimizer='adam', \n",
    "#              loss='sparse_categorical_crossentropy',\n",
    "#              metrics=['accuracy'])"
   ]
  },
  {
   "cell_type": "code",
   "execution_count": 17,
   "metadata": {},
   "outputs": [],
   "source": [
    "model.compile(optimizer='adam', \n",
    "              loss='sparse_categorical_crossentropy',\n",
    "              metrics=['accuracy'])"
   ]
  },
  {
   "cell_type": "code",
   "execution_count": 18,
   "metadata": {},
   "outputs": [],
   "source": [
    "#cnn1.fit(train_images, train_labels, epochs=10)\n",
    "#"
   ]
  },
  {
   "cell_type": "code",
   "execution_count": 19,
   "metadata": {},
   "outputs": [
    {
     "name": "stdout",
     "output_type": "stream",
     "text": [
      "Epoch 1/10\n",
      "18000/18000 [==============================] - 11s 595us/sample - loss: 1.3131 - acc: 0.5666\n",
      "Epoch 2/10\n",
      "18000/18000 [==============================] - 9s 498us/sample - loss: 1.2899 - acc: 0.5669\n",
      "Epoch 3/10\n",
      "18000/18000 [==============================] - 9s 501us/sample - loss: 1.2672 - acc: 0.5693\n",
      "Epoch 4/10\n",
      "18000/18000 [==============================] - 9s 495us/sample - loss: 1.1660 - acc: 0.6178\n",
      "Epoch 5/10\n",
      "18000/18000 [==============================] - 9s 502us/sample - loss: 1.0757 - acc: 0.6592\n",
      "Epoch 6/10\n",
      "18000/18000 [==============================] - 9s 494us/sample - loss: 1.0375 - acc: 0.6728\n",
      "Epoch 7/10\n",
      "18000/18000 [==============================] - 9s 505us/sample - loss: 1.0180 - acc: 0.6813\n",
      "Epoch 8/10\n",
      "18000/18000 [==============================] - 9s 498us/sample - loss: 1.0204 - acc: 0.6780\n",
      "Epoch 9/10\n",
      "18000/18000 [==============================] - 9s 500us/sample - loss: 1.0044 - acc: 0.6908\n",
      "Epoch 10/10\n",
      "18000/18000 [==============================] - 9s 493us/sample - loss: 1.0088 - acc: 0.6884\n"
     ]
    },
    {
     "data": {
      "text/plain": [
       "<tensorflow.python.keras.callbacks.History at 0x7fd58b3a25c0>"
      ]
     },
     "execution_count": 19,
     "metadata": {},
     "output_type": "execute_result"
    }
   ],
   "source": [
    "model.fit(train_images, train_labels, epochs=10)\n"
   ]
  },
  {
   "cell_type": "code",
   "execution_count": 20,
   "metadata": {},
   "outputs": [
    {
     "name": "stdout",
     "output_type": "stream",
     "text": [
      "3317/3317 [==============================] - 1s 177us/sample - loss: 0.9978 - acc: 0.7006\n",
      "Test accuracy: 0.7006331\n"
     ]
    }
   ],
   "source": [
    "test_loss, test_acc = model.evaluate(test_images, test_labels)\n",
    "\n",
    "print('Test accuracy:', test_acc)"
   ]
  },
  {
   "cell_type": "code",
   "execution_count": 21,
   "metadata": {},
   "outputs": [],
   "source": [
    "predictions = model.predict(test_images)"
   ]
  },
  {
   "cell_type": "code",
   "execution_count": 22,
   "metadata": {},
   "outputs": [
    {
     "name": "stdout",
     "output_type": "stream",
     "text": [
      "[0.13226014 0.04723146 0.01049704 0.05227954 0.67416096 0.015006\n",
      " 0.05238821 0.01617657] \n",
      " Predicted:  4  True one:  4\n"
     ]
    }
   ],
   "source": [
    "print(predictions[0], '\\n',\n",
    "      'Predicted: ', np.argmax(predictions[0]), ' True one: ', test_labels[0])\n"
   ]
  },
  {
   "cell_type": "code",
   "execution_count": 23,
   "metadata": {},
   "outputs": [],
   "source": [
    "##TEMPLATE DE COMO PEGAR O ARQUIVO\n",
    "#import numpy as np\n",
    "#from PIL import Image\n",
    "#\n",
    "#img = Image.open('SN000017_II_desg.png').convert('L')\n",
    "#arr = np.array(img)\n",
    "#arr = arr[5:35,10:56]\n",
    "## record the original shape\n",
    "#shape = arr.shape\n",
    "#\n",
    "## make a 1-dimensional view of arr\n",
    "#flat_arr = arr.ravel()\n",
    "#\n",
    "## convert it to a matrix\n",
    "#vector = np.matrix(flat_arr)\n",
    "#\n",
    "## do something to the vector\n",
    "#vector[:,::10] = 128\n",
    "#\n",
    "## reform a numpy array of the original shape\n",
    "#arr2 = np.asarray(vector).reshape(shape)\n",
    "#\n",
    "## make a PIL image\n",
    "#img2 = Image.fromarray(arr2, 'L')\n",
    "#img2.show()"
   ]
  },
  {
   "cell_type": "code",
   "execution_count": 24,
   "metadata": {},
   "outputs": [],
   "source": [
    "def plot_value_array(i, predictions_array, true_label):\n",
    "    predictions_array, true_label = predictions_array[i], true_label[i]\n",
    "    plt.grid(False)\n",
    "    plt.xticks([])\n",
    "    plt.yticks([])\n",
    "    thisplot = plt.bar(range(10), predictions_array, color=\"#777777\")\n",
    "    plt.ylim([0, 1]) \n",
    "    predicted_label = np.argmax(predictions_array)\n",
    "    thisplot[predicted_label].set_color('red')\n",
    "    thisplot[true_label].set_color('blue')\n"
   ]
  },
  {
   "cell_type": "code",
   "execution_count": 25,
   "metadata": {},
   "outputs": [
    {
     "data": {
      "text/plain": [
       "array([[ 630,    0,    0,    0,  176,    0,    0,    0],\n",
       "       [ 164,    0,    0,    0,   69,    0,    0,    0],\n",
       "       [  29,    0,    0,    0,   15,    0,    0,    0],\n",
       "       [  77,    0,    0,    0,   92,    0,    0,    0],\n",
       "       [ 131,    0,    0,    0, 1694,    0,    0,    0],\n",
       "       [  57,    0,    0,    0,   19,    0,    0,    0],\n",
       "       [  19,    0,    0,    0,  111,    0,    0,    0],\n",
       "       [  12,    0,    0,    0,   22,    0,    0,    0]])"
      ]
     },
     "execution_count": 25,
     "metadata": {},
     "output_type": "execute_result"
    }
   ],
   "source": [
    "from sklearn.metrics import confusion_matrix\n",
    "y_true = test_labels\n",
    "y_pred = []\n",
    "for i in predictions:\n",
    "    y_pred.append(np.argmax(i))\n",
    "\n",
    "confusion_matrix(y_true, y_pred)"
   ]
  },
  {
   "cell_type": "code",
   "execution_count": null,
   "metadata": {},
   "outputs": [],
   "source": []
  },
  {
   "cell_type": "code",
   "execution_count": 26,
   "metadata": {},
   "outputs": [],
   "source": [
    "unique, counts = np.unique(labels, return_counts=True)"
   ]
  },
  {
   "cell_type": "code",
   "execution_count": 27,
   "metadata": {},
   "outputs": [
    {
     "data": {
      "text/plain": [
       "array([0, 1, 2, 3, 4, 5, 6, 7])"
      ]
     },
     "execution_count": 27,
     "metadata": {},
     "output_type": "execute_result"
    }
   ],
   "source": [
    "unique"
   ]
  },
  {
   "cell_type": "code",
   "execution_count": 28,
   "metadata": {},
   "outputs": [
    {
     "data": {
      "text/plain": [
       "array([ 5087,  1438,   259,  1103, 12027,   425,   789,   189])"
      ]
     },
     "execution_count": 28,
     "metadata": {},
     "output_type": "execute_result"
    }
   ],
   "source": [
    "counts"
   ]
  },
  {
   "cell_type": "code",
   "execution_count": 29,
   "metadata": {},
   "outputs": [
    {
     "data": {
      "text/plain": [
       "{'IIL': 5,\n",
       " 'IIP': 7,\n",
       " 'II_': 4,\n",
       " 'IIn': 6,\n",
       " 'Ia_': 0,\n",
       " 'Ib_': 1,\n",
       " 'Ibc': 2,\n",
       " 'Ic_': 3}"
      ]
     },
     "execution_count": 29,
     "metadata": {},
     "output_type": "execute_result"
    }
   ],
   "source": [
    "conversion"
   ]
  },
  {
   "cell_type": "code",
   "execution_count": 30,
   "metadata": {},
   "outputs": [
    {
     "data": {
      "text/plain": [
       "(3317,)"
      ]
     },
     "execution_count": 30,
     "metadata": {},
     "output_type": "execute_result"
    }
   ],
   "source": [
    "y_true.shape"
   ]
  },
  {
   "cell_type": "code",
   "execution_count": 31,
   "metadata": {},
   "outputs": [],
   "source": [
    "y_pred = np.asarray(y_pred)"
   ]
  },
  {
   "cell_type": "code",
   "execution_count": 32,
   "metadata": {},
   "outputs": [
    {
     "data": {
      "text/plain": [
       "{'IIL': 5,\n",
       " 'IIP': 7,\n",
       " 'II_': 4,\n",
       " 'IIn': 6,\n",
       " 'Ia_': 0,\n",
       " 'Ib_': 1,\n",
       " 'Ibc': 2,\n",
       " 'Ic_': 3}"
      ]
     },
     "execution_count": 32,
     "metadata": {},
     "output_type": "execute_result"
    }
   ],
   "source": [
    "conversion"
   ]
  },
  {
   "cell_type": "code",
   "execution_count": 33,
   "metadata": {},
   "outputs": [],
   "source": [
    "class_names = ['Ia','Ib','Ibc','Ic','II','IIL','IIP','IIn']"
   ]
  },
  {
   "cell_type": "code",
   "execution_count": 43,
   "metadata": {},
   "outputs": [
    {
     "name": "stdout",
     "output_type": "stream",
     "text": [
      "Confusion matrix, without normalization\n"
     ]
    },
    {
     "ename": "ValueError",
     "evalue": "Image size of 331700x331700 pixels is too large. It must be less than 2^16 in each direction.",
     "output_type": "error",
     "traceback": [
      "\u001b[0;31m---------------------------------------------------------------------------\u001b[0m",
      "\u001b[0;31mValueError\u001b[0m                                Traceback (most recent call last)",
      "\u001b[0;32m<ipython-input-43-07bf444579a2>\u001b[0m in \u001b[0;36m<module>\u001b[0;34m\u001b[0m\n\u001b[1;32m      4\u001b[0m plot_confusion_matrix(y_true, y_pred, classes=class_names,\n\u001b[1;32m      5\u001b[0m                       \u001b[0mdim_x\u001b[0m \u001b[0;34m=\u001b[0m \u001b[0mlen\u001b[0m\u001b[0;34m(\u001b[0m\u001b[0my_true\u001b[0m\u001b[0;34m)\u001b[0m\u001b[0;34m,\u001b[0m \u001b[0mdim_y\u001b[0m \u001b[0;34m=\u001b[0m \u001b[0mlen\u001b[0m\u001b[0;34m(\u001b[0m\u001b[0my_true\u001b[0m\u001b[0;34m)\u001b[0m\u001b[0;34m,\u001b[0m\u001b[0;34m\u001b[0m\u001b[0;34m\u001b[0m\u001b[0m\n\u001b[0;32m----> 6\u001b[0;31m                       title='Confusion matrix, without normalization')\n\u001b[0m\u001b[1;32m      7\u001b[0m \u001b[0;34m\u001b[0m\u001b[0m\n\u001b[1;32m      8\u001b[0m \u001b[0;31m## Plot normalized confusion matrix\u001b[0m\u001b[0;34m\u001b[0m\u001b[0;34m\u001b[0m\u001b[0;34m\u001b[0m\u001b[0m\n",
      "\u001b[0;32m<ipython-input-1-71880d07c7a7>\u001b[0m in \u001b[0;36mplot_confusion_matrix\u001b[0;34m(y_true, y_pred, classes, dim_x, dim_y, normalize, title, cmap)\u001b[0m\n\u001b[1;32m     56\u001b[0m                     \u001b[0mha\u001b[0m\u001b[0;34m=\u001b[0m\u001b[0;34m\"center\"\u001b[0m\u001b[0;34m,\u001b[0m \u001b[0mva\u001b[0m\u001b[0;34m=\u001b[0m\u001b[0;34m\"center\"\u001b[0m\u001b[0;34m,\u001b[0m\u001b[0;34m\u001b[0m\u001b[0;34m\u001b[0m\u001b[0m\n\u001b[1;32m     57\u001b[0m                     color=\"white\" if cm[i, j] > thresh else \"black\")\n\u001b[0;32m---> 58\u001b[0;31m     \u001b[0mfig\u001b[0m\u001b[0;34m.\u001b[0m\u001b[0mtight_layout\u001b[0m\u001b[0;34m(\u001b[0m\u001b[0;34m)\u001b[0m\u001b[0;34m\u001b[0m\u001b[0;34m\u001b[0m\u001b[0m\n\u001b[0m\u001b[1;32m     59\u001b[0m     \u001b[0;32mreturn\u001b[0m \u001b[0max\u001b[0m\u001b[0;34m\u001b[0m\u001b[0;34m\u001b[0m\u001b[0m\n",
      "\u001b[0;32m~/anaconda3/lib/python3.7/site-packages/matplotlib/figure.py\u001b[0m in \u001b[0;36mtight_layout\u001b[0;34m(self, renderer, pad, h_pad, w_pad, rect)\u001b[0m\n\u001b[1;32m   2368\u001b[0m \u001b[0;34m\u001b[0m\u001b[0m\n\u001b[1;32m   2369\u001b[0m         \u001b[0;32mif\u001b[0m \u001b[0mrenderer\u001b[0m \u001b[0;32mis\u001b[0m \u001b[0;32mNone\u001b[0m\u001b[0;34m:\u001b[0m\u001b[0;34m\u001b[0m\u001b[0;34m\u001b[0m\u001b[0m\n\u001b[0;32m-> 2370\u001b[0;31m             \u001b[0mrenderer\u001b[0m \u001b[0;34m=\u001b[0m \u001b[0mget_renderer\u001b[0m\u001b[0;34m(\u001b[0m\u001b[0mself\u001b[0m\u001b[0;34m)\u001b[0m\u001b[0;34m\u001b[0m\u001b[0;34m\u001b[0m\u001b[0m\n\u001b[0m\u001b[1;32m   2371\u001b[0m \u001b[0;34m\u001b[0m\u001b[0m\n\u001b[1;32m   2372\u001b[0m         kwargs = get_tight_layout_figure(\n",
      "\u001b[0;32m~/anaconda3/lib/python3.7/site-packages/matplotlib/tight_layout.py\u001b[0m in \u001b[0;36mget_renderer\u001b[0;34m(fig)\u001b[0m\n\u001b[1;32m    226\u001b[0m \u001b[0;34m\u001b[0m\u001b[0m\n\u001b[1;32m    227\u001b[0m         \u001b[0;32mif\u001b[0m \u001b[0mcanvas\u001b[0m \u001b[0;32mand\u001b[0m \u001b[0mhasattr\u001b[0m\u001b[0;34m(\u001b[0m\u001b[0mcanvas\u001b[0m\u001b[0;34m,\u001b[0m \u001b[0;34m\"get_renderer\"\u001b[0m\u001b[0;34m)\u001b[0m\u001b[0;34m:\u001b[0m\u001b[0;34m\u001b[0m\u001b[0;34m\u001b[0m\u001b[0m\n\u001b[0;32m--> 228\u001b[0;31m             \u001b[0mrenderer\u001b[0m \u001b[0;34m=\u001b[0m \u001b[0mcanvas\u001b[0m\u001b[0;34m.\u001b[0m\u001b[0mget_renderer\u001b[0m\u001b[0;34m(\u001b[0m\u001b[0;34m)\u001b[0m\u001b[0;34m\u001b[0m\u001b[0;34m\u001b[0m\u001b[0m\n\u001b[0m\u001b[1;32m    229\u001b[0m         \u001b[0;32melse\u001b[0m\u001b[0;34m:\u001b[0m\u001b[0;34m\u001b[0m\u001b[0;34m\u001b[0m\u001b[0m\n\u001b[1;32m    230\u001b[0m             \u001b[0;31m# not sure if this can happen\u001b[0m\u001b[0;34m\u001b[0m\u001b[0;34m\u001b[0m\u001b[0;34m\u001b[0m\u001b[0m\n",
      "\u001b[0;32m~/anaconda3/lib/python3.7/site-packages/matplotlib/backends/backend_agg.py\u001b[0m in \u001b[0;36mget_renderer\u001b[0;34m(self, cleared)\u001b[0m\n\u001b[1;32m    415\u001b[0m \u001b[0;34m\u001b[0m\u001b[0m\n\u001b[1;32m    416\u001b[0m         \u001b[0;32mif\u001b[0m \u001b[0mneed_new_renderer\u001b[0m\u001b[0;34m:\u001b[0m\u001b[0;34m\u001b[0m\u001b[0;34m\u001b[0m\u001b[0m\n\u001b[0;32m--> 417\u001b[0;31m             \u001b[0mself\u001b[0m\u001b[0;34m.\u001b[0m\u001b[0mrenderer\u001b[0m \u001b[0;34m=\u001b[0m \u001b[0mRendererAgg\u001b[0m\u001b[0;34m(\u001b[0m\u001b[0mw\u001b[0m\u001b[0;34m,\u001b[0m \u001b[0mh\u001b[0m\u001b[0;34m,\u001b[0m \u001b[0mself\u001b[0m\u001b[0;34m.\u001b[0m\u001b[0mfigure\u001b[0m\u001b[0;34m.\u001b[0m\u001b[0mdpi\u001b[0m\u001b[0;34m)\u001b[0m\u001b[0;34m\u001b[0m\u001b[0;34m\u001b[0m\u001b[0m\n\u001b[0m\u001b[1;32m    418\u001b[0m             \u001b[0mself\u001b[0m\u001b[0;34m.\u001b[0m\u001b[0m_lastKey\u001b[0m \u001b[0;34m=\u001b[0m \u001b[0mkey\u001b[0m\u001b[0;34m\u001b[0m\u001b[0;34m\u001b[0m\u001b[0m\n\u001b[1;32m    419\u001b[0m         \u001b[0;32melif\u001b[0m \u001b[0mcleared\u001b[0m\u001b[0;34m:\u001b[0m\u001b[0;34m\u001b[0m\u001b[0;34m\u001b[0m\u001b[0m\n",
      "\u001b[0;32m~/anaconda3/lib/python3.7/site-packages/matplotlib/backends/backend_agg.py\u001b[0m in \u001b[0;36m__init__\u001b[0;34m(self, width, height, dpi)\u001b[0m\n\u001b[1;32m     85\u001b[0m         \u001b[0mself\u001b[0m\u001b[0;34m.\u001b[0m\u001b[0mwidth\u001b[0m \u001b[0;34m=\u001b[0m \u001b[0mwidth\u001b[0m\u001b[0;34m\u001b[0m\u001b[0;34m\u001b[0m\u001b[0m\n\u001b[1;32m     86\u001b[0m         \u001b[0mself\u001b[0m\u001b[0;34m.\u001b[0m\u001b[0mheight\u001b[0m \u001b[0;34m=\u001b[0m \u001b[0mheight\u001b[0m\u001b[0;34m\u001b[0m\u001b[0;34m\u001b[0m\u001b[0m\n\u001b[0;32m---> 87\u001b[0;31m         \u001b[0mself\u001b[0m\u001b[0;34m.\u001b[0m\u001b[0m_renderer\u001b[0m \u001b[0;34m=\u001b[0m \u001b[0m_RendererAgg\u001b[0m\u001b[0;34m(\u001b[0m\u001b[0mint\u001b[0m\u001b[0;34m(\u001b[0m\u001b[0mwidth\u001b[0m\u001b[0;34m)\u001b[0m\u001b[0;34m,\u001b[0m \u001b[0mint\u001b[0m\u001b[0;34m(\u001b[0m\u001b[0mheight\u001b[0m\u001b[0;34m)\u001b[0m\u001b[0;34m,\u001b[0m \u001b[0mdpi\u001b[0m\u001b[0;34m)\u001b[0m\u001b[0;34m\u001b[0m\u001b[0;34m\u001b[0m\u001b[0m\n\u001b[0m\u001b[1;32m     88\u001b[0m         \u001b[0mself\u001b[0m\u001b[0;34m.\u001b[0m\u001b[0m_filter_renderers\u001b[0m \u001b[0;34m=\u001b[0m \u001b[0;34m[\u001b[0m\u001b[0;34m]\u001b[0m\u001b[0;34m\u001b[0m\u001b[0;34m\u001b[0m\u001b[0m\n\u001b[1;32m     89\u001b[0m \u001b[0;34m\u001b[0m\u001b[0m\n",
      "\u001b[0;31mValueError\u001b[0m: Image size of 331700x331700 pixels is too large. It must be less than 2^16 in each direction."
     ]
    }
   ],
   "source": [
    "np.set_printoptions(precision=1)\n",
    "\n",
    "# Plot non-normalized confusion matrix\n",
    "plot_confusion_matrix(y_true, y_pred, classes=class_names,\n",
    "                      dim_x = len(y_true), dim_y = len(y_true),\n",
    "                      title='Confusion matrix, without normalization')\n",
    "\n",
    "## Plot normalized confusion matrix\n",
    "#plot_confusion_matrix(y_true, y_pred, classes=class_names, normalize=True,\n",
    "#                      title='Normalized confusion matrix')\n",
    "#\n",
    "plt.show()"
   ]
  },
  {
   "cell_type": "code",
   "execution_count": 36,
   "metadata": {},
   "outputs": [
    {
     "data": {
      "text/plain": [
       "array([[[[1. , 1. , 1. , ..., 1. , 1. , 1. ],\n",
       "         [1. , 1. , 1. , ..., 1. , 1. , 1. ],\n",
       "         [1. , 1. , 1. , ..., 1. , 1. , 1. ],\n",
       "         ...,\n",
       "         [1. , 0.5, 0.5, ..., 1. , 1. , 1. ],\n",
       "         [0.5, 0.7, 1. , ..., 0.9, 0.9, 0.9],\n",
       "         [0.9, 1. , 1. , ..., 0.6, 0.5, 0.7]],\n",
       "\n",
       "        [[1. , 1. , 1. , ..., 1. , 1. , 1. ],\n",
       "         [1. , 1. , 1. , ..., 1. , 1. , 1. ],\n",
       "         [1. , 1. , 1. , ..., 1. , 1. , 1. ],\n",
       "         ...,\n",
       "         [1. , 1. , 0.9, ..., 1. , 1. , 0.8],\n",
       "         [1. , 1. , 1. , ..., 1. , 1. , 1. ],\n",
       "         [1. , 1. , 1. , ..., 1. , 1. , 1. ]],\n",
       "\n",
       "        [[1. , 1. , 1. , ..., 1. , 1. , 1. ],\n",
       "         [1. , 1. , 1. , ..., 1. , 1. , 1. ],\n",
       "         [1. , 1. , 1. , ..., 1. , 1. , 1. ],\n",
       "         ...,\n",
       "         [0.8, 1. , 1. , ..., 1. , 1. , 0.9],\n",
       "         [1. , 1. , 1. , ..., 1. , 1. , 1. ],\n",
       "         [1. , 1. , 1. , ..., 1. , 1. , 1. ]],\n",
       "\n",
       "        [[1. , 1. , 1. , ..., 1. , 1. , 1. ],\n",
       "         [1. , 1. , 1. , ..., 1. , 1. , 1. ],\n",
       "         [1. , 1. , 1. , ..., 1. , 1. , 1. ],\n",
       "         ...,\n",
       "         [0.9, 0.4, 0.8, ..., 1. , 1. , 1. ],\n",
       "         [0.5, 0.9, 1. , ..., 1. , 1. , 1. ],\n",
       "         [1. , 1. , 1. , ..., 1. , 1. , 1. ]]],\n",
       "\n",
       "\n",
       "       [[[1. , 1. , 1. , ..., 1. , 1. , 1. ],\n",
       "         [1. , 1. , 1. , ..., 1. , 1. , 1. ],\n",
       "         [1. , 1. , 1. , ..., 1. , 1. , 1. ],\n",
       "         ...,\n",
       "         [0.8, 0.6, 1. , ..., 1. , 1. , 1. ],\n",
       "         [0.4, 1. , 1. , ..., 1. , 1. , 1. ],\n",
       "         [0.7, 1. , 1. , ..., 1. , 1. , 1. ]],\n",
       "\n",
       "        [[1. , 1. , 1. , ..., 1. , 1. , 1. ],\n",
       "         [0.5, 0.4, 0.7, ..., 1. , 1. , 1. ],\n",
       "         [1. , 1. , 0.8, ..., 1. , 1. , 1. ],\n",
       "         ...,\n",
       "         [1. , 1. , 1. , ..., 0.8, 1. , 1. ],\n",
       "         [1. , 1. , 1. , ..., 0.5, 0.5, 0.9],\n",
       "         [1. , 1. , 1. , ..., 1. , 0.9, 0.7]],\n",
       "\n",
       "        [[1. , 1. , 1. , ..., 1. , 1. , 1. ],\n",
       "         [1. , 1. , 1. , ..., 1. , 1. , 1. ],\n",
       "         [1. , 1. , 1. , ..., 1. , 1. , 1. ],\n",
       "         ...,\n",
       "         [0.5, 1. , 1. , ..., 0.7, 0.4, 0.7],\n",
       "         [0.4, 1. , 1. , ..., 1. , 1. , 1. ],\n",
       "         [0.8, 1. , 1. , ..., 1. , 1. , 1. ]],\n",
       "\n",
       "        [[1. , 1. , 1. , ..., 1. , 1. , 1. ],\n",
       "         [1. , 1. , 1. , ..., 1. , 1. , 1. ],\n",
       "         [1. , 1. , 1. , ..., 1. , 1. , 1. ],\n",
       "         ...,\n",
       "         [0.4, 1. , 1. , ..., 0.4, 0.8, 1. ],\n",
       "         [0.4, 1. , 1. , ..., 1. , 0.4, 0.8],\n",
       "         [0.7, 1. , 1. , ..., 1. , 1. , 0.8]]],\n",
       "\n",
       "\n",
       "       [[[1. , 1. , 1. , ..., 1. , 1. , 1. ],\n",
       "         [0.6, 0.5, 0.4, ..., 1. , 1. , 1. ],\n",
       "         [0.8, 1. , 1. , ..., 1. , 1. , 1. ],\n",
       "         ...,\n",
       "         [1. , 1. , 1. , ..., 0.8, 0.5, 1. ],\n",
       "         [1. , 1. , 1. , ..., 1. , 0.5, 0.8],\n",
       "         [1. , 1. , 1. , ..., 1. , 1. , 0.7]],\n",
       "\n",
       "        [[1. , 1. , 1. , ..., 1. , 1. , 1. ],\n",
       "         [1. , 0.7, 0.4, ..., 1. , 1. , 1. ],\n",
       "         [0.9, 0.5, 1. , ..., 1. , 1. , 1. ],\n",
       "         ...,\n",
       "         [1. , 1. , 1. , ..., 1. , 1. , 1. ],\n",
       "         [1. , 1. , 1. , ..., 0.4, 0.6, 0.9],\n",
       "         [1. , 1. , 1. , ..., 1. , 0.8, 0.7]],\n",
       "\n",
       "        [[1. , 1. , 1. , ..., 1. , 1. , 1. ],\n",
       "         [0.5, 0.4, 0.5, ..., 1. , 1. , 1. ],\n",
       "         [1. , 1. , 0.9, ..., 1. , 1. , 1. ],\n",
       "         ...,\n",
       "         [1. , 1. , 1. , ..., 0.4, 0.9, 1. ],\n",
       "         [1. , 1. , 1. , ..., 1. , 0.4, 0.8],\n",
       "         [1. , 1. , 1. , ..., 1. , 1. , 0.7]],\n",
       "\n",
       "        [[1. , 1. , 1. , ..., 1. , 1. , 1. ],\n",
       "         [0.4, 0.9, 1. , ..., 1. , 1. , 1. ],\n",
       "         [0.9, 0.4, 1. , ..., 1. , 1. , 1. ],\n",
       "         ...,\n",
       "         [1. , 1. , 1. , ..., 1. , 1. , 1. ],\n",
       "         [1. , 1. , 1. , ..., 1. , 1. , 1. ],\n",
       "         [1. , 1. , 1. , ..., 1. , 1. , 1. ]]],\n",
       "\n",
       "\n",
       "       ...,\n",
       "\n",
       "\n",
       "       [[[1. , 1. , 1. , ..., 1. , 1. , 1. ],\n",
       "         [1. , 1. , 1. , ..., 1. , 1. , 1. ],\n",
       "         [1. , 1. , 1. , ..., 1. , 1. , 1. ],\n",
       "         ...,\n",
       "         [1. , 1. , 0.9, ..., 1. , 1. , 1. ],\n",
       "         [1. , 1. , 1. , ..., 1. , 1. , 1. ],\n",
       "         [1. , 1. , 1. , ..., 1. , 1. , 1. ]],\n",
       "\n",
       "        [[1. , 1. , 1. , ..., 1. , 1. , 1. ],\n",
       "         [1. , 1. , 1. , ..., 1. , 1. , 1. ],\n",
       "         [1. , 1. , 1. , ..., 1. , 1. , 1. ],\n",
       "         ...,\n",
       "         [1. , 1. , 1. , ..., 0.9, 1. , 1. ],\n",
       "         [1. , 1. , 1. , ..., 0.4, 0.5, 0.9],\n",
       "         [1. , 1. , 1. , ..., 1. , 0.8, 0.7]],\n",
       "\n",
       "        [[1. , 1. , 1. , ..., 1. , 1. , 1. ],\n",
       "         [1. , 1. , 1. , ..., 1. , 1. , 1. ],\n",
       "         [1. , 1. , 1. , ..., 1. , 1. , 1. ],\n",
       "         ...,\n",
       "         [1. , 1. , 1. , ..., 1. , 1. , 1. ],\n",
       "         [1. , 1. , 1. , ..., 1. , 1. , 1. ],\n",
       "         [1. , 1. , 1. , ..., 1. , 1. , 1. ]],\n",
       "\n",
       "        [[1. , 1. , 1. , ..., 1. , 1. , 1. ],\n",
       "         [1. , 1. , 1. , ..., 1. , 1. , 1. ],\n",
       "         [1. , 1. , 1. , ..., 1. , 1. , 1. ],\n",
       "         ...,\n",
       "         [1. , 1. , 1. , ..., 1. , 1. , 1. ],\n",
       "         [1. , 1. , 1. , ..., 1. , 1. , 1. ],\n",
       "         [1. , 1. , 1. , ..., 1. , 1. , 1. ]]],\n",
       "\n",
       "\n",
       "       [[[1. , 1. , 1. , ..., 1. , 1. , 1. ],\n",
       "         [1. , 1. , 1. , ..., 1. , 1. , 1. ],\n",
       "         [1. , 1. , 1. , ..., 1. , 1. , 1. ],\n",
       "         ...,\n",
       "         [1. , 1. , 0.5, ..., 1. , 1. , 1. ],\n",
       "         [0.7, 0.4, 0.8, ..., 1. , 1. , 1. ],\n",
       "         [0.6, 1. , 1. , ..., 1. , 1. , 1. ]],\n",
       "\n",
       "        [[1. , 1. , 1. , ..., 1. , 1. , 1. ],\n",
       "         [1. , 1. , 1. , ..., 1. , 1. , 1. ],\n",
       "         [1. , 1. , 1. , ..., 1. , 1. , 1. ],\n",
       "         ...,\n",
       "         [0.9, 0.5, 0.4, ..., 1. , 1. , 1. ],\n",
       "         [1. , 1. , 1. , ..., 1. , 1. , 1. ],\n",
       "         [1. , 1. , 1. , ..., 1. , 1. , 1. ]],\n",
       "\n",
       "        [[1. , 1. , 1. , ..., 1. , 1. , 1. ],\n",
       "         [1. , 1. , 1. , ..., 1. , 1. , 1. ],\n",
       "         [1. , 1. , 1. , ..., 1. , 1. , 1. ],\n",
       "         ...,\n",
       "         [0.4, 0.4, 0.4, ..., 1. , 1. , 1. ],\n",
       "         [1. , 1. , 1. , ..., 1. , 1. , 1. ],\n",
       "         [1. , 1. , 1. , ..., 1. , 1. , 1. ]],\n",
       "\n",
       "        [[1. , 1. , 1. , ..., 1. , 1. , 1. ],\n",
       "         [1. , 1. , 1. , ..., 1. , 1. , 1. ],\n",
       "         [1. , 1. , 1. , ..., 1. , 1. , 1. ],\n",
       "         ...,\n",
       "         [1. , 1. , 1. , ..., 1. , 1. , 1. ],\n",
       "         [0.8, 0.6, 0.4, ..., 1. , 1. , 1. ],\n",
       "         [0.6, 0.8, 1. , ..., 1. , 1. , 1. ]]],\n",
       "\n",
       "\n",
       "       [[[1. , 1. , 1. , ..., 1. , 1. , 1. ],\n",
       "         [1. , 1. , 1. , ..., 1. , 1. , 1. ],\n",
       "         [1. , 1. , 1. , ..., 1. , 1. , 1. ],\n",
       "         ...,\n",
       "         [1. , 1. , 0.7, ..., 1. , 1. , 1. ],\n",
       "         [0.8, 0.4, 0.7, ..., 1. , 1. , 1. ],\n",
       "         [0.6, 1. , 1. , ..., 1. , 1. , 1. ]],\n",
       "\n",
       "        [[1. , 1. , 1. , ..., 1. , 1. , 1. ],\n",
       "         [1. , 1. , 1. , ..., 1. , 1. , 1. ],\n",
       "         [1. , 1. , 1. , ..., 1. , 1. , 1. ],\n",
       "         ...,\n",
       "         [1. , 0.7, 0.5, ..., 1. , 1. , 1. ],\n",
       "         [0.6, 0.6, 1. , ..., 1. , 1. , 1. ],\n",
       "         [0.7, 1. , 1. , ..., 1. , 1. , 1. ]],\n",
       "\n",
       "        [[1. , 1. , 1. , ..., 1. , 1. , 1. ],\n",
       "         [1. , 1. , 1. , ..., 1. , 1. , 1. ],\n",
       "         [1. , 1. , 1. , ..., 1. , 1. , 1. ],\n",
       "         ...,\n",
       "         [1. , 1. , 1. , ..., 1. , 1. , 1. ],\n",
       "         [1. , 1. , 1. , ..., 1. , 1. , 1. ],\n",
       "         [1. , 1. , 1. , ..., 1. , 1. , 1. ]],\n",
       "\n",
       "        [[1. , 1. , 1. , ..., 1. , 1. , 1. ],\n",
       "         [1. , 1. , 1. , ..., 1. , 1. , 1. ],\n",
       "         [1. , 1. , 1. , ..., 1. , 1. , 1. ],\n",
       "         ...,\n",
       "         [1. , 0.8, 0.4, ..., 1. , 1. , 1. ],\n",
       "         [0.7, 0.5, 1. , ..., 1. , 1. , 1. ],\n",
       "         [0.7, 1. , 1. , ..., 1. , 1. , 1. ]]]])"
      ]
     },
     "execution_count": 36,
     "metadata": {},
     "output_type": "execute_result"
    }
   ],
   "source": [
    "test_images"
   ]
  },
  {
   "cell_type": "code",
   "execution_count": 38,
   "metadata": {},
   "outputs": [
    {
     "data": {
      "text/plain": [
       "<function __main__.plot_confusion_matrix(y_true, y_pred, classes, dim_x, dim_y, normalize=False, title=None, cmap=<matplotlib.colors.LinearSegmentedColormap object at 0x7fd5b6579fd0>)>"
      ]
     },
     "execution_count": 38,
     "metadata": {},
     "output_type": "execute_result"
    }
   ],
   "source": [
    "plot_confusion_matrix"
   ]
  },
  {
   "cell_type": "code",
   "execution_count": 40,
   "metadata": {},
   "outputs": [
    {
     "name": "stdout",
     "output_type": "stream",
     "text": [
      "Help on function plot_confusion_matrix in module __main__:\n",
      "\n",
      "plot_confusion_matrix(y_true, y_pred, classes, dim_x, dim_y, normalize=False, title=None, cmap=<matplotlib.colors.LinearSegmentedColormap object at 0x7fd5b6579fd0>)\n",
      "    This function prints and plots the confusion matrix.\n",
      "    Normalization can be applied by setting `normalize=True`.\n",
      "\n"
     ]
    }
   ],
   "source": [
    "help(plot_confusion_matrix)"
   ]
  },
  {
   "cell_type": "code",
   "execution_count": 41,
   "metadata": {},
   "outputs": [
    {
     "data": {
      "text/plain": [
       "3317"
      ]
     },
     "execution_count": 41,
     "metadata": {},
     "output_type": "execute_result"
    }
   ],
   "source": [
    "len(y_true)"
   ]
  },
  {
   "cell_type": "code",
   "execution_count": 1,
   "metadata": {},
   "outputs": [],
   "source": [
    "import pickle"
   ]
  },
  {
   "cell_type": "code",
   "execution_count": 6,
   "metadata": {},
   "outputs": [
    {
     "ename": "UnpicklingError",
     "evalue": "A load persistent id instruction was encountered,\nbut no persistent_load function was specified.",
     "output_type": "error",
     "traceback": [
      "\u001b[0;31m---------------------------------------------------------------------------\u001b[0m",
      "\u001b[0;31mUnpicklingError\u001b[0m                           Traceback (most recent call last)",
      "\u001b[0;32m<ipython-input-6-e0f58d491db2>\u001b[0m in \u001b[0;36m<module>\u001b[0;34m\u001b[0m\n\u001b[0;32m----> 1\u001b[0;31m \u001b[0mx\u001b[0m \u001b[0;34m=\u001b[0m \u001b[0mpickle\u001b[0m\u001b[0;34m.\u001b[0m\u001b[0mload\u001b[0m\u001b[0;34m(\u001b[0m\u001b[0mopen\u001b[0m\u001b[0;34m(\u001b[0m\u001b[0;34m\"/home/felipematheus/Documents/tcc/notebooks/data/interpolate_data_img/SN000762_II_desr.png\"\u001b[0m\u001b[0;34m,\u001b[0m \u001b[0;34m\"rb\"\u001b[0m\u001b[0;34m)\u001b[0m\u001b[0;34m)\u001b[0m\u001b[0;34m\u001b[0m\u001b[0;34m\u001b[0m\u001b[0m\n\u001b[0m",
      "\u001b[0;31mUnpicklingError\u001b[0m: A load persistent id instruction was encountered,\nbut no persistent_load function was specified."
     ]
    }
   ],
   "source": [
    "x = pickle.load(open(\"/home/felipematheus/Documents/tcc/notebooks/data/interpolate_data_img/SN000762_II_desr.png\", \"rb\"))"
   ]
  },
  {
   "cell_type": "code",
   "execution_count": null,
   "metadata": {},
   "outputs": [],
   "source": []
  }
 ],
 "metadata": {
  "kernelspec": {
   "display_name": "Python 3",
   "language": "python",
   "name": "python3"
  },
  "language_info": {
   "codemirror_mode": {
    "name": "ipython",
    "version": 3
   },
   "file_extension": ".py",
   "mimetype": "text/x-python",
   "name": "python",
   "nbconvert_exporter": "python",
   "pygments_lexer": "ipython3",
   "version": "3.7.1"
  }
 },
 "nbformat": 4,
 "nbformat_minor": 2
}
