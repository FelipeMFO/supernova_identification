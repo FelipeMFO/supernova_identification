{
 "cells": [
  {
   "cell_type": "code",
   "execution_count": 1,
   "metadata": {},
   "outputs": [
    {
     "name": "stdout",
     "output_type": "stream",
     "text": [
      "The quantity of objects is:  21317\n",
      "The shapes of the objects are:\n",
      "ids:  (21317,)\n",
      "labels:  (21317,)\n",
      "images:  (21317, 4, 30, 46)\n",
      "train_images:  (18000, 4, 30, 46)\n",
      "Other useful object: \"test_images\"\n",
      "1.13.1\n"
     ]
    }
   ],
   "source": [
    "%run pre_processing_template.ipynb"
   ]
  },
  {
   "cell_type": "code",
   "execution_count": 79,
   "metadata": {},
   "outputs": [],
   "source": [
    "#train_images.shape\n",
    "#test_images"
   ]
  },
  {
   "cell_type": "code",
   "execution_count": 146,
   "metadata": {},
   "outputs": [],
   "source": [
    "test_swaped = np.swapaxes(test_images,1,3)\n",
    "train_swaped = np.swapaxes(train_images,1,3)"
   ]
  },
  {
   "cell_type": "code",
   "execution_count": 144,
   "metadata": {},
   "outputs": [
    {
     "data": {
      "text/plain": [
       "(3317, 4, 30, 46)"
      ]
     },
     "execution_count": 144,
     "metadata": {},
     "output_type": "execute_result"
    }
   ],
   "source": [
    "test_images.shape"
   ]
  },
  {
   "cell_type": "code",
   "execution_count": 148,
   "metadata": {},
   "outputs": [
    {
     "data": {
      "text/plain": [
       "(3317, 46, 30, 4)"
      ]
     },
     "execution_count": 148,
     "metadata": {},
     "output_type": "execute_result"
    }
   ],
   "source": [
    "test_swaped.shape"
   ]
  },
  {
   "cell_type": "code",
   "execution_count": null,
   "metadata": {},
   "outputs": [],
   "source": []
  },
  {
   "cell_type": "code",
   "execution_count": 97,
   "metadata": {},
   "outputs": [],
   "source": [
    "import tensorflow as tf\n",
    "from tensorflow.keras.models import Sequential\n",
    "from tensorflow.keras.layers import Dense, Dropout, Activation, Flatten, Conv2D, MaxPooling2D, Conv3D, MaxPooling3D, ZeroPadding3D"
   ]
  },
  {
   "cell_type": "code",
   "execution_count": 150,
   "metadata": {
    "scrolled": true
   },
   "outputs": [
    {
     "name": "stdout",
     "output_type": "stream",
     "text": [
      "_________________________________________________________________\n",
      "Layer (type)                 Output Shape              Param #   \n",
      "=================================================================\n",
      "conv2d_17 (Conv2D)           (None, 46, 30, 64)        4160      \n",
      "_________________________________________________________________\n",
      "conv2d_18 (Conv2D)           (None, 46, 30, 64)        36928     \n",
      "_________________________________________________________________\n",
      "max_pooling2d_12 (MaxPooling (None, 23, 15, 64)        0         \n",
      "_________________________________________________________________\n",
      "conv2d_19 (Conv2D)           (None, 23, 15, 64)        36928     \n",
      "_________________________________________________________________\n",
      "max_pooling2d_13 (MaxPooling (None, 11, 7, 64)         0         \n",
      "_________________________________________________________________\n",
      "flatten_20 (Flatten)         (None, 4928)              0         \n",
      "_________________________________________________________________\n",
      "dense_50 (Dense)             (None, 8)                 39432     \n",
      "=================================================================\n",
      "Total params: 117,448\n",
      "Trainable params: 117,448\n",
      "Non-trainable params: 0\n",
      "_________________________________________________________________\n"
     ]
    }
   ],
   "source": [
    "img_rows, img_cols = 30, 46\n",
    "input_shape = (img_cols, img_rows, 4)\n",
    "\n",
    "model_cv = Sequential()\n",
    "\n",
    "model_cv.add(Conv2D(64, kernel_size=(4,4), padding='same', activation='relu', input_shape=input_shape))\n",
    "model_cv.add(Conv2D(64, kernel_size=(3,3), padding='same', activation='relu', input_shape=input_shape))\n",
    "model_cv.add(MaxPooling2D(pool_size=(2,2)))\n",
    "model_cv.add(Conv2D(64, kernel_size=(3,3), padding='same', activation='relu', input_shape=input_shape))\n",
    "model_cv.add(MaxPooling2D(pool_size=(2,2)))\n",
    "\n",
    "\n",
    "model_cv.add(Flatten())\n",
    "model_cv.add(Dense(8, activation=tf.nn.softmax))\n",
    "\n",
    "model_cv.summary()"
   ]
  },
  {
   "cell_type": "code",
   "execution_count": 151,
   "metadata": {},
   "outputs": [],
   "source": [
    "model_cv.compile(optimizer='adam', #optimizer = 'adadelta'\n",
    "              loss='sparse_categorical_crossentropy', #loss = \"binary_crossentropy\"\n",
    "              metrics=['accuracy'])"
   ]
  },
  {
   "cell_type": "code",
   "execution_count": 153,
   "metadata": {},
   "outputs": [
    {
     "name": "stdout",
     "output_type": "stream",
     "text": [
      "Epoch 1/10\n",
      "18000/18000 [==============================] - 141s 8ms/sample - loss: 1.1743 - acc: 0.6222\n",
      "Epoch 2/10\n",
      "18000/18000 [==============================] - 141s 8ms/sample - loss: 0.9224 - acc: 0.7160\n",
      "Epoch 3/10\n",
      "18000/18000 [==============================] - 145s 8ms/sample - loss: 0.8783 - acc: 0.7248\n",
      "Epoch 4/10\n",
      "18000/18000 [==============================] - 143s 8ms/sample - loss: 0.8313 - acc: 0.7352\n",
      "Epoch 5/10\n",
      "18000/18000 [==============================] - 142s 8ms/sample - loss: 0.7952 - acc: 0.7421\n",
      "Epoch 6/10\n",
      "18000/18000 [==============================] - 141s 8ms/sample - loss: 0.7566 - acc: 0.7525\n",
      "Epoch 7/10\n",
      "18000/18000 [==============================] - 142s 8ms/sample - loss: 0.7241 - acc: 0.7634\n",
      "Epoch 8/10\n",
      "18000/18000 [==============================] - 143s 8ms/sample - loss: 0.6931 - acc: 0.7720\n",
      "Epoch 9/10\n",
      "18000/18000 [==============================] - 142s 8ms/sample - loss: 0.6648 - acc: 0.7789\n",
      "Epoch 10/10\n",
      "18000/18000 [==============================] - 141s 8ms/sample - loss: 0.6370 - acc: 0.7864\n"
     ]
    },
    {
     "data": {
      "text/plain": [
       "<tensorflow.python.keras.callbacks.History at 0x7fbda16a0ef0>"
      ]
     },
     "execution_count": 153,
     "metadata": {},
     "output_type": "execute_result"
    }
   ],
   "source": [
    "model_cv.fit(train_swaped, train_labels, #validation_split = 0.1\n",
    "             epochs=10) "
   ]
  },
  {
   "cell_type": "markdown",
   "metadata": {},
   "source": [
    "# Train using simple Layers: tf.keras.layers.Dense"
   ]
  },
  {
   "cell_type": "code",
   "execution_count": 122,
   "metadata": {},
   "outputs": [
    {
     "name": "stdout",
     "output_type": "stream",
     "text": [
      "_________________________________________________________________\n",
      "Layer (type)                 Output Shape              Param #   \n",
      "=================================================================\n",
      "flatten_18 (Flatten)         (None, 5520)              0         \n",
      "_________________________________________________________________\n",
      "dense_43 (Dense)             (None, 128)               706688    \n",
      "_________________________________________________________________\n",
      "dense_44 (Dense)             (None, 128)               16512     \n",
      "_________________________________________________________________\n",
      "dense_45 (Dense)             (None, 128)               16512     \n",
      "_________________________________________________________________\n",
      "dense_46 (Dense)             (None, 128)               16512     \n",
      "_________________________________________________________________\n",
      "dense_47 (Dense)             (None, 128)               16512     \n",
      "_________________________________________________________________\n",
      "dense_48 (Dense)             (None, 8)                 1032      \n",
      "=================================================================\n",
      "Total params: 773,768\n",
      "Trainable params: 773,768\n",
      "Non-trainable params: 0\n",
      "_________________________________________________________________\n"
     ]
    }
   ],
   "source": [
    "img_rows, img_cols = 30, 46\n",
    "input_shape = (4, img_rows, img_cols)\n",
    "\n",
    "model = keras.Sequential([\n",
    "    keras.layers.Flatten(input_shape=(4, 30, 46)), #aqui mudar o novo shape () 64x40 iu 46x30, x4 talvez \n",
    "    #Transform the 2d array into a 1d with mxn \n",
    "    keras.layers.Dense(128, activation=tf.nn.relu),\n",
    "    keras.layers.Dense(128, activation=tf.nn.relu),\n",
    "    keras.layers.Dense(128, activation=tf.nn.relu),\n",
    "    keras.layers.Dense(128, activation=tf.nn.relu),\n",
    "    keras.layers.Dense(128, activation=tf.nn.relu),\n",
    "    keras.layers.Dense(8, activation=tf.nn.softmax) #exit layer, change to the number of class we have ()\n",
    "])\n",
    "\n",
    "model.summary()"
   ]
  },
  {
   "cell_type": "code",
   "execution_count": 126,
   "metadata": {},
   "outputs": [],
   "source": [
    "model.compile(optimizer='adam', \n",
    "              loss='sparse_categorical_crossentropy',\n",
    "              metrics=['accuracy'])"
   ]
  },
  {
   "cell_type": "code",
   "execution_count": 132,
   "metadata": {},
   "outputs": [
    {
     "name": "stdout",
     "output_type": "stream",
     "text": [
      "Epoch 1/10\n",
      "18000/18000 [==============================] - 22s 1ms/sample - loss: 1.3186 - acc: 0.5605\n",
      "Epoch 2/10\n",
      "18000/18000 [==============================] - 19s 1ms/sample - loss: 1.2928 - acc: 0.5668\n",
      "Epoch 3/10\n",
      "18000/18000 [==============================] - 22s 1ms/sample - loss: 1.2581 - acc: 0.5698\n",
      "Epoch 4/10\n",
      "18000/18000 [==============================] - 18s 1ms/sample - loss: 1.1575 - acc: 0.6217\n",
      "Epoch 5/10\n",
      "18000/18000 [==============================] - 27s 2ms/sample - loss: 1.0776 - acc: 0.6574\n",
      "Epoch 6/10\n",
      "18000/18000 [==============================] - 20s 1ms/sample - loss: 1.0496 - acc: 0.6695\n",
      "Epoch 7/10\n",
      "18000/18000 [==============================] - 26s 1ms/sample - loss: 1.0329 - acc: 0.6772\n",
      "Epoch 8/10\n",
      "18000/18000 [==============================] - 19s 1ms/sample - loss: 1.0242 - acc: 0.6787\n",
      "Epoch 9/10\n",
      "18000/18000 [==============================] - 16s 888us/sample - loss: 0.9992 - acc: 0.6879\n",
      "Epoch 10/10\n",
      "18000/18000 [==============================] - 20s 1ms/sample - loss: 1.0078 - acc: 0.6847\n"
     ]
    },
    {
     "data": {
      "text/plain": [
       "<tensorflow.python.keras.callbacks.History at 0x7fbda1f96978>"
      ]
     },
     "execution_count": 132,
     "metadata": {},
     "output_type": "execute_result"
    }
   ],
   "source": [
    "model.fit(train_images, train_labels, epochs=10)"
   ]
  },
  {
   "cell_type": "code",
   "execution_count": 118,
   "metadata": {},
   "outputs": [
    {
     "name": "stdout",
     "output_type": "stream",
     "text": [
      "_________________________________________________________________\n",
      "Layer (type)                 Output Shape              Param #   \n",
      "=================================================================\n",
      "conv2d_13 (Conv2D)           (None, 2, 28, 32)         13280     \n",
      "_________________________________________________________________\n",
      "max_pooling2d_9 (MaxPooling2 (None, 1, 14, 32)         0         \n",
      "_________________________________________________________________\n",
      "dropout_2 (Dropout)          (None, 1, 14, 32)         0         \n",
      "_________________________________________________________________\n",
      "flatten_17 (Flatten)         (None, 448)               0         \n",
      "_________________________________________________________________\n",
      "dense_41 (Dense)             (None, 128)               57472     \n",
      "_________________________________________________________________\n",
      "dense_42 (Dense)             (None, 10)                1290      \n",
      "=================================================================\n",
      "Total params: 72,042\n",
      "Trainable params: 72,042\n",
      "Non-trainable params: 0\n",
      "_________________________________________________________________\n"
     ]
    }
   ],
   "source": [
    "img_rows, img_cols = 30, 46\n",
    "input_shape = (4, img_rows, img_cols)\n",
    "\n",
    "cnn1 = Sequential()\n",
    "cnn1.add(Conv2D(32, kernel_size=(3, 3), activation='relu', input_shape=input_shape))\n",
    "cnn1.add(MaxPooling2D(pool_size=(2, 2)))\n",
    "cnn1.add(Dropout(0.2))\n",
    "\n",
    "cnn1.add(Flatten())\n",
    "\n",
    "cnn1.add(Dense(128, activation='relu'))\n",
    "cnn1.add(Dense(10, activation='softmax'))\n",
    "\n",
    "cnn1.summary()"
   ]
  },
  {
   "cell_type": "code",
   "execution_count": 125,
   "metadata": {},
   "outputs": [],
   "source": [
    "cnn1.compile(optimizer='adam', \n",
    "              loss='sparse_categorical_crossentropy',\n",
    "              metrics=['accuracy'])"
   ]
  },
  {
   "cell_type": "code",
   "execution_count": 131,
   "metadata": {},
   "outputs": [
    {
     "name": "stdout",
     "output_type": "stream",
     "text": [
      "Epoch 1/10\n",
      "18000/18000 [==============================] - 10s 581us/sample - loss: 1.1340 - acc: 0.6315\n",
      "Epoch 2/10\n",
      "18000/18000 [==============================] - 10s 561us/sample - loss: 1.1208 - acc: 0.6397\n",
      "Epoch 3/10\n",
      "18000/18000 [==============================] - 19s 1ms/sample - loss: 1.1229 - acc: 0.6356\n",
      "Epoch 4/10\n",
      "18000/18000 [==============================] - 24s 1ms/sample - loss: 1.1212 - acc: 0.6397\n",
      "Epoch 5/10\n",
      "18000/18000 [==============================] - 25s 1ms/sample - loss: 1.1176 - acc: 0.6378\n",
      "Epoch 6/10\n",
      "18000/18000 [==============================] - 25s 1ms/sample - loss: 1.1143 - acc: 0.6422\n",
      "Epoch 7/10\n",
      "18000/18000 [==============================] - 25s 1ms/sample - loss: 1.1054 - acc: 0.6448\n",
      "Epoch 8/10\n",
      "18000/18000 [==============================] - 22s 1ms/sample - loss: 1.1048 - acc: 0.6471\n",
      "Epoch 9/10\n",
      "18000/18000 [==============================] - 17s 921us/sample - loss: 1.0983 - acc: 0.6490\n",
      "Epoch 10/10\n",
      "18000/18000 [==============================] - 13s 747us/sample - loss: 1.0967 - acc: 0.6469\n"
     ]
    },
    {
     "data": {
      "text/plain": [
       "<tensorflow.python.keras.callbacks.History at 0x7fbda2728358>"
      ]
     },
     "execution_count": 131,
     "metadata": {},
     "output_type": "execute_result"
    }
   ],
   "source": [
    "cnn1.fit(train_images, train_labels, epochs=10)"
   ]
  },
  {
   "cell_type": "code",
   "execution_count": null,
   "metadata": {},
   "outputs": [],
   "source": [
    "\n"
   ]
  },
  {
   "cell_type": "code",
   "execution_count": null,
   "metadata": {},
   "outputs": [],
   "source": []
  },
  {
   "cell_type": "code",
   "execution_count": null,
   "metadata": {},
   "outputs": [],
   "source": [
    "\n"
   ]
  },
  {
   "cell_type": "code",
   "execution_count": 156,
   "metadata": {},
   "outputs": [
    {
     "name": "stdout",
     "output_type": "stream",
     "text": [
      "3317/3317 [==============================] - 1s 294us/sample - loss: 1.0613 - acc: 0.6551\n",
      "3317/3317 [==============================] - 9s 3ms/sample - loss: 0.8393 - acc: 0.7320\n",
      "3317/3317 [==============================] - 1s 298us/sample - loss: 1.1046 - acc: 0.6548\n",
      "Test accuracy model: 0.65511006\n",
      "Test accuracy model_cv: 0.73198676\n",
      "Test accuracy cnn: 0.6548086\n"
     ]
    }
   ],
   "source": [
    "test_loss_model, test_acc_model = model.evaluate(test_images, test_labels)\n",
    "test_loss_cv, test_acc_cv = model_cv.evaluate(test_swaped, test_labels)\n",
    "test_loss_cnn, test_acc_cnn = cnn1.evaluate(test_images, test_labels)\n",
    "\n",
    "print('Test accuracy model:', test_acc_model)\n",
    "print('Test accuracy model_cv:', test_acc_cv)\n",
    "print('Test accuracy cnn:', test_acc_cnn)"
   ]
  },
  {
   "cell_type": "code",
   "execution_count": 129,
   "metadata": {},
   "outputs": [],
   "source": [
    "#predictions = model.predict(test_images)\n",
    "#print(predictions[0], '\\n',\n",
    "#      'Predicted: ', np.argmax(predictions[0]), ' True one: ', test_labels[0])"
   ]
  },
  {
   "cell_type": "code",
   "execution_count": 12,
   "metadata": {},
   "outputs": [
    {
     "data": {
      "text/plain": [
       "array([[ 689,    0,    0,    0,  117,    0,    0,    0],\n",
       "       [ 181,    0,    0,    0,   52,    0,    0,    0],\n",
       "       [  34,    0,    0,    0,   10,    0,    0,    0],\n",
       "       [  97,    0,    0,    0,   72,    0,    0,    0],\n",
       "       [ 205,    0,    0,    0, 1620,    0,    0,    0],\n",
       "       [  57,    0,    0,    0,   19,    0,    0,    0],\n",
       "       [  39,    0,    0,    0,   91,    0,    0,    0],\n",
       "       [  14,    0,    0,    0,   20,    0,    0,    0]])"
      ]
     },
     "execution_count": 12,
     "metadata": {},
     "output_type": "execute_result"
    }
   ],
   "source": [
    "from sklearn.metrics import confusion_matrix\n",
    "y_true = test_labels\n",
    "y_pred = []\n",
    "for i in predictions:\n",
    "    y_pred.append(np.argmax(i))\n",
    "\n",
    "confusion_matrix(y_true, y_pred)"
   ]
  },
  {
   "cell_type": "markdown",
   "metadata": {},
   "source": [
    "# Training using Conv 3D"
   ]
  },
  {
   "cell_type": "code",
   "execution_count": 110,
   "metadata": {},
   "outputs": [],
   "source": [
    "train_im_3d = [train_images]\n",
    "train_lb_3d = [train_labels]"
   ]
  },
  {
   "cell_type": "code",
   "execution_count": 115,
   "metadata": {},
   "outputs": [
    {
     "name": "stdout",
     "output_type": "stream",
     "text": [
      "_________________________________________________________________\n",
      "Layer (type)                 Output Shape              Param #   \n",
      "=================================================================\n",
      "conv3d_15 (Conv3D)           (None, 4, 30, 46, 64)     4160      \n",
      "_________________________________________________________________\n",
      "zero_padding3d_8 (ZeroPaddin (None, 4, 32, 48, 64)     0         \n",
      "_________________________________________________________________\n",
      "max_pooling3d_8 (MaxPooling3 (None, 2, 16, 24, 64)     0         \n",
      "_________________________________________________________________\n",
      "flatten_14 (Flatten)         (None, 49152)             0         \n",
      "_________________________________________________________________\n",
      "dense_33 (Dense)             (None, 8)                 393224    \n",
      "=================================================================\n",
      "Total params: 397,384\n",
      "Trainable params: 397,384\n",
      "Non-trainable params: 0\n",
      "_________________________________________________________________\n"
     ]
    }
   ],
   "source": [
    "input_shape = (4, img_rows, img_cols, 1)\n",
    "\n",
    "model_cv3 = Sequential()\n",
    "# 1st layer group\n",
    "model_cv3.add(Conv3D(64, kernel_size=(4,4,4), padding='same', activation='relu', input_shape=input_shape))\n",
    "\n",
    "model_cv3.add(ZeroPadding3D(padding=(0, 1, 1)))\n",
    "model_cv3.add(MaxPooling3D(pool_size=(2, 2, 2), strides=(2, 2, 2)))\n",
    "\n",
    "model_cv3.add(Flatten())\n",
    "model_cv3.add(Dense(8, activation=tf.nn.softmax))\n",
    "#model_cv3.add(Flatten())\n",
    "## FC layers group\n",
    "#model_cv3.add(Dense(128, activation='relu', name='fc6'))\n",
    "#model_cv3.add(Dropout(.5))\n",
    "#model_cv3.add(Dense(128, activation='relu', name='fc7'))\n",
    "#model_cv3.add(Dropout(.5))\n",
    "#model_cv3.add(Dense(487, activation='softmax', name='fc8'))\n",
    "\n",
    "model_cv3.summary()"
   ]
  },
  {
   "cell_type": "code",
   "execution_count": 112,
   "metadata": {},
   "outputs": [],
   "source": [
    "model_cv3.compile(optimizer='adam', #optimizer = 'adadelta'\n",
    "              loss='sparse_categorical_crossentropy', #loss = \"binary_crossentropy\"\n",
    "              metrics=['accuracy'])"
   ]
  },
  {
   "cell_type": "code",
   "execution_count": 114,
   "metadata": {},
   "outputs": [
    {
     "ename": "ValueError",
     "evalue": "Error when checking input: expected conv3d_14_input to have 5 dimensions, but got array with shape (18000, 4, 30, 46)",
     "output_type": "error",
     "traceback": [
      "\u001b[0;31m---------------------------------------------------------------------------\u001b[0m",
      "\u001b[0;31mValueError\u001b[0m                                Traceback (most recent call last)",
      "\u001b[0;32m<ipython-input-114-36f059c6abb5>\u001b[0m in \u001b[0;36m<module>\u001b[0;34m\u001b[0m\n\u001b[1;32m      1\u001b[0m model_cv3.fit(train_im_3d, train_lb_3d, #validation_split = 0.1\n\u001b[0;32m----> 2\u001b[0;31m              epochs=3) \n\u001b[0m",
      "\u001b[0;32m~/anaconda3/lib/python3.7/site-packages/tensorflow/python/keras/engine/training.py\u001b[0m in \u001b[0;36mfit\u001b[0;34m(self, x, y, batch_size, epochs, verbose, callbacks, validation_split, validation_data, shuffle, class_weight, sample_weight, initial_epoch, steps_per_epoch, validation_steps, max_queue_size, workers, use_multiprocessing, **kwargs)\u001b[0m\n\u001b[1;32m    774\u001b[0m         \u001b[0msteps\u001b[0m\u001b[0;34m=\u001b[0m\u001b[0msteps_per_epoch\u001b[0m\u001b[0;34m,\u001b[0m\u001b[0;34m\u001b[0m\u001b[0;34m\u001b[0m\u001b[0m\n\u001b[1;32m    775\u001b[0m         \u001b[0mvalidation_split\u001b[0m\u001b[0;34m=\u001b[0m\u001b[0mvalidation_split\u001b[0m\u001b[0;34m,\u001b[0m\u001b[0;34m\u001b[0m\u001b[0;34m\u001b[0m\u001b[0m\n\u001b[0;32m--> 776\u001b[0;31m         shuffle=shuffle)\n\u001b[0m\u001b[1;32m    777\u001b[0m \u001b[0;34m\u001b[0m\u001b[0m\n\u001b[1;32m    778\u001b[0m     \u001b[0;31m# Prepare validation data.\u001b[0m\u001b[0;34m\u001b[0m\u001b[0;34m\u001b[0m\u001b[0;34m\u001b[0m\u001b[0m\n",
      "\u001b[0;32m~/anaconda3/lib/python3.7/site-packages/tensorflow/python/keras/engine/training.py\u001b[0m in \u001b[0;36m_standardize_user_data\u001b[0;34m(self, x, y, sample_weight, class_weight, batch_size, check_steps, steps_name, steps, validation_split, shuffle)\u001b[0m\n\u001b[1;32m   2380\u001b[0m         \u001b[0mfeed_input_shapes\u001b[0m\u001b[0;34m,\u001b[0m\u001b[0;34m\u001b[0m\u001b[0;34m\u001b[0m\u001b[0m\n\u001b[1;32m   2381\u001b[0m         \u001b[0mcheck_batch_axis\u001b[0m\u001b[0;34m=\u001b[0m\u001b[0;32mFalse\u001b[0m\u001b[0;34m,\u001b[0m  \u001b[0;31m# Don't enforce the batch size.\u001b[0m\u001b[0;34m\u001b[0m\u001b[0;34m\u001b[0m\u001b[0m\n\u001b[0;32m-> 2382\u001b[0;31m         exception_prefix='input')\n\u001b[0m\u001b[1;32m   2383\u001b[0m \u001b[0;34m\u001b[0m\u001b[0m\n\u001b[1;32m   2384\u001b[0m     \u001b[0;32mif\u001b[0m \u001b[0my\u001b[0m \u001b[0;32mis\u001b[0m \u001b[0;32mnot\u001b[0m \u001b[0;32mNone\u001b[0m\u001b[0;34m:\u001b[0m\u001b[0;34m\u001b[0m\u001b[0;34m\u001b[0m\u001b[0m\n",
      "\u001b[0;32m~/anaconda3/lib/python3.7/site-packages/tensorflow/python/keras/engine/training_utils.py\u001b[0m in \u001b[0;36mstandardize_input_data\u001b[0;34m(data, names, shapes, check_batch_axis, exception_prefix)\u001b[0m\n\u001b[1;32m    351\u001b[0m                            \u001b[0;34m': expected '\u001b[0m \u001b[0;34m+\u001b[0m \u001b[0mnames\u001b[0m\u001b[0;34m[\u001b[0m\u001b[0mi\u001b[0m\u001b[0;34m]\u001b[0m \u001b[0;34m+\u001b[0m \u001b[0;34m' to have '\u001b[0m \u001b[0;34m+\u001b[0m\u001b[0;34m\u001b[0m\u001b[0;34m\u001b[0m\u001b[0m\n\u001b[1;32m    352\u001b[0m                            \u001b[0mstr\u001b[0m\u001b[0;34m(\u001b[0m\u001b[0mlen\u001b[0m\u001b[0;34m(\u001b[0m\u001b[0mshape\u001b[0m\u001b[0;34m)\u001b[0m\u001b[0;34m)\u001b[0m \u001b[0;34m+\u001b[0m \u001b[0;34m' dimensions, but got array '\u001b[0m\u001b[0;34m\u001b[0m\u001b[0;34m\u001b[0m\u001b[0m\n\u001b[0;32m--> 353\u001b[0;31m                            'with shape ' + str(data_shape))\n\u001b[0m\u001b[1;32m    354\u001b[0m         \u001b[0;32mif\u001b[0m \u001b[0;32mnot\u001b[0m \u001b[0mcheck_batch_axis\u001b[0m\u001b[0;34m:\u001b[0m\u001b[0;34m\u001b[0m\u001b[0;34m\u001b[0m\u001b[0m\n\u001b[1;32m    355\u001b[0m           \u001b[0mdata_shape\u001b[0m \u001b[0;34m=\u001b[0m \u001b[0mdata_shape\u001b[0m\u001b[0;34m[\u001b[0m\u001b[0;36m1\u001b[0m\u001b[0;34m:\u001b[0m\u001b[0;34m]\u001b[0m\u001b[0;34m\u001b[0m\u001b[0;34m\u001b[0m\u001b[0m\n",
      "\u001b[0;31mValueError\u001b[0m: Error when checking input: expected conv3d_14_input to have 5 dimensions, but got array with shape (18000, 4, 30, 46)"
     ]
    }
   ],
   "source": [
    "model_cv3.fit(train_im_3d, train_lb_3d, #validation_split = 0.1\n",
    "             epochs=3) "
   ]
  },
  {
   "cell_type": "code",
   "execution_count": null,
   "metadata": {},
   "outputs": [],
   "source": []
  },
  {
   "cell_type": "markdown",
   "metadata": {},
   "source": [
    "# Training using Conv 3D, 2nd try"
   ]
  },
  {
   "cell_type": "code",
   "execution_count": 103,
   "metadata": {},
   "outputs": [
    {
     "name": "stdout",
     "output_type": "stream",
     "text": [
      "_________________________________________________________________\n",
      "Layer (type)                 Output Shape              Param #   \n",
      "=================================================================\n",
      "conv3d_11 (Conv3D)           (None, 4, 30, 46, 64)     4160      \n",
      "_________________________________________________________________\n",
      "zero_padding3d_4 (ZeroPaddin (None, 4, 32, 48, 64)     0         \n",
      "_________________________________________________________________\n",
      "max_pooling3d_4 (MaxPooling3 (None, 2, 16, 24, 64)     0         \n",
      "_________________________________________________________________\n",
      "conv3d_12 (Conv3D)           (None, 2, 16, 24, 64)     262208    \n",
      "_________________________________________________________________\n",
      "zero_padding3d_5 (ZeroPaddin (None, 2, 18, 26, 64)     0         \n",
      "_________________________________________________________________\n",
      "max_pooling3d_5 (MaxPooling3 (None, 1, 9, 13, 64)      0         \n",
      "=================================================================\n",
      "Total params: 266,368\n",
      "Trainable params: 266,368\n",
      "Non-trainable params: 0\n",
      "_________________________________________________________________\n"
     ]
    }
   ],
   "source": [
    "input_shape = (4, img_rows, img_cols, 1)\n",
    "\n",
    "model_cv3 = Sequential()\n",
    "# 1st layer group\n",
    "model_cv3.add(Conv3D(64, kernel_size=(4,4,4), padding='same', activation='relu', input_shape=input_shape))\n",
    "model_cv3.add(ZeroPadding3D(padding=(0, 1, 1)))\n",
    "model_cv3.add(MaxPooling3D(pool_size=(2, 2, 2), strides=(2, 2, 2)))\n",
    "\n",
    "model_cv3.add(Conv3D(64, kernel_size=(4,4,4), padding='same', activation='relu', input_shape=input_shape))\n",
    "model_cv3.add(ZeroPadding3D(padding=(0, 1, 1)))\n",
    "model_cv3.add(MaxPooling3D(pool_size=(2, 2, 2), strides=(2, 2, 2)))\n",
    "\n",
    "model_cv.add(Flatten())\n",
    "model_cv.add(Dense(8, activation=tf.nn.softmax))\n",
    "#model_cv3.add(Flatten())\n",
    "## FC layers group\n",
    "#model_cv3.add(Dense(128, activation='relu', name='fc6'))\n",
    "#model_cv3.add(Dropout(.5))\n",
    "#model_cv3.add(Dense(128, activation='relu', name='fc7'))\n",
    "#model_cv3.add(Dropout(.5))\n",
    "#model_cv3.add(Dense(487, activation='softmax', name='fc8'))\n",
    "\n",
    "model_cv3.summary()"
   ]
  },
  {
   "cell_type": "code",
   "execution_count": 104,
   "metadata": {},
   "outputs": [],
   "source": [
    "model_cv3_2.compile(optimizer='adam', #optimizer = 'adadelta'\n",
    "              loss='sparse_categorical_crossentropy', #loss = \"binary_crossentropy\"\n",
    "              metrics=['accuracy'])"
   ]
  },
  {
   "cell_type": "code",
   "execution_count": 105,
   "metadata": {},
   "outputs": [
    {
     "name": "stdout",
     "output_type": "stream",
     "text": [
      "Epoch 1/3\n",
      "18000/18000 [==============================] - 35s 2ms/sample - loss: 1.3803 - acc: 0.5406\n",
      "Epoch 2/3\n",
      "18000/18000 [==============================] - 39s 2ms/sample - loss: 1.2926 - acc: 0.5668\n",
      "Epoch 3/3\n",
      "18000/18000 [==============================] - 40s 2ms/sample - loss: 1.2901 - acc: 0.5668\n"
     ]
    },
    {
     "data": {
      "text/plain": [
       "<tensorflow.python.keras.callbacks.History at 0x7fbda89733c8>"
      ]
     },
     "execution_count": 105,
     "metadata": {},
     "output_type": "execute_result"
    }
   ],
   "source": [
    "model_cv3_2.fit(train_images, train_labels, #validation_split = 0.1\n",
    "             epochs=3) "
   ]
  },
  {
   "cell_type": "markdown",
   "metadata": {},
   "source": [
    "# Training using Conv 3D, 3rd try"
   ]
  },
  {
   "cell_type": "code",
   "execution_count": null,
   "metadata": {},
   "outputs": [],
   "source": [
    "input_shape = (4, img_rows, img_cols, 1)\n",
    "\n",
    "model_cv_3 = Sequential()\n",
    "# 1st layer group\n",
    "model_cv_3.add(Conv3D(64, kernel_size=(4,4,4), padding='same', activation='relu', input_shape=input_shape))\n",
    "model_cv_3.add(ZeroPadding3D(padding=(0, 1, 1)))\n",
    "model_cv_3.add(MaxPooling3D(pool_size=(2, 2, 2), strides=(2, 2, 2)))\n",
    "\n",
    "model_cv_3.add(Conv3D(64, kernel_size=(4,4,4), padding='same', activation='relu', input_shape=input_shape))\n",
    "model_cv_3.add(ZeroPadding3D(padding=(0, 1, 1)))\n",
    "model_cv_3.add(MaxPooling3D(pool_size=(2, 2, 2), strides=(2, 2, 2)))\n",
    "\n",
    "model_cv.add(Flatten())\n",
    "#model_cv_3.add(Flatten())\n",
    "## FC layers group\n",
    "#model_cv_3.add(Dense(128, activation='relu', name='fc6'))\n",
    "#model_cv_3.add(Dropout(.5))\n",
    "#model_cv_3.add(Dense(128, activation='relu', name='fc7'))\n",
    "#model_cv_3.add(Dropout(.5))\n",
    "model_cv_3.add(Dense(8, activation=tf.nn.softmax))\n",
    "\n",
    "model_cv_3.summary()"
   ]
  }
 ],
 "metadata": {
  "kernelspec": {
   "display_name": "Python 3",
   "language": "python",
   "name": "python3"
  },
  "language_info": {
   "codemirror_mode": {
    "name": "ipython",
    "version": 3
   },
   "file_extension": ".py",
   "mimetype": "text/x-python",
   "name": "python",
   "nbconvert_exporter": "python",
   "pygments_lexer": "ipython3",
   "version": "3.7.1"
  }
 },
 "nbformat": 4,
 "nbformat_minor": 2
}
