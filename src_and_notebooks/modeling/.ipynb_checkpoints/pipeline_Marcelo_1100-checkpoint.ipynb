{
 "cells": [
  {
   "cell_type": "code",
   "execution_count": 2,
   "metadata": {},
   "outputs": [],
   "source": [
    "%run ../code/wavelets_pca_with_zhost_1100_average_precision.py"
   ]
  },
  {
   "cell_type": "code",
   "execution_count": 3,
   "metadata": {},
   "outputs": [],
   "source": [
    "%run ../code/wavelets_pca_with_zhost_1100_roc_auc.py"
   ]
  },
  {
   "cell_type": "code",
   "execution_count": 4,
   "metadata": {},
   "outputs": [],
   "source": [
    "%run ../processing/read_data.py"
   ]
  },
  {
   "cell_type": "code",
   "execution_count": 5,
   "metadata": {},
   "outputs": [],
   "source": [
    "%run ../processing/functions.ipynb"
   ]
  },
  {
   "cell_type": "code",
   "execution_count": 7,
   "metadata": {},
   "outputs": [],
   "source": [
    "import george as gg\n",
    "import george.kernels as kr\n",
    "import sncosmo as snc\n",
    "import scipy.optimize as op\n",
    "import pywt as wt\n",
    "\n",
    "import os\n",
    "import time\n",
    "import numpy as np\n",
    "\n",
    "from sklearn.decomposition import PCA\n",
    "\n",
    "import pickle\n",
    "\n",
    "from sklearn.metrics import confusion_matrix\n",
    "from sklearn.model_selection import KFold\n",
    "from sklearn import model_selection\n",
    "\n",
    "import matplotlib\n",
    "matplotlib.use('Agg')\n",
    "import matplotlib.pyplot as plt\n",
    "\n"
   ]
  },
  {
   "cell_type": "code",
   "execution_count": 10,
   "metadata": {},
   "outputs": [],
   "source": [
    "pd.set_option(\"display.max_rows\", 6)"
   ]
  },
  {
   "cell_type": "markdown",
   "metadata": {},
   "source": [
    "## Go direct to section Generating the labels, where we can pickle read the pickle files with the DFs processed"
   ]
  },
  {
   "cell_type": "markdown",
   "metadata": {},
   "source": [
    "# ------------"
   ]
  },
  {
   "cell_type": "markdown",
   "metadata": {},
   "source": [
    "## Loading GP and Wavelets function"
   ]
  },
  {
   "cell_type": "code",
   "execution_count": 11,
   "metadata": {},
   "outputs": [],
   "source": [
    "def cleaning_df(df, method, clean_neg = True, percentage = 0.7):\n",
    "    if clean_neg: #verifies if the value is negative and if it is under the error margin, if it is, turn to zero\n",
    "        df[(df[:, 1] < 0) & (df[:, 1] > -df[:, 2]) , 1] = 0\n",
    "        df = df[(df[:, 1] > 0)] #otherwise just cut off\n",
    "    if method == 'std_dev': #cuts the points with error over the mean error + 1 std\n",
    "        threshold = df.mean(axis = 0)[2] + df.std(axis = 0)[2]\n",
    "        df_filter = df[(threshold>df[:,2])]\n",
    "    elif method == 'percentage':\n",
    "        threshold = df.max(axis = 0)[1] * percentage\n",
    "        df_filter = df[(threshold>df[:,2])]\n",
    "    elif method == '':\n",
    "        df_filter = df\n",
    "    return df_filter\n",
    "\n",
    "def gaussian_process(data, filters, method, path, printar = True):\n",
    "    path_to_export = path # '../../data/test/'\n",
    "    x = np.linspace(data.MJD.min(), data.MJD.max(), 100)\n",
    "    data_dict = {band: df[['MJD', 'FLUXCAL', 'FLUXCALERR']].values for band, df in data.groupby('FLT')}\n",
    "    \n",
    "    \n",
    "    mus = {filters[0] : [], filters[1] : [], filters[2] : [], filters[3] : []}\n",
    "    stds = {filters[0] : [], filters[1] : [], filters[2] : [], filters[3] : []}\n",
    "\n",
    "    for band, df in data_dict.items():\n",
    "        dat = cleaning_df(df, method)\n",
    "        gp = gg.GP((500**2)*kr.ExpSquaredKernel(metric=20**2), fit_mean=True)\n",
    "        gp.compute(dat[:,0], dat[:,2])  \n",
    "        # Define the objective function (negative log-likelihood in this case).\n",
    "        def nll(p):\n",
    "            gp.set_parameter_vector(p)\n",
    "            ll = gp.log_likelihood(dat[:,1], quiet=True)\n",
    "            return -ll if np.isfinite(ll) else 1e25\n",
    "    \n",
    "        # And the gradient of the objective function.\n",
    "        def grad_nll(p):\n",
    "            gp.set_parameter_vector(p)\n",
    "            return -gp.grad_log_likelihood(dat[:,1], quiet=True)\n",
    "          \n",
    "        p0 = gp.get_parameter_vector()\n",
    "        results = op.minimize(nll, p0, jac=grad_nll, method=\"L-BFGS-B\")\n",
    "        \n",
    "        mu, var = gp.predict(dat[:,1], x, return_var=True)\n",
    "        std = np.sqrt(var)\n",
    "        stds[band] = std\n",
    "        mus[band] = mu \n",
    "        \n",
    "        if printar:\n",
    "            matplotlib.use('Agg')\n",
    "            plt.ioff()\n",
    "            fig = plt.figure(num=None, figsize=(8, 5), dpi = 8, facecolor='w', edgecolor='w')\n",
    "            plt.plot(x, mu, color= 'k', linewidth = 5)\n",
    "            plt.axis('off')\n",
    "            plt.savefig(path_to_export + f[24:32] + '_'+ read_sn(f)['SIM_COMMENT'][3] +'_'+ band + '.png')\n",
    "            plt.close(fig)\n",
    "    \n",
    "    return 0, x, mus, stds\n",
    "\n",
    "#the keys are the names of the filters in order to be the dict keys\n",
    "def get_wavelets(sn, keys, method,path, wavelet = 'sym2', mlev = 2 , printar = False):\n",
    "    wav = wt.Wavelet(wavelet)\n",
    "    \n",
    "    fmin, xstar, mu, stds = gaussian_process(sn, keys, method, path, printar = printar) \n",
    "    coeffs = [np.array(wt.swt(mu[filt], wav, level=mlev)).flatten() for filt in keys]\n",
    "\n",
    "    return np.concatenate(coeffs)"
   ]
  },
  {
   "cell_type": "code",
   "execution_count": 12,
   "metadata": {},
   "outputs": [],
   "source": [
    "def gaussian_process_mat(data, filters, method, path, printar = True):\n",
    "    path_to_export = path # '../../data/test/'\n",
    "    x = np.linspace(data.MJD.min(), data.MJD.max(), 100)\n",
    "    data_dict = {band: df[['MJD', 'FLUXCAL', 'FLUXCALERR']].values for band, df in data.groupby('FLT')}\n",
    "    \n",
    "    \n",
    "    mus = {filters[0] : [], filters[1] : [], filters[2] : [], filters[3] : []}\n",
    "    stds = {filters[0] : [], filters[1] : [], filters[2] : [], filters[3] : []}\n",
    "\n",
    "    for band, df in data_dict.items():\n",
    "        dat = cleaning_df(df, method)\n",
    "        gp = gg.GP((500**2)*kr.Matern52Kernel(metric=20**2), fit_mean=True)\n",
    "        gp.compute(dat[:,0], dat[:,2])  \n",
    "        # Define the objective function (negative log-likelihood in this case).\n",
    "        def nll(p):\n",
    "            gp.set_parameter_vector(p)\n",
    "            ll = gp.log_likelihood(dat[:,1], quiet=True)\n",
    "            return -ll if np.isfinite(ll) else 1e25\n",
    "    \n",
    "        # And the gradient of the objective function.\n",
    "        def grad_nll(p):\n",
    "            gp.set_parameter_vector(p)\n",
    "            return -gp.grad_log_likelihood(dat[:,1], quiet=True)\n",
    "          \n",
    "        p0 = gp.get_parameter_vector()\n",
    "        results = op.minimize(nll, p0, jac=grad_nll, method=\"L-BFGS-B\")\n",
    "        \n",
    "        mu, var = gp.predict(dat[:,1], x, return_var=True)\n",
    "        std = np.sqrt(var)\n",
    "        stds[band] = std\n",
    "        mus[band] = mu \n",
    "        \n",
    "        if printar:\n",
    "            matplotlib.use('Agg')\n",
    "            plt.ioff()\n",
    "            fig = plt.figure(num=None, figsize=(8, 5), dpi = 8, facecolor='w', edgecolor='w')\n",
    "            plt.plot(x, mu, color= 'k', linewidth = 5)\n",
    "            plt.axis('off')\n",
    "            plt.savefig(path_to_export + f[24:32] + '_'+ read_sn(f)['SIM_COMMENT'][3] +'_'+ band + '.png')\n",
    "            plt.close(fig)\n",
    "    \n",
    "    return 0, x, mus, stds"
   ]
  },
  {
   "cell_type": "code",
   "execution_count": 19,
   "metadata": {
    "scrolled": true
   },
   "outputs": [],
   "source": [
    "path_to_read = '../../data/raw_data/'\n",
    "files = []\n",
    "for r, d, f in os.walk(path_to_read):\n",
    "    for file in f:\n",
    "        if '.DAT' in file:\n",
    "            files.append(os.path.join(r, file))"
   ]
  },
  {
   "cell_type": "markdown",
   "metadata": {},
   "source": [
    "### OBS: SOME FILES FOR SOME REASON COULD NOT BE PROCESSED USING WAVELETS, Those were:\n",
    "### DES_SN076747, DES_SN076747. DES_SN813144\n",
    "### ---------------------------\n",
    "### Generating the files with treatment below"
   ]
  },
  {
   "cell_type": "code",
   "execution_count": 22,
   "metadata": {},
   "outputs": [
    {
     "name": "stdout",
     "output_type": "stream",
     "text": [
      "CPU times: user 1.44 s, sys: 12 ms, total: 1.45 s\n",
      "Wall time: 1.76 s\n"
     ]
    }
   ],
   "source": [
    "%%time \n",
    "\n",
    "keys = ['desg' , 'desi' , 'desr' , 'desz']\n",
    "\n",
    "results_n = []\n",
    "\n",
    "for i, f in enumerate(files[0:10]):\n",
    "    results_n.append(get_wavelets(read_sn(path_to_read + f)['df'], keys, '', path = ''))\n",
    "\n",
    "##Time running:  2.58798155758116"
   ]
  },
  {
   "cell_type": "code",
   "execution_count": 238,
   "metadata": {
    "scrolled": false
   },
   "outputs": [
    {
     "name": "stdout",
     "output_type": "stream",
     "text": [
      "The file with problem was: ../../data/raw_data/DES_SN170148.DAT\n",
      "The file with problem was: ../../data/raw_data/DES_SN844311.DAT\n",
      "The file with problem was: ../../data/raw_data/DES_SN585441.DAT\n",
      "The file with problem was: ../../data/raw_data/DES_SN089947.DAT\n",
      "The file with problem was: ../../data/raw_data/DES_SN122840.DAT\n",
      "The file with problem was: ../../data/raw_data/DES_SN671692.DAT\n",
      "The file with problem was: ../../data/raw_data/DES_SN288256.DAT\n",
      "The file with problem was: ../../data/raw_data/DES_SN769696.DAT\n",
      "The file with problem was: ../../data/raw_data/DES_SN464421.DAT\n",
      "The file with problem was: ../../data/raw_data/DES_SN183066.DAT\n",
      "The file with problem was: ../../data/raw_data/DES_SN870945.DAT\n",
      "The file with problem was: ../../data/raw_data/DES_SN148636.DAT\n",
      "The file with problem was: ../../data/raw_data/DES_SN103896.DAT\n",
      "The file with problem was: ../../data/raw_data/DES_SN030273.DAT\n",
      "The file with problem was: ../../data/raw_data/DES_SN009140.DAT\n",
      "The file with problem was: ../../data/raw_data/DES_SN680089.DAT\n",
      "The file with problem was: ../../data/raw_data/DES_SN560067.DAT\n",
      "The file with problem was: ../../data/raw_data/DES_SN092930.DAT\n",
      "The file with problem was: ../../data/raw_data/DES_SN272322.DAT\n",
      "The file with problem was: ../../data/raw_data/DES_SN878097.DAT\n",
      "The file with problem was: ../../data/raw_data/DES_SN129954.DAT\n",
      "The file with problem was: ../../data/raw_data/DES_SN752224.DAT\n",
      "The file with problem was: ../../data/raw_data/DES_SN550738.DAT\n",
      "The file with problem was: ../../data/raw_data/DES_SN590606.DAT\n",
      "The file with problem was: ../../data/raw_data/DES_SN483395.DAT\n",
      "The file with problem was: ../../data/raw_data/DES_SN356314.DAT\n",
      "Time running:  1.378045023083687\n"
     ]
    }
   ],
   "source": [
    "#keys = ['desg' , 'desi' , 'desr' , 'desz']\n",
    "#\n",
    "#start = time.time()\n",
    "#\n",
    "#results_stddev = []\n",
    "#\n",
    "#for i, f in enumerate(files):\n",
    "#    \n",
    "#    try:\n",
    "#        #results_stddev.append(get_wavelets(read_sn(path_to_read + f)['df'], keys,'std_dev'))\n",
    "#    except:\n",
    "#        print(\"The file with problem was: \" + str(f) + \" index: \" + str(i))\n",
    "#\n",
    "#end = time.time()\n",
    "#print(\"Time running: \" , (end - start)/3600) \n",
    "###Time running:  1.378045023083687"
   ]
  },
  {
   "cell_type": "code",
   "execution_count": 275,
   "metadata": {
    "scrolled": false
   },
   "outputs": [
    {
     "name": "stdout",
     "output_type": "stream",
     "text": [
      "The file with problem was: ../../data/raw_data/DES_SN210261.DAT index: 227\n",
      "The file with problem was: ../../data/raw_data/DES_SN170148.DAT index: 582\n",
      "The file with problem was: ../../data/raw_data/DES_SN367622.DAT index: 750\n",
      "The file with problem was: ../../data/raw_data/DES_SN415102.DAT index: 825\n",
      "The file with problem was: ../../data/raw_data/DES_SN792792.DAT index: 1100\n",
      "The file with problem was: ../../data/raw_data/DES_SN398701.DAT index: 1575\n",
      "The file with problem was: ../../data/raw_data/DES_SN844311.DAT index: 1625\n",
      "The file with problem was: ../../data/raw_data/DES_SN486038.DAT index: 1654\n",
      "The file with problem was: ../../data/raw_data/DES_SN585441.DAT index: 1711\n",
      "The file with problem was: ../../data/raw_data/DES_SN128031.DAT index: 2100\n",
      "The file with problem was: ../../data/raw_data/DES_SN282046.DAT index: 2158\n",
      "The file with problem was: ../../data/raw_data/DES_SN367735.DAT index: 2485\n",
      "The file with problem was: ../../data/raw_data/DES_SN089947.DAT index: 2555\n",
      "The file with problem was: ../../data/raw_data/DES_SN192726.DAT index: 2701\n",
      "The file with problem was: ../../data/raw_data/DES_SN659107.DAT index: 3644\n",
      "The file with problem was: ../../data/raw_data/DES_SN334306.DAT index: 3740\n",
      "The file with problem was: ../../data/raw_data/DES_SN086076.DAT index: 4079\n",
      "The file with problem was: ../../data/raw_data/DES_SN206107.DAT index: 4959\n",
      "The file with problem was: ../../data/raw_data/DES_SN846900.DAT index: 5205\n",
      "The file with problem was: ../../data/raw_data/DES_SN498849.DAT index: 5684\n",
      "The file with problem was: ../../data/raw_data/DES_SN157163.DAT index: 5904\n",
      "The file with problem was: ../../data/raw_data/DES_SN572767.DAT index: 5919\n",
      "The file with problem was: ../../data/raw_data/DES_SN047498.DAT index: 5961\n",
      "The file with problem was: ../../data/raw_data/DES_SN174653.DAT index: 6007\n",
      "The file with problem was: ../../data/raw_data/DES_SN476645.DAT index: 6424\n",
      "The file with problem was: ../../data/raw_data/DES_SN491857.DAT index: 6449\n",
      "The file with problem was: ../../data/raw_data/DES_SN030419.DAT index: 6641\n",
      "The file with problem was: ../../data/raw_data/DES_SN286112.DAT index: 6647\n",
      "The file with problem was: ../../data/raw_data/DES_SN463965.DAT index: 6749\n",
      "The file with problem was: ../../data/raw_data/DES_SN695351.DAT index: 6944\n",
      "The file with problem was: ../../data/raw_data/DES_SN021207.DAT index: 7313\n",
      "The file with problem was: ../../data/raw_data/DES_SN097101.DAT index: 8123\n",
      "The file with problem was: ../../data/raw_data/DES_SN383168.DAT index: 8849\n",
      "The file with problem was: ../../data/raw_data/DES_SN310507.DAT index: 8851\n",
      "The file with problem was: ../../data/raw_data/DES_SN872098.DAT index: 9012\n",
      "The file with problem was: ../../data/raw_data/DES_SN635052.DAT index: 9053\n",
      "The file with problem was: ../../data/raw_data/DES_SN426392.DAT index: 9475\n",
      "The file with problem was: ../../data/raw_data/DES_SN870945.DAT index: 9822\n",
      "The file with problem was: ../../data/raw_data/DES_SN347716.DAT index: 9823\n",
      "The file with problem was: ../../data/raw_data/DES_SN637699.DAT index: 9878\n",
      "The file with problem was: ../../data/raw_data/DES_SN641543.DAT index: 9986\n",
      "The file with problem was: ../../data/raw_data/DES_SN279072.DAT index: 10626\n",
      "The file with problem was: ../../data/raw_data/DES_SN249638.DAT index: 10831\n",
      "The file with problem was: ../../data/raw_data/DES_SN043855.DAT index: 11068\n",
      "The file with problem was: ../../data/raw_data/DES_SN064335.DAT index: 11219\n",
      "The file with problem was: ../../data/raw_data/DES_SN890812.DAT index: 11483\n",
      "The file with problem was: ../../data/raw_data/DES_SN265851.DAT index: 11493\n",
      "The file with problem was: ../../data/raw_data/DES_SN453310.DAT index: 11587\n",
      "The file with problem was: ../../data/raw_data/DES_SN231610.DAT index: 12723\n",
      "The file with problem was: ../../data/raw_data/DES_SN789100.DAT index: 13131\n",
      "The file with problem was: ../../data/raw_data/DES_SN560067.DAT index: 13445\n",
      "The file with problem was: ../../data/raw_data/DES_SN822951.DAT index: 13485\n",
      "The file with problem was: ../../data/raw_data/DES_SN897235.DAT index: 13664\n",
      "The file with problem was: ../../data/raw_data/DES_SN753707.DAT index: 13906\n",
      "The file with problem was: ../../data/raw_data/DES_SN380686.DAT index: 14169\n",
      "The file with problem was: ../../data/raw_data/DES_SN092930.DAT index: 14301\n",
      "The file with problem was: ../../data/raw_data/DES_SN031409.DAT index: 14315\n",
      "The file with problem was: ../../data/raw_data/DES_SN272322.DAT index: 14333\n",
      "The file with problem was: ../../data/raw_data/DES_SN129954.DAT index: 14846\n",
      "The file with problem was: ../../data/raw_data/DES_SN220126.DAT index: 15421\n",
      "The file with problem was: ../../data/raw_data/DES_SN469797.DAT index: 16352\n",
      "The file with problem was: ../../data/raw_data/DES_SN863770.DAT index: 16995\n",
      "The file with problem was: ../../data/raw_data/DES_SN698744.DAT index: 16999\n",
      "The file with problem was: ../../data/raw_data/DES_SN306700.DAT index: 17252\n",
      "The file with problem was: ../../data/raw_data/DES_SN350188.DAT index: 17371\n",
      "The file with problem was: ../../data/raw_data/DES_SN411522.DAT index: 17590\n",
      "The file with problem was: ../../data/raw_data/DES_SN810542.DAT index: 17650\n",
      "The file with problem was: ../../data/raw_data/DES_SN483395.DAT index: 17687\n",
      "The file with problem was: ../../data/raw_data/DES_SN183779.DAT index: 17959\n",
      "The file with problem was: ../../data/raw_data/DES_SN577235.DAT index: 17982\n",
      "The file with problem was: ../../data/raw_data/DES_SN315095.DAT index: 17999\n",
      "The file with problem was: ../../data/raw_data/DES_SN335829.DAT index: 18468\n",
      "The file with problem was: ../../data/raw_data/DES_SN350369.DAT index: 18537\n",
      "The file with problem was: ../../data/raw_data/DES_SN156320.DAT index: 18890\n",
      "The file with problem was: ../../data/raw_data/DES_SN196833.DAT index: 19100\n",
      "The file with problem was: ../../data/raw_data/DES_SN860863.DAT index: 19219\n",
      "The file with problem was: ../../data/raw_data/DES_SN710603.DAT index: 19297\n",
      "The file with problem was: ../../data/raw_data/DES_SN196667.DAT index: 20002\n"
     ]
    },
    {
     "name": "stderr",
     "output_type": "stream",
     "text": [
      "/home/felipematheus/anaconda3/lib/python3.7/site-packages/george/gp.py:410: RuntimeWarning: invalid value encountered in subtract\n",
      "  A = np.einsum(\"i,j\", alpha, alpha) - K_inv\n"
     ]
    },
    {
     "name": "stdout",
     "output_type": "stream",
     "text": [
      "The file with problem was: ../../data/raw_data/DES_SN169212.DAT index: 20379\n",
      "The file with problem was: ../../data/raw_data/DES_SN588165.DAT index: 20508\n",
      "The file with problem was: ../../data/raw_data/DES_SN498066.DAT index: 21006\n",
      "The file with problem was: ../../data/raw_data/DES_SN559445.DAT index: 21052\n",
      "The file with problem was: ../../data/raw_data/DES_SN492802.DAT index: 21170\n",
      "The file with problem was: ../../data/raw_data/DES_SN118863.DAT index: 21265\n",
      "Time running:  3.5195248397191365\n"
     ]
    }
   ],
   "source": [
    "#keys = ['desg' , 'desi' , 'desr' , 'desz']\n",
    "#\n",
    "#start = time.time()\n",
    "#\n",
    "#results_perc = []\n",
    "#\n",
    "#for i, f in enumerate(files):\n",
    "#    \n",
    "#    #file_name = f[20:] #edit here everytime we change the folder\n",
    "#    #read = read_sn(path_to_read + file_name)\n",
    "#    #df = read['df']\n",
    "#    \n",
    "#    try:\n",
    "#        #results_n.append(get_wavelets(read_sn(path_to_read + f)['df'], keys, ''))\n",
    "#        #results_stddev.append(get_wavelets(read_sn(path_to_read + f)['df'], keys,'std_dev'))\n",
    "#        results_perc.append(get_wavelets(read_sn(path_to_read + f)['df'], keys, 'percentage', '../../data/dl_marcelo_perc/'))\n",
    "#    except:\n",
    "#        print(\"The file with problem was: \" + str(f) + \" index: \" + str(i))\n",
    "#\n",
    "#end = time.time()\n",
    "#print(\"Time running: \" , (end - start)/3600) \n",
    "###Time running:  2.58798155758116"
   ]
  },
  {
   "cell_type": "code",
   "execution_count": 276,
   "metadata": {},
   "outputs": [
    {
     "name": "stdout",
     "output_type": "stream",
     "text": [
      "Time running:  3.4882003411981795\n"
     ]
    }
   ],
   "source": [
    "#keys = ['desg' , 'desi' , 'desr' , 'desz']\n",
    "#\n",
    "#start = time.time()\n",
    "#\n",
    "#for i, f in enumerate(files):\n",
    "#    \n",
    "#    #file_name = f[20:] #edit here everytime we change the folder\n",
    "#    #read = read_sn(path_to_read + file_name)\n",
    "#    #df = read['df']\n",
    "#    \n",
    "#    try:\n",
    "#        #results_n.append(get_wavelets(read_sn(path_to_read + f)['df'], keys, ''))\n",
    "#        #results_stddev.append(get_wavelets(read_sn(path_to_read + f)['df'], keys,'std_dev'))\n",
    "#        gaussian_process(read_sn(path_to_read + f)['df'], keys, '', '../../data/dl_marcelo_no_treat/')\n",
    "#    except:\n",
    "#        print(\"The file with problem was: \" + str(f) + \" index: \" + str(i))\n",
    "#\n",
    "#end = time.time()\n",
    "#print(\"Time running: \" , (end - start)/3600) \n",
    "###Time running:  2.58798155758116"
   ]
  },
  {
   "cell_type": "code",
   "execution_count": 277,
   "metadata": {
    "scrolled": false
   },
   "outputs": [
    {
     "name": "stdout",
     "output_type": "stream",
     "text": [
      "The file with problem was: ../../data/raw_data/DES_SN170148.DAT index: 582\n",
      "The file with problem was: ../../data/raw_data/DES_SN844311.DAT index: 1625\n",
      "The file with problem was: ../../data/raw_data/DES_SN585441.DAT index: 1711\n",
      "The file with problem was: ../../data/raw_data/DES_SN089947.DAT index: 2555\n",
      "The file with problem was: ../../data/raw_data/DES_SN122840.DAT index: 3050\n",
      "The file with problem was: ../../data/raw_data/DES_SN671692.DAT index: 4676\n",
      "The file with problem was: ../../data/raw_data/DES_SN288256.DAT index: 4987\n",
      "The file with problem was: ../../data/raw_data/DES_SN769696.DAT index: 6064\n",
      "The file with problem was: ../../data/raw_data/DES_SN464421.DAT index: 7506\n",
      "The file with problem was: ../../data/raw_data/DES_SN183066.DAT index: 8897\n",
      "The file with problem was: ../../data/raw_data/DES_SN870945.DAT index: 9822\n",
      "The file with problem was: ../../data/raw_data/DES_SN148636.DAT index: 10965\n",
      "The file with problem was: ../../data/raw_data/DES_SN103896.DAT index: 11145\n",
      "The file with problem was: ../../data/raw_data/DES_SN030273.DAT index: 12290\n",
      "The file with problem was: ../../data/raw_data/DES_SN009140.DAT index: 12411\n",
      "The file with problem was: ../../data/raw_data/DES_SN680089.DAT index: 13205\n",
      "The file with problem was: ../../data/raw_data/DES_SN560067.DAT index: 13445\n",
      "The file with problem was: ../../data/raw_data/DES_SN092930.DAT index: 14301\n",
      "The file with problem was: ../../data/raw_data/DES_SN272322.DAT index: 14333\n",
      "The file with problem was: ../../data/raw_data/DES_SN878097.DAT index: 14608\n",
      "The file with problem was: ../../data/raw_data/DES_SN129954.DAT index: 14846\n",
      "The file with problem was: ../../data/raw_data/DES_SN752224.DAT index: 15059\n",
      "The file with problem was: ../../data/raw_data/DES_SN550738.DAT index: 16000\n",
      "The file with problem was: ../../data/raw_data/DES_SN590606.DAT index: 16178\n",
      "The file with problem was: ../../data/raw_data/DES_SN483395.DAT index: 17687\n",
      "The file with problem was: ../../data/raw_data/DES_SN356314.DAT index: 19156\n",
      "Time running:  3.533943514559004\n"
     ]
    }
   ],
   "source": [
    "#keys = ['desg' , 'desi' , 'desr' , 'desz']\n",
    "#\n",
    "#start = time.time()\n",
    "#\n",
    "#for i, f in enumerate(files):\n",
    "#    \n",
    "#    #file_name = f[20:] #edit here everytime we change the folder\n",
    "#    #read = read_sn(path_to_read + file_name)\n",
    "#    #df = read['df']\n",
    "#    \n",
    "#    try:\n",
    "#        #results_n.append(get_wavelets(read_sn(path_to_read + f)['df'], keys, ''))\n",
    "#        #results_stddev.append(get_wavelets(read_sn(path_to_read + f)['df'], keys,'std_dev'))\n",
    "#        gaussian_process(read_sn(path_to_read + f)['df'], keys, 'std_dev', '../../data/dl_marcelo_stddev/')\n",
    "#    except:\n",
    "#        print(\"The file with problem was: \" + str(f) + \" index: \" + str(i))\n",
    "#\n",
    "#end = time.time()\n",
    "#print(\"Time running: \" , (end - start)/3600) \n",
    "###Time running:  2.58798155758116"
   ]
  },
  {
   "cell_type": "code",
   "execution_count": 289,
   "metadata": {},
   "outputs": [
    {
     "name": "stdout",
     "output_type": "stream",
     "text": [
      "Number of files with std_dev:  21290 . Number of files without treatment:  21316 Number of files with percentage:  21232\n"
     ]
    }
   ],
   "source": [
    "#print(\"Number of files with std_dev: \", len(results_stddev),\". Number of files without treatment: \", len(results_n), \"Number of files with percentage: \", len(results_perc))"
   ]
  },
  {
   "cell_type": "code",
   "execution_count": 285,
   "metadata": {},
   "outputs": [],
   "source": [
    "#pickle_out = open(\"../../models/wavelet_df_pipeline_Marcelo_SemTratamento.pickle\",\"wb\")\n",
    "#pickle.dump(results_n, pickle_out)\n",
    "#pickle_out.close()"
   ]
  },
  {
   "cell_type": "code",
   "execution_count": 286,
   "metadata": {},
   "outputs": [],
   "source": [
    "#pickle_out = open(\"../../models/wavelet_df_pipeline_Marcelo_TratamentoStddev.pickle\",\"wb\")\n",
    "#pickle.dump(results_stddev, pickle_out)\n",
    "#pickle_out.close()"
   ]
  },
  {
   "cell_type": "code",
   "execution_count": 287,
   "metadata": {},
   "outputs": [],
   "source": [
    "#pickle_out = open(\"../../models/wavelet_df_pipeline_Marcelo_TratamentoPerc.pickle\",\"wb\")\n",
    "#pickle.dump(results_perc, pickle_out)\n",
    "#pickle_out.close()"
   ]
  },
  {
   "cell_type": "markdown",
   "metadata": {},
   "source": [
    "## Generating the labels:"
   ]
  },
  {
   "cell_type": "code",
   "execution_count": 7,
   "metadata": {},
   "outputs": [],
   "source": [
    "not_in_stddev = [582,1625,1711,2555,3050,4676,4987,6064,7506,8897,9822,10965,11145,12290,12411,13205,13445,14301,14333,14608,14846,15059,16000,16178,17687,19156]\n",
    "not_in_perc = [227,582,750,825,1100,1575,1625,1654,1711,2100,2158,2485,2555,2701,3644,3740,4079,4959,5205,5684,5904,5919,5961,6007,6424,6449,6641,6647,6749,6944,7313,8123,8849,8851,9012,9053,9475,9822,9823,9878,9986,10626,10831,11068,11219,11483,11493,11587,12723,13131,13445,13485,13664,13906,14169,14301,14315,14333,14846,15421,16352,16995,16999,17252,17371,17590,17650,17687,17959,17982,17999,18468,18537,18890,19100,19219,19297,20002,20379,20508,21006,21052,21170,21265]"
   ]
  },
  {
   "cell_type": "code",
   "execution_count": 297,
   "metadata": {},
   "outputs": [],
   "source": [
    "#files_stddev = []\n",
    "#files_perc = []\n",
    "#for i, f in enumerate(files):\n",
    "#    if i not in not_in_stddev:\n",
    "#        files_stddev.append(f)\n",
    "#    if i not in not_in_perc:\n",
    "#        files_perc.append(f)"
   ]
  },
  {
   "cell_type": "code",
   "execution_count": 305,
   "metadata": {},
   "outputs": [
    {
     "data": {
      "text/plain": [
       "True"
      ]
     },
     "execution_count": 305,
     "metadata": {},
     "output_type": "execute_result"
    }
   ],
   "source": [
    "#(len(files_stddev) == len(results_stddev) and len(files_perc) == len(results_perc))"
   ]
  },
  {
   "cell_type": "code",
   "execution_count": 314,
   "metadata": {},
   "outputs": [],
   "source": [
    "## Non optimize way of doing this\n",
    "#\n",
    "#labels_notreat = []\n",
    "#labels_stddev = []\n",
    "#labels_perc = []\n",
    "#for f in files:\n",
    "#    read = read_sn(f)\n",
    "#    label = read['SIM_COMMENT'][3]\n",
    "#    labels_notreat.append(label)\n",
    "#    \n",
    "#for f in files_stddev:\n",
    "#    read = read_sn(f)\n",
    "#    label = read['SIM_COMMENT'][3]\n",
    "#    labels_stddev.append(label)\n",
    "#    \n",
    "#for f in files_perc:\n",
    "#    read = read_sn(f)\n",
    "#    label = read['SIM_COMMENT'][3]\n",
    "#    labels_perc.append(label)"
   ]
  },
  {
   "cell_type": "code",
   "execution_count": 324,
   "metadata": {},
   "outputs": [
    {
     "data": {
      "text/plain": [
       "True"
      ]
     },
     "execution_count": 324,
     "metadata": {},
     "output_type": "execute_result"
    }
   ],
   "source": [
    "#(len(files_stddev) == len(labels_stddev) and len(files_perc) == len(labels_perc)) and len(files) == len(labels_notreat)"
   ]
  },
  {
   "cell_type": "code",
   "execution_count": 9,
   "metadata": {},
   "outputs": [],
   "source": [
    "#pickle_out = open(\"../../models/label_SemTratamento.pickle\",\"wb\")\n",
    "#pickle.dump(labels_notreat, pickle_out)\n",
    "#p#ickle_out.close()"
   ]
  },
  {
   "cell_type": "code",
   "execution_count": 320,
   "metadata": {},
   "outputs": [],
   "source": [
    "#pickle_out = open(\"../../models/labels_Stddev.pickle\",\"wb\")\n",
    "#pickle.dump(labels_stddev, pickle_out)\n",
    "#pickle_out.close()"
   ]
  },
  {
   "cell_type": "code",
   "execution_count": 321,
   "metadata": {},
   "outputs": [],
   "source": [
    "#pickle_out = open(\"../../models/labels_Perc.pickle\",\"wb\")\n",
    "#pickle.dump(labels_perc, pickle_out)\n",
    "#pickle_out.close()"
   ]
  },
  {
   "cell_type": "code",
   "execution_count": 8,
   "metadata": {},
   "outputs": [],
   "source": [
    "pickle_results = open(\"../../models/wavelet_df_pipeline_Marcelo_SemTratamento.pickle\",\"rb\")\n",
    "pickle_labels = open(\"../../models/label_SemTratamento.pickle\",\"rb\")\n",
    "\n",
    "r1 = pickle.load(pickle_results)\n",
    "l1 = pickle.load(pickle_labels)"
   ]
  },
  {
   "cell_type": "code",
   "execution_count": 336,
   "metadata": {},
   "outputs": [
    {
     "data": {
      "text/plain": [
       "True"
      ]
     },
     "execution_count": 336,
     "metadata": {},
     "output_type": "execute_result"
    }
   ],
   "source": [
    "#l1==labels_notreat"
   ]
  },
  {
   "cell_type": "code",
   "execution_count": 335,
   "metadata": {},
   "outputs": [
    {
     "data": {
      "text/plain": [
       "True"
      ]
     },
     "execution_count": 335,
     "metadata": {},
     "output_type": "execute_result"
    }
   ],
   "source": [
    "#all(r1[0]==results_n[0])"
   ]
  },
  {
   "cell_type": "code",
   "execution_count": 9,
   "metadata": {},
   "outputs": [],
   "source": [
    "pickle_results = open(\"../../models/wavelet_df_pipeline_Marcelo_TratamentoStddev.pickle\",\"rb\")\n",
    "pickle_labels = open(\"../../models/labels_Stddev.pickle\",\"rb\")\n",
    "\n",
    "r2 = pickle.load(pickle_results)\n",
    "l2 = pickle.load(pickle_labels)"
   ]
  },
  {
   "cell_type": "code",
   "execution_count": 341,
   "metadata": {},
   "outputs": [
    {
     "data": {
      "text/plain": [
       "True"
      ]
     },
     "execution_count": 341,
     "metadata": {},
     "output_type": "execute_result"
    }
   ],
   "source": [
    "#l2==labels_stddev"
   ]
  },
  {
   "cell_type": "code",
   "execution_count": 342,
   "metadata": {},
   "outputs": [
    {
     "data": {
      "text/plain": [
       "True"
      ]
     },
     "execution_count": 342,
     "metadata": {},
     "output_type": "execute_result"
    }
   ],
   "source": [
    "#all(r2[-1]==results_stddev[-1])"
   ]
  },
  {
   "cell_type": "code",
   "execution_count": 10,
   "metadata": {},
   "outputs": [],
   "source": [
    "pickle_results = open(\"../../models/wavelet_df_pipeline_Marcelo_TratamentoPerc.pickle\",\"rb\")\n",
    "pickle_labels = open(\"../../models/labels_Perc.pickle\",\"rb\")\n",
    "\n",
    "r3 = pickle.load(pickle_results)\n",
    "l3 = pickle.load(pickle_labels)"
   ]
  },
  {
   "cell_type": "code",
   "execution_count": 345,
   "metadata": {},
   "outputs": [
    {
     "data": {
      "text/plain": [
       "True"
      ]
     },
     "execution_count": 345,
     "metadata": {},
     "output_type": "execute_result"
    }
   ],
   "source": [
    "#l3==labels_perc"
   ]
  },
  {
   "cell_type": "code",
   "execution_count": 346,
   "metadata": {},
   "outputs": [
    {
     "data": {
      "text/plain": [
       "True"
      ]
     },
     "execution_count": 346,
     "metadata": {},
     "output_type": "execute_result"
    }
   ],
   "source": [
    "#all(r3[-1]==results_perc[-1])"
   ]
  },
  {
   "cell_type": "markdown",
   "metadata": {},
   "source": [
    "## Wavelets done, PCA now"
   ]
  },
  {
   "cell_type": "code",
   "execution_count": 11,
   "metadata": {},
   "outputs": [
    {
     "name": "stdout",
     "output_type": "stream",
     "text": [
      "[7.75139627e-01 1.11045532e-01 5.09795625e-02 1.92517498e-02\n",
      " 1.03859442e-02 7.71441752e-03 5.63014020e-03 4.70266276e-03\n",
      " 3.34344041e-03 2.22753309e-03 1.57727944e-03 1.49117888e-03\n",
      " 1.02304307e-03 9.17428064e-04 7.46378592e-04 6.19093209e-04\n",
      " 5.12147206e-04 4.40270591e-04 3.24403584e-04 2.78871684e-04]\n",
      "[600322.42813674 227219.26123098 153954.59346039  94608.40123326\n",
      "  69489.24486854  59888.87696224  51162.78822014  46759.14024077\n",
      "  39426.78753939  32181.52948381  27080.01625222  26330.52210398\n",
      "  21809.29159654  20652.87943878  18628.34129931  16965.73266035\n",
      "  15430.92651381  14307.19305601  12281.10432939  11386.67194194]\n"
     ]
    }
   ],
   "source": [
    "pca = PCA(n_components=20)\n",
    "pca.fit(r1)  \n",
    "print(pca.explained_variance_ratio_)\n",
    "print(pca.singular_values_)"
   ]
  },
  {
   "cell_type": "code",
   "execution_count": 12,
   "metadata": {},
   "outputs": [],
   "source": [
    "df1_pca_20 = pca.fit_transform(r1) #or pca.transform(results), same thing"
   ]
  },
  {
   "cell_type": "code",
   "execution_count": 13,
   "metadata": {},
   "outputs": [
    {
     "name": "stdout",
     "output_type": "stream",
     "text": [
      "[8.08647467e-01 8.33815865e-02 4.23725731e-02 1.48731534e-02\n",
      " 1.31549595e-02 7.08009948e-03 6.20994046e-03 3.83201416e-03\n",
      " 3.31470645e-03 3.24112794e-03 2.02171447e-03 1.86506921e-03\n",
      " 1.40284138e-03 1.22209573e-03 1.14586046e-03 1.04790392e-03\n",
      " 9.23452923e-04 6.65578983e-04 5.87773763e-04 4.33689740e-04]\n",
      "[567138.87606156 182114.64850976 129823.17366333  76915.05085843\n",
      "  72336.01170912  53067.60436113  49699.67183202  39041.21774946\n",
      "  36310.50920221  35905.24462807  28357.6156732   27236.87506213\n",
      "  23621.85972207  22047.65558423  21348.90822884  20415.99426286\n",
      "  19165.36889209  16270.82607556  15290.26107063  13134.07151689]\n"
     ]
    }
   ],
   "source": [
    "pca = PCA(n_components=20)\n",
    "pca.fit(r2)  \n",
    "print(pca.explained_variance_ratio_)\n",
    "print(pca.singular_values_)"
   ]
  },
  {
   "cell_type": "code",
   "execution_count": 14,
   "metadata": {},
   "outputs": [],
   "source": [
    "df2_pca_20 = pca.fit_transform(r2) "
   ]
  },
  {
   "cell_type": "code",
   "execution_count": 15,
   "metadata": {},
   "outputs": [
    {
     "name": "stdout",
     "output_type": "stream",
     "text": [
      "[7.75148767e-01 1.11049268e-01 5.09766783e-02 1.92527644e-02\n",
      " 1.03859251e-02 7.71314018e-03 5.62587600e-03 4.70173361e-03\n",
      " 3.34355917e-03 2.22695433e-03 1.57689450e-03 1.49095287e-03\n",
      " 1.02323219e-03 9.16631755e-04 7.45814736e-04 6.18985501e-04\n",
      " 5.11693779e-04 4.39811168e-04 3.24049243e-04 2.78669692e-04]\n",
      "[600308.69083556 227216.54423588 153945.80788357  94608.17132523\n",
      "  69487.18100765  59882.19519343  51141.93761248  46753.17510607\n",
      "  39426.35308218  32176.42248985  27075.93232785  26327.76900263\n",
      "  21810.6795838   20643.32023806  18620.76763064  16963.76855124\n",
      "  15423.65025805  14299.31478422  12274.04202324  11382.21984173]\n"
     ]
    }
   ],
   "source": [
    "pca = PCA(n_components=20)\n",
    "pca.fit(r3)  \n",
    "print(pca.explained_variance_ratio_)\n",
    "print(pca.singular_values_)"
   ]
  },
  {
   "cell_type": "code",
   "execution_count": 16,
   "metadata": {},
   "outputs": [],
   "source": [
    "df3_pca_20 = pca.fit_transform(r3) "
   ]
  },
  {
   "cell_type": "markdown",
   "metadata": {},
   "source": [
    "## Using Pipelines"
   ]
  },
  {
   "cell_type": "code",
   "execution_count": 17,
   "metadata": {},
   "outputs": [],
   "source": [
    "conversion = {'IIL' : 5, 'IIP' : 7, 'II' : 4, 'IIn' : 6, 'Ia' : 0, 'Ib' : 1, 'Ibc' : 2, 'Ic' : 3}\n",
    "conversion_bool = {'IIL' : 0, 'IIP' : 0, 'II' : 0, 'IIn' : 0, 'Ia' : 1, 'Ib' : 0, 'Ibc' : 0, 'Ic' : 0}\n",
    "\n",
    "lbool1 = []\n",
    "lclass1 = []\n",
    "for l in l1:\n",
    "    lbool1.append(conversion_bool[l])\n",
    "    lclass1.append(conversion[l])\n",
    "\n",
    "lbool2 = []\n",
    "lclass2 = []\n",
    "for l in l2:\n",
    "    lbool2.append(conversion_bool[l])\n",
    "    lclass2.append(conversion[l])\n",
    "\n",
    "lbool3 = []\n",
    "lclass3 = []\n",
    "for l in l3:\n",
    "    lbool3.append(conversion_bool[l])\n",
    "    lclass3.append(conversion[l])"
   ]
  },
  {
   "cell_type": "code",
   "execution_count": null,
   "metadata": {},
   "outputs": [],
   "source": []
  },
  {
   "cell_type": "markdown",
   "metadata": {},
   "source": [
    "# K-FOLD, Train and Evaluation"
   ]
  },
  {
   "cell_type": "code",
   "execution_count": 21,
   "metadata": {},
   "outputs": [
    {
     "name": "stdout",
     "output_type": "stream",
     "text": [
      "TRAIN: [ 1122  1123  1124 ... 21313 21314 21315] TEST: [   0    1    2 ... 1119 1120 1121]\n",
      "TRAIN: [    0     1     2 ... 21313 21314 21315] TEST: [1122 1123 1124 ... 2241 2242 2243]\n",
      "TRAIN: [    0     1     2 ... 21313 21314 21315] TEST: [2244 2245 2246 ... 3363 3364 3365]\n",
      "TRAIN: [    0     1     2 ... 21313 21314 21315] TEST: [3366 3367 3368 ... 4485 4486 4487]\n",
      "TRAIN: [    0     1     2 ... 21313 21314 21315] TEST: [4488 4489 4490 ... 5607 5608 5609]\n",
      "TRAIN: [    0     1     2 ... 21313 21314 21315] TEST: [5610 5611 5612 ... 6729 6730 6731]\n",
      "TRAIN: [    0     1     2 ... 21313 21314 21315] TEST: [6732 6733 6734 ... 7851 7852 7853]\n",
      "TRAIN: [    0     1     2 ... 21313 21314 21315] TEST: [7854 7855 7856 ... 8973 8974 8975]\n",
      "TRAIN: [    0     1     2 ... 21313 21314 21315] TEST: [ 8976  8977  8978 ... 10095 10096 10097]\n",
      "TRAIN: [    0     1     2 ... 21313 21314 21315] TEST: [10098 10099 10100 ... 11217 11218 11219]\n",
      "TRAIN: [    0     1     2 ... 21313 21314 21315] TEST: [11220 11221 11222 ... 12339 12340 12341]\n",
      "TRAIN: [    0     1     2 ... 21313 21314 21315] TEST: [12342 12343 12344 ... 13461 13462 13463]\n",
      "TRAIN: [    0     1     2 ... 21313 21314 21315] TEST: [13464 13465 13466 ... 14583 14584 14585]\n",
      "TRAIN: [    0     1     2 ... 21313 21314 21315] TEST: [14586 14587 14588 ... 15705 15706 15707]\n",
      "TRAIN: [    0     1     2 ... 21313 21314 21315] TEST: [15708 15709 15710 ... 16827 16828 16829]\n",
      "TRAIN: [    0     1     2 ... 21313 21314 21315] TEST: [16830 16831 16832 ... 17949 17950 17951]\n",
      "TRAIN: [    0     1     2 ... 21313 21314 21315] TEST: [17952 17953 17954 ... 19071 19072 19073]\n",
      "TRAIN: [    0     1     2 ... 21313 21314 21315] TEST: [19074 19075 19076 ... 20192 20193 20194]\n",
      "TRAIN: [    0     1     2 ... 20192 20193 20194] TEST: [20195 20196 20197 ... 21313 21314 21315]\n",
      "TRAIN: [ 1122  1123  1124 ... 21313 21314 21315] TEST: [   0    1    2 ... 1119 1120 1121]\n",
      "TRAIN: [    0     1     2 ... 21313 21314 21315] TEST: [1122 1123 1124 ... 2241 2242 2243]\n",
      "TRAIN: [    0     1     2 ... 21313 21314 21315] TEST: [2244 2245 2246 ... 3363 3364 3365]\n",
      "TRAIN: [    0     1     2 ... 21313 21314 21315] TEST: [3366 3367 3368 ... 4485 4486 4487]\n",
      "TRAIN: [    0     1     2 ... 21313 21314 21315] TEST: [4488 4489 4490 ... 5607 5608 5609]\n",
      "TRAIN: [    0     1     2 ... 21313 21314 21315] TEST: [5610 5611 5612 ... 6729 6730 6731]\n",
      "TRAIN: [    0     1     2 ... 21313 21314 21315] TEST: [6732 6733 6734 ... 7851 7852 7853]\n",
      "TRAIN: [    0     1     2 ... 21313 21314 21315] TEST: [7854 7855 7856 ... 8973 8974 8975]\n",
      "TRAIN: [    0     1     2 ... 21313 21314 21315] TEST: [ 8976  8977  8978 ... 10095 10096 10097]\n",
      "TRAIN: [    0     1     2 ... 21313 21314 21315] TEST: [10098 10099 10100 ... 11217 11218 11219]\n",
      "TRAIN: [    0     1     2 ... 21313 21314 21315] TEST: [11220 11221 11222 ... 12339 12340 12341]\n",
      "TRAIN: [    0     1     2 ... 21313 21314 21315] TEST: [12342 12343 12344 ... 13461 13462 13463]\n",
      "TRAIN: [    0     1     2 ... 21313 21314 21315] TEST: [13464 13465 13466 ... 14583 14584 14585]\n",
      "TRAIN: [    0     1     2 ... 21313 21314 21315] TEST: [14586 14587 14588 ... 15705 15706 15707]\n",
      "TRAIN: [    0     1     2 ... 21313 21314 21315] TEST: [15708 15709 15710 ... 16827 16828 16829]\n",
      "TRAIN: [    0     1     2 ... 21313 21314 21315] TEST: [16830 16831 16832 ... 17949 17950 17951]\n",
      "TRAIN: [    0     1     2 ... 21313 21314 21315] TEST: [17952 17953 17954 ... 19071 19072 19073]\n",
      "TRAIN: [    0     1     2 ... 21313 21314 21315] TEST: [19074 19075 19076 ... 20192 20193 20194]\n",
      "TRAIN: [    0     1     2 ... 20192 20193 20194] TEST: [20195 20196 20197 ... 21313 21314 21315]\n"
     ]
    }
   ],
   "source": [
    "X = df1_pca_20\n",
    "y = np.array(lbool1)\n",
    "kf = KFold(n_splits=19)\n",
    "X_train = []\n",
    "X_test = []\n",
    "y_train = []\n",
    "y_test = []\n",
    "for train_index, test_index in kf.split(X):\n",
    "    print(\"TRAIN:\", train_index, \"TEST:\", test_index)\n",
    "    X_train.append(X[train_index])\n",
    "    X_test.append(X[test_index])\n",
    "    y_train.append(y[train_index])\n",
    "    y_test.append(y[test_index])\n",
    "    \n",
    "Xc = df1_pca_20\n",
    "yc = np.array(lclass1)\n",
    "kfc = KFold(n_splits=19)\n",
    "Xc_train = []\n",
    "Xc_test = []\n",
    "yc_train = []\n",
    "yc_test = []\n",
    "for train_index, test_index in kfc.split(Xc):\n",
    "    print(\"TRAIN:\", train_index, \"TEST:\", test_index)\n",
    "    Xc_train.append(Xc[train_index])\n",
    "    Xc_test.append(Xc[test_index])\n",
    "    yc_train.append(yc[train_index])\n",
    "    yc_test.append(yc[test_index])"
   ]
  },
  {
   "cell_type": "code",
   "execution_count": 27,
   "metadata": {},
   "outputs": [
    {
     "data": {
      "text/plain": [
       "19.354545454545455"
      ]
     },
     "execution_count": 27,
     "metadata": {},
     "output_type": "execute_result"
    }
   ],
   "source": [
    "len(lbool2)/1100"
   ]
  },
  {
   "cell_type": "code",
   "execution_count": 28,
   "metadata": {},
   "outputs": [
    {
     "name": "stdout",
     "output_type": "stream",
     "text": [
      "TRAIN: [ 1121  1122  1123 ... 21287 21288 21289] TEST: [   0    1    2 ... 1118 1119 1120]\n",
      "TRAIN: [    0     1     2 ... 21287 21288 21289] TEST: [1121 1122 1123 ... 2239 2240 2241]\n",
      "TRAIN: [    0     1     2 ... 21287 21288 21289] TEST: [2242 2243 2244 ... 3360 3361 3362]\n",
      "TRAIN: [    0     1     2 ... 21287 21288 21289] TEST: [3363 3364 3365 ... 4481 4482 4483]\n",
      "TRAIN: [    0     1     2 ... 21287 21288 21289] TEST: [4484 4485 4486 ... 5602 5603 5604]\n",
      "TRAIN: [    0     1     2 ... 21287 21288 21289] TEST: [5605 5606 5607 ... 6723 6724 6725]\n",
      "TRAIN: [    0     1     2 ... 21287 21288 21289] TEST: [6726 6727 6728 ... 7844 7845 7846]\n",
      "TRAIN: [    0     1     2 ... 21287 21288 21289] TEST: [7847 7848 7849 ... 8965 8966 8967]\n",
      "TRAIN: [    0     1     2 ... 21287 21288 21289] TEST: [ 8968  8969  8970 ... 10086 10087 10088]\n",
      "TRAIN: [    0     1     2 ... 21287 21288 21289] TEST: [10089 10090 10091 ... 11207 11208 11209]\n",
      "TRAIN: [    0     1     2 ... 21287 21288 21289] TEST: [11210 11211 11212 ... 12327 12328 12329]\n",
      "TRAIN: [    0     1     2 ... 21287 21288 21289] TEST: [12330 12331 12332 ... 13447 13448 13449]\n",
      "TRAIN: [    0     1     2 ... 21287 21288 21289] TEST: [13450 13451 13452 ... 14567 14568 14569]\n",
      "TRAIN: [    0     1     2 ... 21287 21288 21289] TEST: [14570 14571 14572 ... 15687 15688 15689]\n",
      "TRAIN: [    0     1     2 ... 21287 21288 21289] TEST: [15690 15691 15692 ... 16807 16808 16809]\n",
      "TRAIN: [    0     1     2 ... 21287 21288 21289] TEST: [16810 16811 16812 ... 17927 17928 17929]\n",
      "TRAIN: [    0     1     2 ... 21287 21288 21289] TEST: [17930 17931 17932 ... 19047 19048 19049]\n",
      "TRAIN: [    0     1     2 ... 21287 21288 21289] TEST: [19050 19051 19052 ... 20167 20168 20169]\n",
      "TRAIN: [    0     1     2 ... 20167 20168 20169] TEST: [20170 20171 20172 ... 21287 21288 21289]\n",
      "TRAIN: [ 1121  1122  1123 ... 21287 21288 21289] TEST: [   0    1    2 ... 1118 1119 1120]\n",
      "TRAIN: [    0     1     2 ... 21287 21288 21289] TEST: [1121 1122 1123 ... 2239 2240 2241]\n",
      "TRAIN: [    0     1     2 ... 21287 21288 21289] TEST: [2242 2243 2244 ... 3360 3361 3362]\n",
      "TRAIN: [    0     1     2 ... 21287 21288 21289] TEST: [3363 3364 3365 ... 4481 4482 4483]\n",
      "TRAIN: [    0     1     2 ... 21287 21288 21289] TEST: [4484 4485 4486 ... 5602 5603 5604]\n",
      "TRAIN: [    0     1     2 ... 21287 21288 21289] TEST: [5605 5606 5607 ... 6723 6724 6725]\n",
      "TRAIN: [    0     1     2 ... 21287 21288 21289] TEST: [6726 6727 6728 ... 7844 7845 7846]\n",
      "TRAIN: [    0     1     2 ... 21287 21288 21289] TEST: [7847 7848 7849 ... 8965 8966 8967]\n",
      "TRAIN: [    0     1     2 ... 21287 21288 21289] TEST: [ 8968  8969  8970 ... 10086 10087 10088]\n",
      "TRAIN: [    0     1     2 ... 21287 21288 21289] TEST: [10089 10090 10091 ... 11207 11208 11209]\n",
      "TRAIN: [    0     1     2 ... 21287 21288 21289] TEST: [11210 11211 11212 ... 12327 12328 12329]\n",
      "TRAIN: [    0     1     2 ... 21287 21288 21289] TEST: [12330 12331 12332 ... 13447 13448 13449]\n",
      "TRAIN: [    0     1     2 ... 21287 21288 21289] TEST: [13450 13451 13452 ... 14567 14568 14569]\n",
      "TRAIN: [    0     1     2 ... 21287 21288 21289] TEST: [14570 14571 14572 ... 15687 15688 15689]\n",
      "TRAIN: [    0     1     2 ... 21287 21288 21289] TEST: [15690 15691 15692 ... 16807 16808 16809]\n",
      "TRAIN: [    0     1     2 ... 21287 21288 21289] TEST: [16810 16811 16812 ... 17927 17928 17929]\n",
      "TRAIN: [    0     1     2 ... 21287 21288 21289] TEST: [17930 17931 17932 ... 19047 19048 19049]\n",
      "TRAIN: [    0     1     2 ... 21287 21288 21289] TEST: [19050 19051 19052 ... 20167 20168 20169]\n",
      "TRAIN: [    0     1     2 ... 20167 20168 20169] TEST: [20170 20171 20172 ... 21287 21288 21289]\n"
     ]
    }
   ],
   "source": [
    "X_std = df2_pca_20\n",
    "y_std = np.array(lbool2)\n",
    "kf_std = KFold(n_splits=19)\n",
    "X_train_std = []\n",
    "X_test_std = []\n",
    "y_train_std = []\n",
    "y_test_std = []\n",
    "for train_index, test_index in kf_std.split(X_std):\n",
    "    print(\"TRAIN:\", train_index, \"TEST:\", test_index)\n",
    "    X_train_std.append(X_std[train_index])\n",
    "    X_test_std.append(X_std[test_index])\n",
    "    y_train_std.append(y_std[train_index])\n",
    "    y_test_std.append(y_std[test_index])\n",
    "\n",
    "Xc_std = df2_pca_20\n",
    "yc_std = np.array(lclass2)\n",
    "kfc_std = KFold(n_splits=19)\n",
    "Xc_train_std = []\n",
    "Xc_test_std = []\n",
    "yc_train_std = []\n",
    "yc_test_std = []\n",
    "for train_index, test_index in kfc_std.split(Xc_std):\n",
    "    print(\"TRAIN:\", train_index, \"TEST:\", test_index)\n",
    "    Xc_train_std.append(Xc_std[train_index])\n",
    "    Xc_test_std.append(Xc_std[test_index])\n",
    "    yc_train_std.append(yc_std[train_index])\n",
    "    yc_test_std.append(yc_std[test_index])"
   ]
  },
  {
   "cell_type": "code",
   "execution_count": 29,
   "metadata": {},
   "outputs": [
    {
     "data": {
      "text/plain": [
       "19.30181818181818"
      ]
     },
     "execution_count": 29,
     "metadata": {},
     "output_type": "execute_result"
    }
   ],
   "source": [
    "len(lbool3)/1100"
   ]
  },
  {
   "cell_type": "code",
   "execution_count": 31,
   "metadata": {
    "scrolled": true
   },
   "outputs": [
    {
     "name": "stdout",
     "output_type": "stream",
     "text": [
      "TRAIN: [ 1118  1119  1120 ... 21229 21230 21231] TEST: [   0    1    2 ... 1115 1116 1117]\n",
      "TRAIN: [    0     1     2 ... 21229 21230 21231] TEST: [1118 1119 1120 ... 2233 2234 2235]\n",
      "TRAIN: [    0     1     2 ... 21229 21230 21231] TEST: [2236 2237 2238 ... 3351 3352 3353]\n",
      "TRAIN: [    0     1     2 ... 21229 21230 21231] TEST: [3354 3355 3356 ... 4469 4470 4471]\n",
      "TRAIN: [    0     1     2 ... 21229 21230 21231] TEST: [4472 4473 4474 ... 5587 5588 5589]\n",
      "TRAIN: [    0     1     2 ... 21229 21230 21231] TEST: [5590 5591 5592 ... 6705 6706 6707]\n",
      "TRAIN: [    0     1     2 ... 21229 21230 21231] TEST: [6708 6709 6710 ... 7823 7824 7825]\n",
      "TRAIN: [    0     1     2 ... 21229 21230 21231] TEST: [7826 7827 7828 ... 8941 8942 8943]\n",
      "TRAIN: [    0     1     2 ... 21229 21230 21231] TEST: [ 8944  8945  8946 ... 10059 10060 10061]\n",
      "TRAIN: [    0     1     2 ... 21229 21230 21231] TEST: [10062 10063 10064 ... 11176 11177 11178]\n",
      "TRAIN: [    0     1     2 ... 21229 21230 21231] TEST: [11179 11180 11181 ... 12293 12294 12295]\n",
      "TRAIN: [    0     1     2 ... 21229 21230 21231] TEST: [12296 12297 12298 ... 13410 13411 13412]\n",
      "TRAIN: [    0     1     2 ... 21229 21230 21231] TEST: [13413 13414 13415 ... 14527 14528 14529]\n",
      "TRAIN: [    0     1     2 ... 21229 21230 21231] TEST: [14530 14531 14532 ... 15644 15645 15646]\n",
      "TRAIN: [    0     1     2 ... 21229 21230 21231] TEST: [15647 15648 15649 ... 16761 16762 16763]\n",
      "TRAIN: [    0     1     2 ... 21229 21230 21231] TEST: [16764 16765 16766 ... 17878 17879 17880]\n",
      "TRAIN: [    0     1     2 ... 21229 21230 21231] TEST: [17881 17882 17883 ... 18995 18996 18997]\n",
      "TRAIN: [    0     1     2 ... 21229 21230 21231] TEST: [18998 18999 19000 ... 20112 20113 20114]\n",
      "TRAIN: [    0     1     2 ... 20112 20113 20114] TEST: [20115 20116 20117 ... 21229 21230 21231]\n",
      "TRAIN: [ 1118  1119  1120 ... 21229 21230 21231] TEST: [   0    1    2 ... 1115 1116 1117]\n",
      "TRAIN: [    0     1     2 ... 21229 21230 21231] TEST: [1118 1119 1120 ... 2233 2234 2235]\n",
      "TRAIN: [    0     1     2 ... 21229 21230 21231] TEST: [2236 2237 2238 ... 3351 3352 3353]\n",
      "TRAIN: [    0     1     2 ... 21229 21230 21231] TEST: [3354 3355 3356 ... 4469 4470 4471]\n",
      "TRAIN: [    0     1     2 ... 21229 21230 21231] TEST: [4472 4473 4474 ... 5587 5588 5589]\n",
      "TRAIN: [    0     1     2 ... 21229 21230 21231] TEST: [5590 5591 5592 ... 6705 6706 6707]\n",
      "TRAIN: [    0     1     2 ... 21229 21230 21231] TEST: [6708 6709 6710 ... 7823 7824 7825]\n",
      "TRAIN: [    0     1     2 ... 21229 21230 21231] TEST: [7826 7827 7828 ... 8941 8942 8943]\n",
      "TRAIN: [    0     1     2 ... 21229 21230 21231] TEST: [ 8944  8945  8946 ... 10059 10060 10061]\n",
      "TRAIN: [    0     1     2 ... 21229 21230 21231] TEST: [10062 10063 10064 ... 11176 11177 11178]\n",
      "TRAIN: [    0     1     2 ... 21229 21230 21231] TEST: [11179 11180 11181 ... 12293 12294 12295]\n",
      "TRAIN: [    0     1     2 ... 21229 21230 21231] TEST: [12296 12297 12298 ... 13410 13411 13412]\n",
      "TRAIN: [    0     1     2 ... 21229 21230 21231] TEST: [13413 13414 13415 ... 14527 14528 14529]\n",
      "TRAIN: [    0     1     2 ... 21229 21230 21231] TEST: [14530 14531 14532 ... 15644 15645 15646]\n",
      "TRAIN: [    0     1     2 ... 21229 21230 21231] TEST: [15647 15648 15649 ... 16761 16762 16763]\n",
      "TRAIN: [    0     1     2 ... 21229 21230 21231] TEST: [16764 16765 16766 ... 17878 17879 17880]\n",
      "TRAIN: [    0     1     2 ... 21229 21230 21231] TEST: [17881 17882 17883 ... 18995 18996 18997]\n",
      "TRAIN: [    0     1     2 ... 21229 21230 21231] TEST: [18998 18999 19000 ... 20112 20113 20114]\n",
      "TRAIN: [    0     1     2 ... 20112 20113 20114] TEST: [20115 20116 20117 ... 21229 21230 21231]\n"
     ]
    }
   ],
   "source": [
    "X_perc = df3_pca_20\n",
    "y_perc = np.array(lbool3)\n",
    "kf_perc = KFold(n_splits=19)\n",
    "X_train_perc = []\n",
    "X_test_perc = []\n",
    "y_train_perc = []\n",
    "y_test_perc = []\n",
    "for train_index, test_index in kf_perc.split(X_perc):\n",
    "    print(\"TRAIN:\", train_index, \"TEST:\", test_index)\n",
    "    X_train_perc.append(X_perc[train_index])\n",
    "    X_test_perc.append(X_perc[test_index])\n",
    "    y_train_perc.append(y_perc[train_index])\n",
    "    y_test_perc.append(y_perc[test_index])\n",
    "    \n",
    "Xc_perc = df3_pca_20\n",
    "yc_perc = np.array(lclass3)\n",
    "kfc_perc = KFold(n_splits=19)\n",
    "Xc_train_perc = []\n",
    "Xc_test_perc = []\n",
    "yc_train_perc = []\n",
    "yc_test_perc = []\n",
    "for train_index, test_index in kfc_perc.split(Xc_perc):\n",
    "    print(\"TRAIN:\", train_index, \"TEST:\", test_index)\n",
    "    Xc_train_perc.append(Xc_perc[train_index])\n",
    "    Xc_test_perc.append(Xc_perc[test_index])\n",
    "    yc_train_perc.append(yc_perc[train_index])\n",
    "    yc_test_perc.append(yc_perc[test_index])"
   ]
  },
  {
   "cell_type": "code",
   "execution_count": 33,
   "metadata": {},
   "outputs": [],
   "source": [
    "class SplitterSwapper:\n",
    "    '''Swaps training and test data in a splitter class.'''\n",
    "    def __init__(self, fold):\n",
    "        self.fold = fold\n",
    "    def split(self, *args):\n",
    "        for training, testing in self.fold.split(*args):\n",
    "            yield testing, training"
   ]
  },
  {
   "cell_type": "code",
   "execution_count": 44,
   "metadata": {},
   "outputs": [
    {
     "name": "stdout",
     "output_type": "stream",
     "text": [
      "Scores, usign AUC method: \n",
      " Without any pre treatment:  [0.95932998 0.95768357 0.9602805  0.95655024 0.95724189 0.95792244\n",
      " 0.95569027 0.95826027 0.95743079 0.95919113 0.95897873 0.95729981\n",
      " 0.95691947 0.95486339 0.9565774  0.95837884 0.9601076  0.95966662\n",
      " 0.9535117 ] \n",
      " With standard deviation pre treatment:  [0.95184641 0.94884479 0.94898499 0.94770299 0.95018325 0.94814718\n",
      " 0.94823439 0.95190557 0.95243377 0.94965491 0.95427908 0.94819283\n",
      " 0.95297149 0.94816275 0.95294709 0.95556253 0.95414651 0.95470601\n",
      " 0.95370736] \n",
      " With percentage pre treatment:  [0.95997658 0.95754308 0.96016203 0.95710232 0.95864325 0.95683813\n",
      " 0.95932673 0.9590556  0.95931282 0.95940873 0.95957917 0.9593548\n",
      " 0.95858935 0.95510821 0.9566742  0.95951705 0.95977098 0.95868069\n",
      " 0.95472093]\n"
     ]
    }
   ],
   "source": [
    "np.random.seed(9)\n",
    "auc_scores = cross_val_score(exported_pipeline, df1_pca_20, lbool1, scoring = 'roc_auc', cv=SplitterSwapper(StratifiedKFold(19)))\n",
    "np.random.seed(9)\n",
    "auc_scores_std = cross_val_score(exported_pipeline, df2_pca_20, lbool2, scoring = 'roc_auc', cv=SplitterSwapper(StratifiedKFold(19)))\n",
    "np.random.seed(9)\n",
    "auc_scores_perc = cross_val_score(exported_pipeline, df3_pca_20, lbool3, scoring = 'roc_auc', cv=SplitterSwapper(StratifiedKFold(19)))\n",
    "\n",
    "print('Scores, usign AUC method:', '\\n', \"Without any pre treatment: \", auc_scores,'\\n',\"With standard deviation pre treatment: \", auc_scores_std,'\\n',\"With percentage pre treatment: \", auc_scores_perc)"
   ]
  },
  {
   "cell_type": "code",
   "execution_count": 45,
   "metadata": {},
   "outputs": [
    {
     "name": "stdout",
     "output_type": "stream",
     "text": [
      "Scores, using average_precision method: \n",
      " Without any pre treatment:  [0.86348926 0.84514392 0.87254403 0.84734093 0.85341275 0.84279921\n",
      " 0.85206251 0.85490232 0.85718651 0.87382074 0.85907981 0.85020597\n",
      " 0.85194639 0.84653109 0.84847    0.86486181 0.86194152 0.85842931\n",
      " 0.84344883] \n",
      " With standard deviation pre treatment:  [0.83860815 0.81727626 0.82938734 0.81991289 0.8342795  0.82307064\n",
      " 0.83752304 0.84120838 0.83662758 0.85241809 0.84630205 0.81568285\n",
      " 0.83696652 0.82178011 0.84565213 0.85306211 0.84581121 0.8388207\n",
      " 0.84162158] \n",
      " With percentage pre treatment:  [0.8641203  0.8436113  0.87277891 0.84966226 0.86344195 0.84049345\n",
      " 0.8636153  0.86107068 0.86876018 0.87528359 0.86777592 0.8606371\n",
      " 0.85863673 0.85069406 0.85688897 0.86568469 0.85951687 0.85550406\n",
      " 0.84470013]\n"
     ]
    }
   ],
   "source": [
    "np.random.seed(9)\n",
    "auc_scores = cross_val_score(exported_pipeline, df1_pca_20, lbool1, scoring = 'average_precision', cv=SplitterSwapper(StratifiedKFold(19)))\n",
    "np.random.seed(9)\n",
    "auc_scores_std = cross_val_score(exported_pipeline, df2_pca_20, lbool2, scoring = 'average_precision', cv=SplitterSwapper(StratifiedKFold(19)))\n",
    "np.random.seed(9)\n",
    "auc_scores_perc = cross_val_score(exported_pipeline, df3_pca_20, lbool3, scoring = 'average_precision', cv=SplitterSwapper(StratifiedKFold(19)))\n",
    "\n",
    "print('Scores, using average_precision method:', '\\n', \"Without any pre treatment: \", auc_scores,'\\n',\"With standard deviation pre treatment: \", auc_scores_std,'\\n',\"With percentage pre treatment: \", auc_scores_perc)"
   ]
  },
  {
   "cell_type": "code",
   "execution_count": 46,
   "metadata": {},
   "outputs": [
    {
     "name": "stdout",
     "output_type": "stream",
     "text": [
      "Default Scores \n",
      " Without any pre treatment:  [0.90338236 0.90115387 0.90709652 0.89685055 0.90195107 0.90422898\n",
      " 0.89739527 0.90001981 0.90279291 0.9065564  0.90190155 0.90195107\n",
      " 0.89828662 0.89838566 0.89913345 0.90126269 0.90284724 0.90631344\n",
      " 0.89878683] \n",
      " With standard deviation pre treatment:  [0.89656882 0.8900238  0.89141214 0.88476795 0.8951309  0.88973723\n",
      " 0.88963808 0.89414973 0.89459593 0.89766981 0.89618245 0.89067923\n",
      " 0.89558751 0.88849777 0.90183441 0.8979177  0.89662866 0.90029747\n",
      " 0.89618245] \n",
      " With percentage pre treatment:  [0.90354497 0.90090986 0.90513598 0.89469497 0.90116337 0.90265971\n",
      " 0.90360428 0.90251056 0.9040517  0.90693512 0.90330599 0.90464827\n",
      " 0.89992543 0.89942829 0.90260999 0.90007457 0.90196371 0.90604027\n",
      " 0.89704201]\n"
     ]
    }
   ],
   "source": [
    "np.random.seed(9)\n",
    "auc_scores = cross_val_score(exported_pipeline, df1_pca_20, lbool1, cv=SplitterSwapper(StratifiedKFold(19)))\n",
    "np.random.seed(9)\n",
    "auc_scores_std = cross_val_score(exported_pipeline, df2_pca_20, lbool2, cv=SplitterSwapper(StratifiedKFold(19)))\n",
    "np.random.seed(9)\n",
    "auc_scores_perc = cross_val_score(exported_pipeline, df3_pca_20, lbool3, cv=SplitterSwapper(StratifiedKFold(19)))\n",
    "\n",
    "print('Default Scores', '\\n', \"Without any pre treatment: \", auc_scores,'\\n',\"With standard deviation pre treatment: \", auc_scores_std,'\\n',\"With percentage pre treatment: \", auc_scores_perc)"
   ]
  },
  {
   "cell_type": "code",
   "execution_count": null,
   "metadata": {},
   "outputs": [],
   "source": []
  },
  {
   "cell_type": "markdown",
   "metadata": {},
   "source": [
    "# Fitting the best models"
   ]
  },
  {
   "cell_type": "code",
   "execution_count": 47,
   "metadata": {},
   "outputs": [
    {
     "data": {
      "text/plain": [
       "Pipeline(memory=None,\n",
       "     steps=[('featureunion', FeatureUnion(n_jobs=None,\n",
       "       transformer_list=[('stackingestimator-1', StackingEstimator(estimator=KNeighborsClassifier(algorithm='auto', leaf_size=30, metric='minkowski',\n",
       "           metric_params=None, n_jobs=None, n_neighbors=21, p=1,\n",
       "           weights='uniform'))), ('....8500000000000001, tol=0.0001,\n",
       "              validation_fraction=0.1, verbose=0, warm_start=False))])"
      ]
     },
     "execution_count": 47,
     "metadata": {},
     "output_type": "execute_result"
    }
   ],
   "source": [
    "exported_pipeline.fit(X_test[0], y_test[0])"
   ]
  },
  {
   "cell_type": "code",
   "execution_count": 48,
   "metadata": {},
   "outputs": [],
   "source": [
    "y_pred = exported_pipeline.predict(X_train[0])\n",
    "cm = confusion_matrix(y_train[0], y_pred)"
   ]
  },
  {
   "cell_type": "code",
   "execution_count": 49,
   "metadata": {},
   "outputs": [
    {
     "data": {
      "text/plain": [
       "array([[14312,  1060],\n",
       "       [  942,  3880]])"
      ]
     },
     "execution_count": 49,
     "metadata": {},
     "output_type": "execute_result"
    }
   ],
   "source": [
    "cm"
   ]
  },
  {
   "cell_type": "code",
   "execution_count": 50,
   "metadata": {},
   "outputs": [
    {
     "data": {
      "text/plain": [
       "Pipeline(memory=None,\n",
       "     steps=[('featureunion', FeatureUnion(n_jobs=None,\n",
       "       transformer_list=[('stackingestimator-1', StackingEstimator(estimator=KNeighborsClassifier(algorithm='auto', leaf_size=30, metric='minkowski',\n",
       "           metric_params=None, n_jobs=None, n_neighbors=21, p=1,\n",
       "           weights='uniform'))), ('....8500000000000001, tol=0.0001,\n",
       "              validation_fraction=0.1, verbose=0, warm_start=False))])"
      ]
     },
     "execution_count": 50,
     "metadata": {},
     "output_type": "execute_result"
    }
   ],
   "source": [
    "exported_pipeline.fit(X_test_perc[0], y_test_perc[0])"
   ]
  },
  {
   "cell_type": "code",
   "execution_count": 51,
   "metadata": {},
   "outputs": [],
   "source": [
    "np.random.seed(9)\n",
    "y_pred_perc = exported_pipeline.predict(X_train_perc[0])\n",
    "cm_perc = confusion_matrix(y_train_perc[0], y_pred_perc)"
   ]
  },
  {
   "cell_type": "code",
   "execution_count": 52,
   "metadata": {},
   "outputs": [
    {
     "data": {
      "text/plain": [
       "array([[14305,  1013],\n",
       "       [  952,  3844]])"
      ]
     },
     "execution_count": 52,
     "metadata": {},
     "output_type": "execute_result"
    }
   ],
   "source": [
    "cm_perc"
   ]
  },
  {
   "cell_type": "markdown",
   "metadata": {},
   "source": [
    "# Confusion Matrices"
   ]
  },
  {
   "cell_type": "code",
   "execution_count": 463,
   "metadata": {},
   "outputs": [],
   "source": []
  },
  {
   "cell_type": "code",
   "execution_count": 57,
   "metadata": {},
   "outputs": [],
   "source": [
    "%matplotlib inline\n",
    "\n",
    "import matplotlib.pyplot as plt"
   ]
  },
  {
   "cell_type": "code",
   "execution_count": 58,
   "metadata": {
    "scrolled": false
   },
   "outputs": [
    {
     "name": "stdout",
     "output_type": "stream",
     "text": [
      "Confusion matrix, without normalization\n",
      "[[14305  1013]\n",
      " [  952  3844]]\n",
      "Normalized confusion matrix\n",
      "[[0.93386865 0.06613135]\n",
      " [0.19849875 0.80150125]]\n"
     ]
    },
    {
     "data": {
      "text/plain": [
       "<matplotlib.axes._subplots.AxesSubplot at 0x7fef04b908d0>"
      ]
     },
     "execution_count": 58,
     "metadata": {},
     "output_type": "execute_result"
    },
    {
     "data": {
      "image/png": "[encoded data removed]",
      "text/plain": [
       "<Figure size 432x288 with 2 Axes>"
      ]
     },
     "metadata": {
      "needs_background": "light"
     },
     "output_type": "display_data"
    },
    {
     "data": {
      "image/png": "[encoded data removed]",
      "text/plain": [
       "<Figure size 432x288 with 2 Axes>"
      ]
     },
     "metadata": {
      "needs_background": "light"
     },
     "output_type": "display_data"
    }
   ],
   "source": [
    "plot_confusion_matrix(y_train_perc[0],y_pred_perc, ['not IA','IA' ], normalize=False)\n",
    "plot_confusion_matrix(y_train_perc[0],y_pred_perc, ['not IA','IA' ], normalize=True)"
   ]
  },
  {
   "cell_type": "code",
   "execution_count": 59,
   "metadata": {},
   "outputs": [
    {
     "name": "stdout",
     "output_type": "stream",
     "text": [
      "Confusion matrix, without normalization\n",
      "[[14312  1060]\n",
      " [  942  3880]]\n",
      "Normalized confusion matrix\n",
      "[[0.93104346 0.06895654]\n",
      " [0.19535462 0.80464538]]\n"
     ]
    },
    {
     "data": {
      "text/plain": [
       "<matplotlib.axes._subplots.AxesSubplot at 0x7fef0560cf28>"
      ]
     },
     "execution_count": 59,
     "metadata": {},
     "output_type": "execute_result"
    },
    {
     "data": {
      "image/png": "[encoded data removed]",
      "text/plain": [
       "<Figure size 432x288 with 2 Axes>"
      ]
     },
     "metadata": {
      "needs_background": "light"
     },
     "output_type": "display_data"
    },
    {
     "data": {
      "image/png": "[encoded data removed]",
      "text/plain": [
       "<Figure size 432x288 with 2 Axes>"
      ]
     },
     "metadata": {
      "needs_background": "light"
     },
     "output_type": "display_data"
    }
   ],
   "source": [
    "plot_confusion_matrix(y_train[0],y_pred, ['not IA','IA' ], normalize=False)\n",
    "plot_confusion_matrix(y_train[0],y_pred, ['not IA','IA' ], normalize=True)"
   ]
  }
 ],
 "metadata": {
  "kernelspec": {
   "display_name": "Python 3",
   "language": "python",
   "name": "python3"
  },
  "language_info": {
   "codemirror_mode": {
    "name": "ipython",
    "version": 3
   },
   "file_extension": ".py",
   "mimetype": "text/x-python",
   "name": "python",
   "nbconvert_exporter": "python",
   "pygments_lexer": "ipython3",
   "version": "3.7.3"
  }
 },
 "nbformat": 4,
 "nbformat_minor": 2
}
