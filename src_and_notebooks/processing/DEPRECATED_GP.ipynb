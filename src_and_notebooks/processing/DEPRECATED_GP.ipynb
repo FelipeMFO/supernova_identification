{
 "cells": [
  {
   "cell_type": "code",
   "execution_count": 2,
   "metadata": {},
   "outputs": [],
   "source": [
    "import pandas as pd\n",
    "import numpy as np\n",
    "\n",
    "import pymc3 as pm\n",
    "%matplotlib inline\n",
    "\n",
    "import matplotlib.pyplot as plt"
   ]
  },
  {
   "cell_type": "code",
   "execution_count": 3,
   "metadata": {},
   "outputs": [],
   "source": [
    "%run gen_files_array.ipynb"
   ]
  },
  {
   "cell_type": "code",
   "execution_count": 4,
   "metadata": {},
   "outputs": [],
   "source": [
    "%run functions.ipynb "
   ]
  },
  {
   "cell_type": "code",
   "execution_count": 5,
   "metadata": {},
   "outputs": [
    {
     "data": {
      "text/plain": [
       "[8199]"
      ]
     },
     "execution_count": 5,
     "metadata": {},
     "output_type": "execute_result"
    }
   ],
   "source": [
    "# 'files' -> array containing all files \n",
    "# test with SN000858 object\n",
    "find_object('SN000858', files)"
   ]
  },
  {
   "cell_type": "code",
   "execution_count": 5,
   "metadata": {},
   "outputs": [],
   "source": [
    "filters = ['desg' , 'desi' , 'desr' , 'desz']"
   ]
  },
  {
   "cell_type": "code",
   "execution_count": 7,
   "metadata": {},
   "outputs": [
    {
     "data": {
      "text/plain": [
       "<module 'multiprocessing' from '/home/felipematheus/anaconda3/lib/python3.7/multiprocessing/__init__.py'>"
      ]
     },
     "execution_count": 7,
     "metadata": {},
     "output_type": "execute_result"
    }
   ],
   "source": [
    "mp"
   ]
  },
  {
   "cell_type": "code",
   "execution_count": 61,
   "metadata": {},
   "outputs": [],
   "source": [
    "#Without error treatment\n",
    "dfs, t = get_df(files[4044])\n",
    "t = t.reshape(len(t),1)\n",
    "\n",
    "x, y, yerr = get_xys(dfs['desg'])\n",
    "x = x.reshape(len(x),1)"
   ]
  },
  {
   "cell_type": "code",
   "execution_count": 35,
   "metadata": {},
   "outputs": [],
   "source": [
    "#with error treatment std_dev\n",
    "dfs, t = get_df(files[8199])\n",
    "t = t.reshape(len(t),1)\n",
    "\n",
    "x, y, yerr = get_xys(cleaning_df(dfs['desg'], method = 'std_dev', clean_neg = True))\n",
    "x = x.reshape(len(x),1)"
   ]
  },
  {
   "cell_type": "code",
   "execution_count": 8,
   "metadata": {},
   "outputs": [],
   "source": [
    "#with error treatment percentage\n",
    "dfs, t = get_df(files[8199])\n",
    "t = t.reshape(len(t),1)\n",
    "\n",
    "x, y, yerr = get_xys(cleaning_df(dfs['desg'], method = 'percentage', clean_neg = True, percentage = 0.4))\n",
    "x = x.reshape(len(x),1)"
   ]
  },
  {
   "cell_type": "markdown",
   "metadata": {},
   "source": [
    "# Drafts "
   ]
  },
  {
   "cell_type": "markdown",
   "metadata": {},
   "source": [
    "## https://docs.pymc.io/notebooks/getting_started.html"
   ]
  },
  {
   "cell_type": "code",
   "execution_count": null,
   "metadata": {},
   "outputs": [],
   "source": [
    "basic_model = pm.Model()\n",
    "\n",
    "with basic_model:\n",
    "    alpha = pm.Normal('alpha', mu=0, sd=10)\n",
    "    beta = pm.Normal('beta', mu=0, sd=10, shape=2)\n",
    "    sd = pm.HalfNormal('sd', sd=1)\n",
    "    \n",
    "    mu = alpha\n",
    "    \n",
    "    Y_obs = pm.Normal('Y_obs', mu=mu, sd=sd, observed=y)\n",
    "    \n",
    "map_estimate = pm.find_MAP(model=basic_model)\n",
    "\n",
    "map_estimate\n",
    "\n",
    "map_estimate = pm.find_MAP(model=basic_model, method='powell')\n",
    "\n",
    "map_estimate\n",
    "\n",
    "with basic_model:\n",
    "    # draw 500 posterior samples\n",
    "    trace = pm.sample(len(t))\n",
    "    \n",
    "with basic_model:\n",
    "\n",
    "    # instantiate sampler\n",
    "    step = pm.Slice()\n",
    "\n",
    "    # draw 5000 posterior samples\n",
    "    trace = pm.sample(len(t), step=step)\n",
    "\n",
    "pm.traceplot(trace);"
   ]
  },
  {
   "cell_type": "code",
   "execution_count": 36,
   "metadata": {},
   "outputs": [],
   "source": [
    "## plot the components\n",
    "def prt():\n",
    "    from bokeh.plotting import figure, show\n",
    "    \n",
    "    p = figure(title=\"SN000858 Filtro desg\",\n",
    "               x_axis_type='linear', plot_width=550, plot_height=350)\n",
    "    p.yaxis.axis_label = 'Fluxo'\n",
    "    p.xaxis.axis_label = 'Tempo (Dias)'\n",
    "    \n",
    "    # plot mean and 2σ region of total prediction\n",
    "    upper = fit.mu_total + 1*fit.sd_total\n",
    "    lower = fit.mu_total - 1*fit.sd_total\n",
    "    band_x = np.append(fit.t.values, fit.t.values[::-1])\n",
    "    band_y = np.append(lower, upper[::-1])\n",
    "    \n",
    "    # total fit\n",
    "    p.line(fit.t, fit.mu_total,\n",
    "           line_width=1, line_color=\"firebrick\", legend=\"Total fit\")\n",
    "    p.patch(band_x, band_y,\n",
    "            color=\"firebrick\", alpha=0.6, line_color=\"white\")\n",
    "    \n",
    "    \n",
    "    p.circle(x.reshape(len(x)), y,\n",
    "             color=\"black\", legend=\"Observed data\")\n",
    "    \n",
    "    show(p)"
   ]
  },
  {
   "cell_type": "markdown",
   "metadata": {},
   "source": [
    "# ------------------"
   ]
  },
  {
   "cell_type": "markdown",
   "metadata": {},
   "source": [
    "# Creating the GPs\n",
    "#### For more info https://docs.pymc.io/notebooks/GP-MeansAndCovs.html"
   ]
  },
  {
   "cell_type": "markdown",
   "metadata": {},
   "source": [
    "#### Exponentiated Quadratic - Cov fixed\n",
    "$$k(x, x') = \\mathrm{exp}\\left[ -\\frac{(x - x')^2}{2 \\ell^2} \\right]$$\n",
    "### Bad"
   ]
  },
  {
   "cell_type": "code",
   "execution_count": 10,
   "metadata": {
    "scrolled": true
   },
   "outputs": [
    {
     "name": "stderr",
     "output_type": "stream",
     "text": [
      "/home/felipematheus/anaconda3/lib/python3.7/site-packages/theano/tensor/basic.py:6611: FutureWarning: Using a non-tuple sequence for multidimensional indexing is deprecated; use `arr[tuple(seq)]` instead of `arr[seq]`. In the future this will be interpreted as an array index, `arr[np.array(seq)]`, which will result either in an error or a different result.\n",
      "  result[diagonal_slice] = x\n"
     ]
    },
    {
     "name": "stdout",
     "output_type": "stream",
     "text": [
      "Predicting with gp ...\n"
     ]
    },
    {
     "name": "stderr",
     "output_type": "stream",
     "text": [
      "/home/felipematheus/anaconda3/lib/python3.7/site-packages/theano/tensor/basic.py:6611: FutureWarning: Using a non-tuple sequence for multidimensional indexing is deprecated; use `arr[tuple(seq)]` instead of `arr[seq]`. In the future this will be interpreted as an array index, `arr[np.array(seq)]`, which will result either in an error or a different result.\n",
      "  result[diagonal_slice] = x\n",
      "/home/felipematheus/anaconda3/lib/python3.7/site-packages/theano/tensor/basic.py:6611: FutureWarning: Using a non-tuple sequence for multidimensional indexing is deprecated; use `arr[tuple(seq)]` instead of `arr[seq]`. In the future this will be interpreted as an array index, `arr[np.array(seq)]`, which will result either in an error or a different result.\n",
      "  result[diagonal_slice] = x\n",
      "/home/felipematheus/anaconda3/lib/python3.7/site-packages/theano/tensor/basic.py:6611: FutureWarning: Using a non-tuple sequence for multidimensional indexing is deprecated; use `arr[tuple(seq)]` instead of `arr[seq]`. In the future this will be interpreted as an array index, `arr[np.array(seq)]`, which will result either in an error or a different result.\n",
      "  result[diagonal_slice] = x\n"
     ]
    },
    {
     "name": "stdout",
     "output_type": "stream",
     "text": [
      "Done\n"
     ]
    }
   ],
   "source": [
    "with pm.Model() as model:\n",
    "    lengthscale = 4\n",
    "    eta = 1.0\n",
    "    cov = eta**2 * pm.gp.cov.ExpQuad(1, lengthscale)\n",
    "    gp = pm.gp.Marginal(cov_func=cov)\n",
    "    \n",
    "    y_ = gp.marginal_likelihood(\"y\", X=x, y=y, noise=yerr)\n",
    "\n",
    "print(\"Predicting with gp ...\")\n",
    "mu, var = gp.predict(t, point=mp, diag=True)\n",
    "\n",
    "fit = pd.DataFrame({\"t\": t.flatten(),\n",
    "                    \"mu_total\": mu,\n",
    "                    \"sd_total\": np.sqrt(var)})\n",
    "print('Done')\n",
    "prt()"
   ]
  },
  {
   "cell_type": "markdown",
   "metadata": {},
   "source": []
  },
  {
   "cell_type": "markdown",
   "metadata": {},
   "source": [
    "#### Combine two dimension or more\n",
    "### Not used"
   ]
  },
  {
   "cell_type": "code",
   "execution_count": 113,
   "metadata": {},
   "outputs": [],
   "source": [
    "#with pm.Model() as model:\n",
    "#    x1, x2 = np.meshgrid(np.linspace(0,1,10), np.arange(1,4))\n",
    "#    X2 = np.concatenate((x1.reshape((30,1)), x2.reshape((30,1))), axis=0)    \n",
    "#    ls = np.array([3.2, 5.0])\n",
    "#    \n",
    "#    cov = pm.gp.cov.ExpQuad(input_dim=1, ls=ls)\n",
    "#\n",
    "#    gp = pm.gp.Marginal(cov_func=cov)\n",
    "#    \n",
    "#    y_ = gp.marginal_likelihood(\"y\", X=x, y=y, noise=yerr)\n",
    "#    \n",
    "#    print(\"Predicting with gp ...\")\n",
    "#    mu, var = gp.predict(t, point=mp, diag=True)\n",
    "#    \n",
    "#    fit = pd.DataFrame({\"t\": t.flatten(),\n",
    "#                        \"mu_total\": mu,\n",
    "#                        \"sd_total\": np.sqrt(var)})\n",
    "#    print('Done')\n",
    "#    prt()"
   ]
  },
  {
   "cell_type": "markdown",
   "metadata": {},
   "source": []
  },
  {
   "cell_type": "markdown",
   "metadata": {},
   "source": [
    "#### Rational Quadratic - Cov fixed\n",
    "### Bad"
   ]
  },
  {
   "cell_type": "code",
   "execution_count": 129,
   "metadata": {},
   "outputs": [
    {
     "name": "stdout",
     "output_type": "stream",
     "text": [
      "Predicting with gp ...\n",
      "Done\n"
     ]
    }
   ],
   "source": [
    "with pm.Model() as model:\n",
    "    alpha = 0.1\n",
    "    ls = 0.2\n",
    "    tau = 0.3\n",
    "    cov = tau * pm.gp.cov.RatQuad(1, ls, alpha)\n",
    "    \n",
    "    gp = pm.gp.Marginal(cov_func=cov)\n",
    "    y_ = gp.marginal_likelihood(\"y\", X=x, y=y, noise=yerr)\n",
    "    \n",
    "    print(\"Predicting with gp ...\")\n",
    "    mu, var = gp.predict(t, point=mp, diag=True)\n",
    "    \n",
    "    fit = pd.DataFrame({\"t\": t.flatten(),\n",
    "                        \"mu_total\": mu,\n",
    "                        \"sd_total\": np.sqrt(var)})\n",
    "    print('Done')\n",
    "    prt()"
   ]
  },
  {
   "cell_type": "markdown",
   "metadata": {},
   "source": []
  },
  {
   "cell_type": "markdown",
   "metadata": {},
   "source": [
    "#### Senoidal\n",
    "### Not the case"
   ]
  },
  {
   "cell_type": "code",
   "execution_count": null,
   "metadata": {},
   "outputs": [],
   "source": [
    "with pm.Model() as model:\n",
    "    period = 50\n",
    "    cov = pm.gp.cov.Cosine(1, period)\n",
    "    gp = pm.gp.Marginal(cov_func=cov)\n",
    "    y_ = gp.marginal_likelihood(\"y\", X=x, y=y, noise=yerr)\n",
    "\n",
    "    print(\"Predicting with gp ...\")\n",
    "    mu, var = gp.predict(t, point=mp, diag=True)\n",
    "    \n",
    "    fit = pd.DataFrame({\"t\": t.flatten(),\n",
    "                        \"mu_total\": mu,\n",
    "                        \"sd_total\": np.sqrt(var)})\n",
    "    print('Done')\n",
    "    prt()"
   ]
  },
  {
   "cell_type": "markdown",
   "metadata": {},
   "source": []
  },
  {
   "cell_type": "markdown",
   "metadata": {},
   "source": [
    "#### Matern 5/2 - Cov fixed\n",
    "### Bad"
   ]
  },
  {
   "cell_type": "code",
   "execution_count": 55,
   "metadata": {},
   "outputs": [],
   "source": [
    "with pm.Model() as model:\n",
    "    ls = pm.Gamma(\"l\", alpha=4, beta=0.1)\n",
    "    tau = 2 #pm.HalfCauchy(\"n\", beta=2, testval=2.0)\n",
    "    cov = tau * pm.gp.cov.Matern52(1, ls)\n",
    "    \n",
    "    gp = pm.gp.Marginal(cov_func=cov)\n",
    "    y_ = gp.marginal_likelihood(\"y\", X=x, y=y, noise=yerr)"
   ]
  },
  {
   "cell_type": "code",
   "execution_count": 56,
   "metadata": {},
   "outputs": [
    {
     "name": "stdout",
     "output_type": "stream",
     "text": [
      "Predicting with gp ...\n",
      "Done\n"
     ]
    },
    {
     "name": "stderr",
     "output_type": "stream",
     "text": [
      "/home/felipematheus/anaconda3/lib/python3.7/site-packages/theano/tensor/basic.py:6611: FutureWarning: Using a non-tuple sequence for multidimensional indexing is deprecated; use `arr[tuple(seq)]` instead of `arr[seq]`. In the future this will be interpreted as an array index, `arr[np.array(seq)]`, which will result either in an error or a different result.\n",
      "  result[diagonal_slice] = x\n"
     ]
    },
    {
     "data": {
      "text/html": [
       "\n",
       "\n",
       "\n",
       "\n",
       "\n",
       "\n",
       "  <div class=\"bk-root\" id=\"8c06993b-d04f-453c-b428-7c6074fe3434\"></div>\n"
      ]
     },
     "metadata": {},
     "output_type": "display_data"
    },
    {
     "data": {
      "application/javascript": [
       "(function(root) {\n",
       "  function embed_document(root) {\n",
       "    \n",
       "  var docs_json = {\"8348c1eb-1f9e-4a6c-aa51-4579d78b1bd1\":{\"roots\":{\"references\":[{\"attributes\":{\"below\":[{\"id\":\"1845\",\"type\":\"LinearAxis\"}],\"left\":[{\"id\":\"1850\",\"type\":\"LinearAxis\"}],\"plot_height\":350,\"plot_width\":550,\"renderers\":[{\"id\":\"1845\",\"type\":\"LinearAxis\"},{\"id\":\"1849\",\"type\":\"Grid\"},{\"id\":\"1850\",\"type\":\"LinearAxis\"},{\"id\":\"1854\",\"type\":\"Grid\"},{\"id\":\"1863\",\"type\":\"BoxAnnotation\"},{\"id\":\"1881\",\"type\":\"Legend\"},{\"id\":\"1873\",\"type\":\"GlyphRenderer\"},{\"id\":\"1886\",\"type\":\"GlyphRenderer\"},{\"id\":\"1891\",\"type\":\"GlyphRenderer\"}],\"title\":{\"id\":\"1834\",\"type\":\"Title\"},\"toolbar\":{\"id\":\"1861\",\"type\":\"Toolbar\"},\"x_range\":{\"id\":\"1837\",\"type\":\"DataRange1d\"},\"x_scale\":{\"id\":\"1841\",\"type\":\"LinearScale\"},\"y_range\":{\"id\":\"1839\",\"type\":\"DataRange1d\"},\"y_scale\":{\"id\":\"1843\",\"type\":\"LinearScale\"}},\"id\":\"1835\",\"subtype\":\"Figure\",\"type\":\"Plot\"},{\"attributes\":{},\"id\":\"1879\",\"type\":\"BasicTickFormatter\"},{\"attributes\":{\"callback\":null,\"data\":{\"x\":{\"__ndarray__\":\"AAAAAAAAAADUetaANNr0P9R61oA02gRAPrhBwU5HD0DUetaANNoUQIkZDKHBEBpAPrhBwU5HH0B6q7vw7T4iQNR61oA02iRALkrxEHt1J0CJGQyhwRAqQOToJjEIrCxAPrhBwU5HL0DMQ66oSvEwQHqru/DtPjJAJxPJOJGMM0DUetaANNo0QIHi48jXJzZALkrxEHt1N0Dcsf5YHsM4QIkZDKHBEDpANoEZ6WReO0Dk6CYxCKw8QJFQNHmr+T1APrhBwU5HP0D2j6cEeUpAQMxDrqhK8UBAo/e0TByYQUB6q7vw7T5CQFBfwpS/5UJAJxPJOJGMQ0D9xs/cYjNEQNR61oA02kRAqy7dJAaBRUCB4uPI1ydGQFiW6mypzkZALkrxEHt1R0AF/ve0TBxIQNyx/lgew0hAsmUF/e9pSUCJGQyhwRBKQGDNEkWTt0pANoEZ6WReS0ANNSCNNgVMQOToJjEIrExAupwt1dlSTUCRUDR5q/lNQGcEOx19oE5APrhBwU5HT0AVbEhlIO5PQPaPpwR5SlBA4emq1uGdUEDMQ66oSvFQQLidsXqzRFFAo/e0TByYUUCOUbgehetRQHqru/DtPlJAZQW/wlaSUkBQX8KUv+VSQDu5xWYoOVNAJxPJOJGMU0ASbcwK+t9TQP3Gz9xiM1RA6SDTrsuGVEDUetaANNpUQL/U2VKdLVVAqy7dJAaBVUCWiOD2btRVQIHi48jXJ1ZAbTznmkB7VkBYlupsqc5WQEPw7T4SIldALkrxEHt1V0AapPTi48hXQAX+97RMHFhA8Ff7hrVvWEDcsf5YHsNYQMcLAiuHFllAsmUF/e9pWUCevwjPWL1ZQIkZDKHBEFpAdHMPcypkWkBgzRJFk7daQEsnFhf8CltANoEZ6WReW0Ai2xy7zbFbQA01II02BVxA+I4jX59YXEDk6CYxCKxcQM9CKgNx/1xAupwt1dlSXUCl9jCnQqZdQJFQNHmr+V1AfKo3SxRNXkBnBDsdfaBeQFNePu/l815APrhBwU5HX0ApEkWTt5pfQBVsSGUg7l9AAOOlm8QgYEA=\",\"dtype\":\"float64\",\"shape\":[100]},\"y\":{\"__ndarray__\":\"HvQDSxmN9D+zrGK+or/0P0ju4b8/8fQ/6jXyE+Uh9T9VuuLNh1H1P1xPsVkdgPU/UPBch5ut9T+8pM+X+Nn1PyZXA0wrBfY/9FXF9yov9j9w9D6X71f2P9JjeOZxf/Y/nkLfequl9j9AuMPalsr2PwPAs34v7vY/cpluzXEQ9z/UDeAjWzH3P71OiODpUPc/pMIdcB1v9z8W2uJI9ov3PxA/D8x1p/c/zF0MK57B9z+KD0JNctr3P8iaWLf18fc/+B54dCwI+D+Wnm4BGx34P3gNpznGMPg/fGzdRTND+D/sjn2MZ1T4P7E8gKNoZPg/sHCAQjxz+D8iaEY06ID4P4YtRklyjfg/6lZ4S+CY+D858IDzN6P4P74UGN9+rPg/xvuoiLq0+D+odR1A8Lv4Pw0IzSQlwvg/LgSIIF7H+D8wGLjjn8v4P7L9kOLuzvg/+gVNU0/R+D8QXnItxdL4P3b9HipU0/g/VEhaxf/S+D+Gg2xAy9H4PyhOPaW5z/g/FGq7ys3M+D/UM1FaCsn4P6hDatZxxPg/c6sPoga/+D9QVDAJy7j4P5m1XEXBsfg/PlQJfOup+D+6+M66S6H4P+/cOfLjl/g/V0L/7bWN+D8NS1tNw4L4P/ImdHwNd/g/DNS+rpVq+D9g217aXF34Pwx+e7RjT/g/ZsyFrqpA+D+TI2z0MTH4P7iOuGv5IPg/zoaYswAQ+D+0ic0lR/73Pyn9htjL6/c/ms8moY3Y9z+xRfMXi8T3PwJjuZzCr/c/6VxkXDKa9z8Ii49X2IP3PzpQGWqybPc/noK+U75U9z8o6sbB+Tv3PyTiq1liIvc//ULSwfUH9z9FjQSksez2P6bEU66T0PY/AQgQlZmz9j8TBvQVwZX2P8o4hvwHd/Y/CP+zJ2xX9j8E3quQ6zb2P7Rm/VKEFfY/hXQGtjTz9T9Ct7Y3+8/1P4y9s5jWq/U/Av7o6cWG9T/4rpCbyGD1PymVw43eOfU/glSfIggS9T+gOhRSRun0P/HxbL+av/Q/mQ+k0AeV9D8jYJzHkGn0P9r759o5PfQ/dJNTNwgQ9D8=\",\"dtype\":\"float64\",\"shape\":[100]}},\"selected\":{\"id\":\"1899\",\"type\":\"Selection\"},\"selection_policy\":{\"id\":\"1898\",\"type\":\"UnionRenderers\"}},\"id\":\"1870\",\"type\":\"ColumnDataSource\"},{\"attributes\":{},\"id\":\"1900\",\"type\":\"UnionRenderers\"},{\"attributes\":{\"source\":{\"id\":\"1888\",\"type\":\"ColumnDataSource\"}},\"id\":\"1892\",\"type\":\"CDSView\"},{\"attributes\":{\"axis_label\":\"Fluxo\",\"formatter\":{\"id\":\"1877\",\"type\":\"BasicTickFormatter\"},\"plot\":{\"id\":\"1835\",\"subtype\":\"Figure\",\"type\":\"Plot\"},\"ticker\":{\"id\":\"1851\",\"type\":\"BasicTicker\"}},\"id\":\"1850\",\"type\":\"LinearAxis\"},{\"attributes\":{\"fill_color\":{\"value\":\"black\"},\"x\":{\"field\":\"x\"},\"y\":{\"field\":\"y\"}},\"id\":\"1889\",\"type\":\"Circle\"},{\"attributes\":{\"items\":[{\"id\":\"1882\",\"type\":\"LegendItem\"},{\"id\":\"1903\",\"type\":\"LegendItem\"}],\"plot\":{\"id\":\"1835\",\"subtype\":\"Figure\",\"type\":\"Plot\"}},\"id\":\"1881\",\"type\":\"Legend\"},{\"attributes\":{\"callback\":null,\"data\":{\"x\":{\"__ndarray__\":\"AAAAAAAAAAAAQArXo/AfQABA4XoU7i1AAAAAAAAAMEAAYLpJDAI2QADQItv5/jZAALhJDAILOEAAXLpJDBJCQADkpZvEgFBAABKDwMrJUEAANl66SYRRQAAu3SQGwVhAAFg5tMh+X0AAukkMAh9gQA==\",\"dtype\":\"float64\",\"shape\":[14]},\"y\":{\"__ndarray__\":\"XrpJDAIrCUA0orQ3+MLgP39qvHSTGBRAM+GX+nlTkT9OYhBYObQMQBx8YTJVMOg/ObTIdr4fEkBmZmZmZmYAQM3MzMzMzAhAlkOLbOf7A0BQjZduEoP+PzvfT42X7hJAnu+nxks3FUAtsp3vp8bhPw==\",\"dtype\":\"float64\",\"shape\":[14]}},\"selected\":{\"id\":\"1950\",\"type\":\"Selection\"},\"selection_policy\":{\"id\":\"1949\",\"type\":\"UnionRenderers\"}},\"id\":\"1888\",\"type\":\"ColumnDataSource\"},{\"attributes\":{},\"id\":\"1949\",\"type\":\"UnionRenderers\"},{\"attributes\":{},\"id\":\"1950\",\"type\":\"Selection\"},{\"attributes\":{\"data_source\":{\"id\":\"1888\",\"type\":\"ColumnDataSource\"},\"glyph\":{\"id\":\"1889\",\"type\":\"Circle\"},\"hover_glyph\":null,\"muted_glyph\":null,\"nonselection_glyph\":{\"id\":\"1890\",\"type\":\"Circle\"},\"selection_glyph\":null,\"view\":{\"id\":\"1892\",\"type\":\"CDSView\"}},\"id\":\"1891\",\"type\":\"GlyphRenderer\"},{\"attributes\":{},\"id\":\"1843\",\"type\":\"LinearScale\"},{\"attributes\":{\"label\":{\"value\":\"Observed data\"},\"renderers\":[{\"id\":\"1891\",\"type\":\"GlyphRenderer\"}]},\"id\":\"1903\",\"type\":\"LegendItem\"},{\"attributes\":{\"data_source\":{\"id\":\"1883\",\"type\":\"ColumnDataSource\"},\"glyph\":{\"id\":\"1884\",\"type\":\"Patch\"},\"hover_glyph\":null,\"muted_glyph\":null,\"nonselection_glyph\":{\"id\":\"1885\",\"type\":\"Patch\"},\"selection_glyph\":null,\"view\":{\"id\":\"1887\",\"type\":\"CDSView\"}},\"id\":\"1886\",\"type\":\"GlyphRenderer\"},{\"attributes\":{},\"id\":\"1901\",\"type\":\"Selection\"},{\"attributes\":{\"plot\":{\"id\":\"1835\",\"subtype\":\"Figure\",\"type\":\"Plot\"},\"ticker\":{\"id\":\"1846\",\"type\":\"BasicTicker\"}},\"id\":\"1849\",\"type\":\"Grid\"},{\"attributes\":{\"fill_alpha\":0.6,\"fill_color\":\"firebrick\",\"line_alpha\":0.6,\"line_color\":\"white\",\"x\":{\"field\":\"x\"},\"y\":{\"field\":\"y\"}},\"id\":\"1884\",\"type\":\"Patch\"},{\"attributes\":{\"data_source\":{\"id\":\"1870\",\"type\":\"ColumnDataSource\"},\"glyph\":{\"id\":\"1871\",\"type\":\"Line\"},\"hover_glyph\":null,\"muted_glyph\":null,\"nonselection_glyph\":{\"id\":\"1872\",\"type\":\"Line\"},\"selection_glyph\":null,\"view\":{\"id\":\"1874\",\"type\":\"CDSView\"}},\"id\":\"1873\",\"type\":\"GlyphRenderer\"},{\"attributes\":{},\"id\":\"1859\",\"type\":\"ResetTool\"},{\"attributes\":{\"callback\":null},\"id\":\"1839\",\"type\":\"DataRange1d\"},{\"attributes\":{\"callback\":null,\"data\":{\"x\":{\"__ndarray__\":\"AAAAAAAAAADUetaANNr0P9R61oA02gRAPrhBwU5HD0DUetaANNoUQIkZDKHBEBpAPrhBwU5HH0B6q7vw7T4iQNR61oA02iRALkrxEHt1J0CJGQyhwRAqQOToJjEIrCxAPrhBwU5HL0DMQ66oSvEwQHqru/DtPjJAJxPJOJGMM0DUetaANNo0QIHi48jXJzZALkrxEHt1N0Dcsf5YHsM4QIkZDKHBEDpANoEZ6WReO0Dk6CYxCKw8QJFQNHmr+T1APrhBwU5HP0D2j6cEeUpAQMxDrqhK8UBAo/e0TByYQUB6q7vw7T5CQFBfwpS/5UJAJxPJOJGMQ0D9xs/cYjNEQNR61oA02kRAqy7dJAaBRUCB4uPI1ydGQFiW6mypzkZALkrxEHt1R0AF/ve0TBxIQNyx/lgew0hAsmUF/e9pSUCJGQyhwRBKQGDNEkWTt0pANoEZ6WReS0ANNSCNNgVMQOToJjEIrExAupwt1dlSTUCRUDR5q/lNQGcEOx19oE5APrhBwU5HT0AVbEhlIO5PQPaPpwR5SlBA4emq1uGdUEDMQ66oSvFQQLidsXqzRFFAo/e0TByYUUCOUbgehetRQHqru/DtPlJAZQW/wlaSUkBQX8KUv+VSQDu5xWYoOVNAJxPJOJGMU0ASbcwK+t9TQP3Gz9xiM1RA6SDTrsuGVEDUetaANNpUQL/U2VKdLVVAqy7dJAaBVUCWiOD2btRVQIHi48jXJ1ZAbTznmkB7VkBYlupsqc5WQEPw7T4SIldALkrxEHt1V0AapPTi48hXQAX+97RMHFhA8Ff7hrVvWEDcsf5YHsNYQMcLAiuHFllAsmUF/e9pWUCevwjPWL1ZQIkZDKHBEFpAdHMPcypkWkBgzRJFk7daQEsnFhf8CltANoEZ6WReW0Ai2xy7zbFbQA01II02BVxA+I4jX59YXEDk6CYxCKxcQM9CKgNx/1xAupwt1dlSXUCl9jCnQqZdQJFQNHmr+V1AfKo3SxRNXkBnBDsdfaBeQFNePu/l815APrhBwU5HX0ApEkWTt5pfQBVsSGUg7l9AAOOlm8QgYEAA46WbxCBgQBVsSGUg7l9AKRJFk7eaX0A+uEHBTkdfQFNePu/l815AZwQ7HX2gXkB8qjdLFE1eQJFQNHmr+V1ApfYwp0KmXUC6nC3V2VJdQM9CKgNx/1xA5OgmMQisXED4jiNfn1hcQA01II02BVxAItscu82xW0A2gRnpZF5bQEsnFhf8CltAYM0SRZO3WkB0cw9zKmRaQIkZDKHBEFpAnr8Iz1i9WUCyZQX972lZQMcLAiuHFllA3LH+WB7DWEDwV/uGtW9YQAX+97RMHFhAGqT04uPIV0AuSvEQe3VXQEPw7T4SIldAWJbqbKnOVkBtPOeaQHtWQIHi48jXJ1ZAlojg9m7UVUCrLt0kBoFVQL/U2VKdLVVA1HrWgDTaVEDpINOuy4ZUQP3Gz9xiM1RAEm3MCvrfU0AnE8k4kYxTQDu5xWYoOVNAUF/ClL/lUkBlBb/CVpJSQHqru/DtPlJAjlG4HoXrUUCj97RMHJhRQLidsXqzRFFAzEOuqErxUEDh6arW4Z1QQPaPpwR5SlBAFWxIZSDuT0A+uEHBTkdPQGcEOx19oE5AkVA0eav5TUC6nC3V2VJNQOToJjEIrExADTUgjTYFTEA2gRnpZF5LQGDNEkWTt0pAiRkMocEQSkCyZQX972lJQNyx/lgew0hABf73tEwcSEAuSvEQe3VHQFiW6mypzkZAgeLjyNcnRkCrLt0kBoFFQNR61oA02kRA/cbP3GIzREAnE8k4kYxDQFBfwpS/5UJAequ78O0+QkCj97RMHJhBQMxDrqhK8UBA9o+nBHlKQEA+uEHBTkc/QJFQNHmr+T1A5OgmMQisPEA2gRnpZF47QIkZDKHBEDpA3LH+WB7DOEAuSvEQe3U3QIHi48jXJzZA1HrWgDTaNEAnE8k4kYwzQHqru/DtPjJAzEOuqErxMEA+uEHBTkcvQOToJjEIrCxAiRkMocEQKkAuSvEQe3UnQNR61oA02iRAequ78O0+IkA+uEHBTkcfQIkZDKHBEBpA1HrWgDTaFEA+uEHBTkcPQNR61oA02gRA1HrWgDTa9D8AAAAAAAAAAA==\",\"dtype\":\"float64\",\"shape\":[200]},\"y\":{\"__ndarray__\":\"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\",\"dtype\":\"float64\",\"shape\":[200]}},\"selected\":{\"id\":\"1901\",\"type\":\"Selection\"},\"selection_policy\":{\"id\":\"1900\",\"type\":\"UnionRenderers\"}},\"id\":\"1883\",\"type\":\"ColumnDataSource\"},{\"attributes\":{},\"id\":\"1899\",\"type\":\"Selection\"},{\"attributes\":{},\"id\":\"1877\",\"type\":\"BasicTickFormatter\"},{\"attributes\":{\"callback\":null},\"id\":\"1837\",\"type\":\"DataRange1d\"},{\"attributes\":{\"line_alpha\":0.1,\"line_color\":\"#1f77b4\",\"x\":{\"field\":\"x\"},\"y\":{\"field\":\"y\"}},\"id\":\"1872\",\"type\":\"Line\"},{\"attributes\":{},\"id\":\"1841\",\"type\":\"LinearScale\"},{\"attributes\":{\"plot\":null,\"text\":\"SN000858 Filtro desg\"},\"id\":\"1834\",\"type\":\"Title\"},{\"attributes\":{\"bottom_units\":\"screen\",\"fill_alpha\":{\"value\":0.5},\"fill_color\":{\"value\":\"lightgrey\"},\"left_units\":\"screen\",\"level\":\"overlay\",\"line_alpha\":{\"value\":1.0},\"line_color\":{\"value\":\"black\"},\"line_dash\":[4,4],\"line_width\":{\"value\":2},\"plot\":null,\"render_mode\":\"css\",\"right_units\":\"screen\",\"top_units\":\"screen\"},\"id\":\"1863\",\"type\":\"BoxAnnotation\"},{\"attributes\":{\"label\":{\"value\":\"Total fit\"},\"renderers\":[{\"id\":\"1873\",\"type\":\"GlyphRenderer\"}]},\"id\":\"1882\",\"type\":\"LegendItem\"},{\"attributes\":{},\"id\":\"1860\",\"type\":\"HelpTool\"},{\"attributes\":{\"axis_label\":\"Tempo (Dias)\",\"formatter\":{\"id\":\"1879\",\"type\":\"BasicTickFormatter\"},\"plot\":{\"id\":\"1835\",\"subtype\":\"Figure\",\"type\":\"Plot\"},\"ticker\":{\"id\":\"1846\",\"type\":\"BasicTicker\"}},\"id\":\"1845\",\"type\":\"LinearAxis\"},{\"attributes\":{},\"id\":\"1851\",\"type\":\"BasicTicker\"},{\"attributes\":{\"dimension\":1,\"plot\":{\"id\":\"1835\",\"subtype\":\"Figure\",\"type\":\"Plot\"},\"ticker\":{\"id\":\"1851\",\"type\":\"BasicTicker\"}},\"id\":\"1854\",\"type\":\"Grid\"},{\"attributes\":{},\"id\":\"1846\",\"type\":\"BasicTicker\"},{\"attributes\":{\"overlay\":{\"id\":\"1863\",\"type\":\"BoxAnnotation\"}},\"id\":\"1857\",\"type\":\"BoxZoomTool\"},{\"attributes\":{\"fill_alpha\":{\"value\":0.1},\"fill_color\":{\"value\":\"#1f77b4\"},\"line_alpha\":{\"value\":0.1},\"line_color\":{\"value\":\"#1f77b4\"},\"x\":{\"field\":\"x\"},\"y\":{\"field\":\"y\"}},\"id\":\"1890\",\"type\":\"Circle\"},{\"attributes\":{},\"id\":\"1858\",\"type\":\"SaveTool\"},{\"attributes\":{},\"id\":\"1856\",\"type\":\"WheelZoomTool\"},{\"attributes\":{\"source\":{\"id\":\"1883\",\"type\":\"ColumnDataSource\"}},\"id\":\"1887\",\"type\":\"CDSView\"},{\"attributes\":{\"line_color\":\"firebrick\",\"x\":{\"field\":\"x\"},\"y\":{\"field\":\"y\"}},\"id\":\"1871\",\"type\":\"Line\"},{\"attributes\":{\"fill_alpha\":0.1,\"fill_color\":\"#1f77b4\",\"line_alpha\":0.1,\"line_color\":\"#1f77b4\",\"x\":{\"field\":\"x\"},\"y\":{\"field\":\"y\"}},\"id\":\"1885\",\"type\":\"Patch\"},{\"attributes\":{},\"id\":\"1855\",\"type\":\"PanTool\"},{\"attributes\":{},\"id\":\"1898\",\"type\":\"UnionRenderers\"},{\"attributes\":{\"active_drag\":\"auto\",\"active_inspect\":\"auto\",\"active_multi\":null,\"active_scroll\":\"auto\",\"active_tap\":\"auto\",\"tools\":[{\"id\":\"1855\",\"type\":\"PanTool\"},{\"id\":\"1856\",\"type\":\"WheelZoomTool\"},{\"id\":\"1857\",\"type\":\"BoxZoomTool\"},{\"id\":\"1858\",\"type\":\"SaveTool\"},{\"id\":\"1859\",\"type\":\"ResetTool\"},{\"id\":\"1860\",\"type\":\"HelpTool\"}]},\"id\":\"1861\",\"type\":\"Toolbar\"},{\"attributes\":{\"source\":{\"id\":\"1870\",\"type\":\"ColumnDataSource\"}},\"id\":\"1874\",\"type\":\"CDSView\"}],\"root_ids\":[\"1835\"]},\"title\":\"Bokeh Application\",\"version\":\"1.0.2\"}};\n",
       "  var render_items = [{\"docid\":\"8348c1eb-1f9e-4a6c-aa51-4579d78b1bd1\",\"roots\":{\"1835\":\"8c06993b-d04f-453c-b428-7c6074fe3434\"}}];\n",
       "  root.Bokeh.embed.embed_items_notebook(docs_json, render_items);\n",
       "\n",
       "  }\n",
       "  if (root.Bokeh !== undefined) {\n",
       "    embed_document(root);\n",
       "  } else {\n",
       "    var attempts = 0;\n",
       "    var timer = setInterval(function(root) {\n",
       "      if (root.Bokeh !== undefined) {\n",
       "        embed_document(root);\n",
       "        clearInterval(timer);\n",
       "      }\n",
       "      attempts++;\n",
       "      if (attempts > 100) {\n",
       "        console.log(\"Bokeh: ERROR: Unable to run BokehJS code because BokehJS library is missing\");\n",
       "        clearInterval(timer);\n",
       "      }\n",
       "    }, 10, root)\n",
       "  }\n",
       "})(window);"
      ],
      "application/vnd.bokehjs_exec.v0+json": ""
     },
     "metadata": {
      "application/vnd.bokehjs_exec.v0+json": {
       "id": "1835"
      }
     },
     "output_type": "display_data"
    }
   ],
   "source": [
    "print(\"Predicting with gp ...\")\n",
    "mu, var = gp.predict(t, point=mp, diag=True)\n",
    "\n",
    "fit = pd.DataFrame({\"t\": t.flatten(),\n",
    "                    \"mu_total\": mu,\n",
    "                    \"sd_total\": np.sqrt(var)})\n",
    "print('Done')\n",
    "prt()"
   ]
  },
  {
   "cell_type": "code",
   "execution_count": null,
   "metadata": {},
   "outputs": [],
   "source": []
  },
  {
   "cell_type": "code",
   "execution_count": null,
   "metadata": {},
   "outputs": [],
   "source": []
  },
  {
   "cell_type": "code",
   "execution_count": null,
   "metadata": {},
   "outputs": [],
   "source": []
  },
  {
   "cell_type": "code",
   "execution_count": 68,
   "metadata": {},
   "outputs": [],
   "source": [
    "with pm.Model() as model:\n",
    "    ls = pm.Gamma(\"l\", alpha=4, beta=0.1)\n",
    "    tau = 2 #pm.HalfCauchy(\"n\", beta=2, testval=2.0)\n",
    "    cov = tau * pm.gp.cov.Matern52(1, ls)\n",
    "    \n",
    "    gp = pm.gp.Marginal(cov_func=cov)\n",
    "    y_ = gp.marginal_likelihood(\"y\", X=x, y=y, noise=yerr)"
   ]
  },
  {
   "cell_type": "code",
   "execution_count": 69,
   "metadata": {},
   "outputs": [
    {
     "name": "stdout",
     "output_type": "stream",
     "text": [
      "Predicting with gp ...\n",
      "Done\n"
     ]
    },
    {
     "data": {
      "text/html": [
       "\n",
       "\n",
       "\n",
       "\n",
       "\n",
       "\n",
       "  <div class=\"bk-root\" id=\"ef9fcfb9-d3d7-4dbe-af07-42b3ff2a4bd5\"></div>\n"
      ]
     },
     "metadata": {},
     "output_type": "display_data"
    },
    {
     "data": {
      "application/javascript": [
       "(function(root) {\n",
       "  function embed_document(root) {\n",
       "    \n",
       "  var docs_json = {\"41792c20-762c-4184-8f8f-5f4f468effc2\":{\"roots\":{\"references\":[{\"attributes\":{\"below\":[{\"id\":\"2677\",\"type\":\"LinearAxis\"}],\"left\":[{\"id\":\"2682\",\"type\":\"LinearAxis\"}],\"plot_height\":350,\"plot_width\":550,\"renderers\":[{\"id\":\"2677\",\"type\":\"LinearAxis\"},{\"id\":\"2681\",\"type\":\"Grid\"},{\"id\":\"2682\",\"type\":\"LinearAxis\"},{\"id\":\"2686\",\"type\":\"Grid\"},{\"id\":\"2695\",\"type\":\"BoxAnnotation\"},{\"id\":\"2713\",\"type\":\"Legend\"},{\"id\":\"2705\",\"type\":\"GlyphRenderer\"},{\"id\":\"2718\",\"type\":\"GlyphRenderer\"},{\"id\":\"2723\",\"type\":\"GlyphRenderer\"}],\"title\":{\"id\":\"2666\",\"type\":\"Title\"},\"toolbar\":{\"id\":\"2693\",\"type\":\"Toolbar\"},\"x_range\":{\"id\":\"2669\",\"type\":\"DataRange1d\"},\"x_scale\":{\"id\":\"2673\",\"type\":\"LinearScale\"},\"y_range\":{\"id\":\"2671\",\"type\":\"DataRange1d\"},\"y_scale\":{\"id\":\"2675\",\"type\":\"LinearScale\"}},\"id\":\"2667\",\"subtype\":\"Figure\",\"type\":\"Plot\"},{\"attributes\":{\"callback\":null},\"id\":\"2669\",\"type\":\"DataRange1d\"},{\"attributes\":{},\"id\":\"2691\",\"type\":\"ResetTool\"},{\"attributes\":{\"fill_alpha\":0.1,\"fill_color\":\"#1f77b4\",\"line_alpha\":0.1,\"line_color\":\"#1f77b4\",\"x\":{\"field\":\"x\"},\"y\":{\"field\":\"y\"}},\"id\":\"2717\",\"type\":\"Patch\"},{\"attributes\":{},\"id\":\"2692\",\"type\":\"HelpTool\"},{\"attributes\":{},\"id\":\"2678\",\"type\":\"BasicTicker\"},{\"attributes\":{\"line_alpha\":0.1,\"line_color\":\"#1f77b4\",\"x\":{\"field\":\"x\"},\"y\":{\"field\":\"y\"}},\"id\":\"2704\",\"type\":\"Line\"},{\"attributes\":{\"line_color\":\"firebrick\",\"x\":{\"field\":\"x\"},\"y\":{\"field\":\"y\"}},\"id\":\"2703\",\"type\":\"Line\"},{\"attributes\":{\"plot\":{\"id\":\"2667\",\"subtype\":\"Figure\",\"type\":\"Plot\"},\"ticker\":{\"id\":\"2678\",\"type\":\"BasicTicker\"}},\"id\":\"2681\",\"type\":\"Grid\"},{\"attributes\":{},\"id\":\"2687\",\"type\":\"PanTool\"},{\"attributes\":{\"plot\":null,\"text\":\"SN000858 Filtro desg\"},\"id\":\"2666\",\"type\":\"Title\"},{\"attributes\":{},\"id\":\"2673\",\"type\":\"LinearScale\"},{\"attributes\":{\"callback\":null,\"data\":{\"x\":{\"__ndarray__\":\"AAAAAAAAAADeztFupXX1P97O0W6ldQVAJlsdEzwYEEDeztFupXUVQJZChsoO0xpAJlsdEzwYIEAClffA8MYiQN7O0W6ldSVAugisHFokKECWQobKDtMqQHF8YHjDgS1AJlsdEzwYMEAUeApqlm8xQAKV98DwxjJA8LHkF0seNEDeztFupXU1QMzrvsX/zDZAugisHFokOECoJZlztHs5QJZChsoO0zpAg19zIWkqPEBxfGB4w4E9QF+ZTc8d2T5AJlsdEzwYQECd6ZM+6cNAQBR4CmqWb0FAiwaBlUMbQkAClffA8MZCQHkjbuydckNA8LHkF0seREBnQFtD+MlEQN7O0W6ldUVAVV1ImlIhRkDM677F/8xGQEN6NfGseEdAugisHFokSEAxlyJIB9BIQKglmXO0e0lAH7QPn2EnSkCWQobKDtNKQAzR/PW7fktAg19zIWkqTED67elMFtZMQHF8YHjDgU1A6ArXo3AtTkBfmU3PHdlOQNYnxPrKhE9AJlsdEzwYUEBiotioEm5QQJ3pkz7pw1BA2TBP1L8ZUUAUeApqlm9RQFC/xf9sxVFAiwaBlUMbUkDHTTwrGnFSQAKV98DwxlJAPtyyVsccU0B5I27snXJTQLVqKYJ0yFNA8LHkF0seVEAs+Z+tIXRUQGdAW0P4yVRAo4cW2c4fVUDeztFupXVVQBkWjQR8y1VAVV1ImlIhVkCQpAMwKXdWQMzrvsX/zFZABzN6W9YiV0BDejXxrHhXQH7B8IaDzldAugisHFokWED1T2eyMHpYQDGXIkgH0FhAbN7d3d0lWUCoJZlztHtZQONsVAmL0VlAH7QPn2EnWkBa+8o0OH1aQJZChsoO01pA0YlBYOUoW0AM0fz1u35bQEgYuIuS1FtAg19zIWkqXEC/pi63P4BcQPrt6UwW1lxANjWl4uwrXUBxfGB4w4FdQK3DGw6a111A6ArXo3AtXkAkUpI5R4NeQF+ZTc8d2V5Am+AIZfQuX0DWJ8T6yoRfQBJvf5Ch2l9AJlsdEzwYYEDE/vpdJ0NgQGKi2KgSbmBAAEa28/2YYEA=\",\"dtype\":\"float64\",\"shape\":[100]},\"y\":{\"__ndarray__\":\"I81joV0L3z/Kh8PW/wDhP7uQW84df+I/CXg1zJH54z8e6OYZkWrlP6jfE83FzuY/jyIwJGgn6D99jetOk3npPzLUm1Dly+o/GKQzmAgl7D8iscKQHovtP4Quxa7kA+8/mQ9zT4BK8D9S4QGhpyHxP/wrwAzbCPI/WOJcjjEA8z9iiG6mQgb0Pz5SpU0TGPU/pm1C1fww9j9wd+Hkj0r3P2ZZsME1XPg/IIKrjv5a+T/7909a6Tn6Pzsr91zq6vo/LxseHc5h+z/QS+x8h5n7PyA1U58Zl/s/Qg4bvOVl+z+sJKT7jxP7P1QGSxZ4rfo/a7Z8HlY/+j9oCUDXp9L5P+PFjXC9bvk/KJFgdEsZ+T9rpyrZANf4P1cshi9dq/g/FUqcFGmY+D9GGN8CRZ74P0blmteouvg/IGhqAJ/o+D+ZntbdfiD5P+gKPlQwWPk/OmBRpdOD+T+ooyoq/Zb5P5Ut6aLOhvk/IOJ2lTpN+T+dQ9YKRev4PwwCBr+4Zvg/9zQaq0fH9z8GUvyl/BT3PydYRefCV/Y/NrGQidCX9T9KCvz+CN70P/53EPAhM/Q/Mq+kA7Oe8z8MCfLKqibzP1/bypcEz/I/aFfaGqOZ8j+2xAgcPobyP0T3Dc1ZkvI/k3iAJUW58j+Ah4NRI/TyP28DlmELOvM/sPUmCVKA8z9fpHBkHLvzP1lp1sNp3vM/MjhQBtff8z8OYpUDc7nzP5nt3+aVbPM/6ggAjIQA8z/onjJOMX/yP5uvnwkH8/E/JLlG9JRl8T9H73VLzt7wP44Y266oZPA/TWlnGuv17z+z0XbRwEbvP6PTFRkMu+4/jXK0t0JO7j8nmKpoo/jtP61Y0EnXr+0/Fm3ci0Nn7T8VHKCShxDtP8MCCgWwnOw/YdU4p23+6z/gJVJBsC3rP7QgcVXWKuo/zxwaDIj86D/bm+zI+KvnPzRSKE2QQuY/bwr727fI5D/2diB1fkXjP+ogzx3pvuE/YM7IU7w64D+dfIyNbn3dP/L3GEwOoNo/jpBrbc7l1z9OvmvzAFXVP1cqLArf8dI/2+jHxr6+0D8=\",\"dtype\":\"float64\",\"shape\":[100]}},\"selected\":{\"id\":\"2731\",\"type\":\"Selection\"},\"selection_policy\":{\"id\":\"2730\",\"type\":\"UnionRenderers\"}},\"id\":\"2702\",\"type\":\"ColumnDataSource\"},{\"attributes\":{\"callback\":null,\"data\":{\"x\":{\"__ndarray__\":\"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\",\"dtype\":\"float64\",\"shape\":[200]},\"y\":{\"__ndarray__\":\"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\",\"dtype\":\"float64\",\"shape\":[200]}},\"selected\":{\"id\":\"2733\",\"type\":\"Selection\"},\"selection_policy\":{\"id\":\"2732\",\"type\":\"UnionRenderers\"}},\"id\":\"2715\",\"type\":\"ColumnDataSource\"},{\"attributes\":{\"active_drag\":\"auto\",\"active_inspect\":\"auto\",\"active_multi\":null,\"active_scroll\":\"auto\",\"active_tap\":\"auto\",\"tools\":[{\"id\":\"2687\",\"type\":\"PanTool\"},{\"id\":\"2688\",\"type\":\"WheelZoomTool\"},{\"id\":\"2689\",\"type\":\"BoxZoomTool\"},{\"id\":\"2690\",\"type\":\"SaveTool\"},{\"id\":\"2691\",\"type\":\"ResetTool\"},{\"id\":\"2692\",\"type\":\"HelpTool\"}]},\"id\":\"2693\",\"type\":\"Toolbar\"},{\"attributes\":{\"fill_alpha\":0.6,\"fill_color\":\"firebrick\",\"line_alpha\":0.6,\"line_color\":\"white\",\"x\":{\"field\":\"x\"},\"y\":{\"field\":\"y\"}},\"id\":\"2716\",\"type\":\"Patch\"},{\"attributes\":{\"source\":{\"id\":\"2702\",\"type\":\"ColumnDataSource\"}},\"id\":\"2706\",\"type\":\"CDSView\"},{\"attributes\":{},\"id\":\"2732\",\"type\":\"UnionRenderers\"},{\"attributes\":{},\"id\":\"2688\",\"type\":\"WheelZoomTool\"},{\"attributes\":{},\"id\":\"2709\",\"type\":\"BasicTickFormatter\"},{\"attributes\":{},\"id\":\"2733\",\"type\":\"Selection\"},{\"attributes\":{\"bottom_units\":\"screen\",\"fill_alpha\":{\"value\":0.5},\"fill_color\":{\"value\":\"lightgrey\"},\"left_units\":\"screen\",\"level\":\"overlay\",\"line_alpha\":{\"value\":1.0},\"line_color\":{\"value\":\"black\"},\"line_dash\":[4,4],\"line_width\":{\"value\":2},\"plot\":null,\"render_mode\":\"css\",\"right_units\":\"screen\",\"top_units\":\"screen\"},\"id\":\"2695\",\"type\":\"BoxAnnotation\"},{\"attributes\":{\"axis_label\":\"Tempo (Dias)\",\"formatter\":{\"id\":\"2711\",\"type\":\"BasicTickFormatter\"},\"plot\":{\"id\":\"2667\",\"subtype\":\"Figure\",\"type\":\"Plot\"},\"ticker\":{\"id\":\"2678\",\"type\":\"BasicTicker\"}},\"id\":\"2677\",\"type\":\"LinearAxis\"},{\"attributes\":{\"data_source\":{\"id\":\"2720\",\"type\":\"ColumnDataSource\"},\"glyph\":{\"id\":\"2721\",\"type\":\"Circle\"},\"hover_glyph\":null,\"muted_glyph\":null,\"nonselection_glyph\":{\"id\":\"2722\",\"type\":\"Circle\"},\"selection_glyph\":null,\"view\":{\"id\":\"2724\",\"type\":\"CDSView\"}},\"id\":\"2723\",\"type\":\"GlyphRenderer\"},{\"attributes\":{\"data_source\":{\"id\":\"2715\",\"type\":\"ColumnDataSource\"},\"glyph\":{\"id\":\"2716\",\"type\":\"Patch\"},\"hover_glyph\":null,\"muted_glyph\":null,\"nonselection_glyph\":{\"id\":\"2717\",\"type\":\"Patch\"},\"selection_glyph\":null,\"view\":{\"id\":\"2719\",\"type\":\"CDSView\"}},\"id\":\"2718\",\"type\":\"GlyphRenderer\"},{\"attributes\":{\"label\":{\"value\":\"Total fit\"},\"renderers\":[{\"id\":\"2705\",\"type\":\"GlyphRenderer\"}]},\"id\":\"2714\",\"type\":\"LegendItem\"},{\"attributes\":{\"overlay\":{\"id\":\"2695\",\"type\":\"BoxAnnotation\"}},\"id\":\"2689\",\"type\":\"BoxZoomTool\"},{\"attributes\":{},\"id\":\"2675\",\"type\":\"LinearScale\"},{\"attributes\":{\"source\":{\"id\":\"2715\",\"type\":\"ColumnDataSource\"}},\"id\":\"2719\",\"type\":\"CDSView\"},{\"attributes\":{\"data_source\":{\"id\":\"2702\",\"type\":\"ColumnDataSource\"},\"glyph\":{\"id\":\"2703\",\"type\":\"Line\"},\"hover_glyph\":null,\"muted_glyph\":null,\"nonselection_glyph\":{\"id\":\"2704\",\"type\":\"Line\"},\"selection_glyph\":null,\"view\":{\"id\":\"2706\",\"type\":\"CDSView\"}},\"id\":\"2705\",\"type\":\"GlyphRenderer\"},{\"attributes\":{\"fill_alpha\":{\"value\":0.1},\"fill_color\":{\"value\":\"#1f77b4\"},\"line_alpha\":{\"value\":0.1},\"line_color\":{\"value\":\"#1f77b4\"},\"x\":{\"field\":\"x\"},\"y\":{\"field\":\"y\"}},\"id\":\"2722\",\"type\":\"Circle\"},{\"attributes\":{},\"id\":\"2690\",\"type\":\"SaveTool\"},{\"attributes\":{},\"id\":\"2711\",\"type\":\"BasicTickFormatter\"},{\"attributes\":{},\"id\":\"2731\",\"type\":\"Selection\"},{\"attributes\":{},\"id\":\"2830\",\"type\":\"Selection\"},{\"attributes\":{\"callback\":null},\"id\":\"2671\",\"type\":\"DataRange1d\"},{\"attributes\":{\"items\":[{\"id\":\"2714\",\"type\":\"LegendItem\"},{\"id\":\"2735\",\"type\":\"LegendItem\"}],\"plot\":{\"id\":\"2667\",\"subtype\":\"Figure\",\"type\":\"Plot\"}},\"id\":\"2713\",\"type\":\"Legend\"},{\"attributes\":{},\"id\":\"2829\",\"type\":\"UnionRenderers\"},{\"attributes\":{\"dimension\":1,\"plot\":{\"id\":\"2667\",\"subtype\":\"Figure\",\"type\":\"Plot\"},\"ticker\":{\"id\":\"2683\",\"type\":\"BasicTicker\"}},\"id\":\"2686\",\"type\":\"Grid\"},{\"attributes\":{\"source\":{\"id\":\"2720\",\"type\":\"ColumnDataSource\"}},\"id\":\"2724\",\"type\":\"CDSView\"},{\"attributes\":{\"fill_color\":{\"value\":\"black\"},\"x\":{\"field\":\"x\"},\"y\":{\"field\":\"y\"}},\"id\":\"2721\",\"type\":\"Circle\"},{\"attributes\":{\"callback\":null,\"data\":{\"x\":{\"__ndarray__\":\"AMChRbZzF0AA4CYxCCwcQAAgBoGVAypAAGBkO98PLEAAcD0K1wM0QAAwsp3vBzVAAFhkO98PNkAA6Pup8RI3QACg76fGCz1AAIhBYOUQPkAAGK5H4fo/QADo+6nxckVAALgehesBR0AAvEkMAntNQAA6tMh2vlBAAGIQWDk0VkAArkfhejRYQADMoUW2M1pAABbZzvczXEAAYhBYObReQA==\",\"dtype\":\"float64\",\"shape\":[20]},\"y\":{\"__ndarray__\":\"3SQGgZVDHkDdJAaBlUO7P9nO91PjJRNAKVyPwvWoL0Atsp3vp8YFQNxGA3gLJNA/7FG4HoVrOUAK16NwPepFQAQcQpWaPZA/DAIrhxbZAUD0/dR46aYfQJqZmZmZmShAAAAAAAAAEUAlBoGVQ4sfQD81XrpJDB5AzczMzMxMEUBcj8L1KFzxP8l2vp8aLxJACKwcWmQ7E0BiEFg5tMj0Pw==\",\"dtype\":\"float64\",\"shape\":[20]}},\"selected\":{\"id\":\"2830\",\"type\":\"Selection\"},\"selection_policy\":{\"id\":\"2829\",\"type\":\"UnionRenderers\"}},\"id\":\"2720\",\"type\":\"ColumnDataSource\"},{\"attributes\":{},\"id\":\"2730\",\"type\":\"UnionRenderers\"},{\"attributes\":{\"axis_label\":\"Fluxo\",\"formatter\":{\"id\":\"2709\",\"type\":\"BasicTickFormatter\"},\"plot\":{\"id\":\"2667\",\"subtype\":\"Figure\",\"type\":\"Plot\"},\"ticker\":{\"id\":\"2683\",\"type\":\"BasicTicker\"}},\"id\":\"2682\",\"type\":\"LinearAxis\"},{\"attributes\":{},\"id\":\"2683\",\"type\":\"BasicTicker\"},{\"attributes\":{\"label\":{\"value\":\"Observed data\"},\"renderers\":[{\"id\":\"2723\",\"type\":\"GlyphRenderer\"}]},\"id\":\"2735\",\"type\":\"LegendItem\"}],\"root_ids\":[\"2667\"]},\"title\":\"Bokeh Application\",\"version\":\"1.0.2\"}};\n",
       "  var render_items = [{\"docid\":\"41792c20-762c-4184-8f8f-5f4f468effc2\",\"roots\":{\"2667\":\"ef9fcfb9-d3d7-4dbe-af07-42b3ff2a4bd5\"}}];\n",
       "  root.Bokeh.embed.embed_items_notebook(docs_json, render_items);\n",
       "\n",
       "  }\n",
       "  if (root.Bokeh !== undefined) {\n",
       "    embed_document(root);\n",
       "  } else {\n",
       "    var attempts = 0;\n",
       "    var timer = setInterval(function(root) {\n",
       "      if (root.Bokeh !== undefined) {\n",
       "        embed_document(root);\n",
       "        clearInterval(timer);\n",
       "      }\n",
       "      attempts++;\n",
       "      if (attempts > 100) {\n",
       "        console.log(\"Bokeh: ERROR: Unable to run BokehJS code because BokehJS library is missing\");\n",
       "        clearInterval(timer);\n",
       "      }\n",
       "    }, 10, root)\n",
       "  }\n",
       "})(window);"
      ],
      "application/vnd.bokehjs_exec.v0+json": ""
     },
     "metadata": {
      "application/vnd.bokehjs_exec.v0+json": {
       "id": "2667"
      }
     },
     "output_type": "display_data"
    }
   ],
   "source": [
    "print(\"Predicting with gp ...\")\n",
    "mu, var = gp.predict(t, point=mp, diag=True)\n",
    "\n",
    "fit = pd.DataFrame({\"t\": t.flatten(),\n",
    "                    \"mu_total\": mu,\n",
    "                    \"sd_total\": np.sqrt(var)})\n",
    "print('Done')\n",
    "prt()"
   ]
  },
  {
   "cell_type": "code",
   "execution_count": null,
   "metadata": {},
   "outputs": [],
   "source": []
  },
  {
   "cell_type": "code",
   "execution_count": 70,
   "metadata": {},
   "outputs": [],
   "source": [
    "with pm.Model() as model:\n",
    "    ls = pm.Gamma(\"l\", alpha=4, beta=0.1)\n",
    "    tau = pm.HalfCauchy(\"n\", beta=2, testval=2.0)\n",
    "    cov = tau*2 * pm.gp.cov.Matern52(1, ls=ls)\n",
    "    \n",
    "    gp = pm.gp.Marginal(cov_func=cov)\n",
    "    y_ = gp.marginal_likelihood(\"y\", X=x, y=y, noise=yerr)"
   ]
  },
  {
   "cell_type": "code",
   "execution_count": null,
   "metadata": {},
   "outputs": [],
   "source": []
  },
  {
   "cell_type": "code",
   "execution_count": 71,
   "metadata": {},
   "outputs": [
    {
     "name": "stdout",
     "output_type": "stream",
     "text": [
      "Predicting with gp ...\n",
      "Done\n"
     ]
    },
    {
     "name": "stderr",
     "output_type": "stream",
     "text": [
      "/home/felipematheus/anaconda3/lib/python3.7/site-packages/theano/tensor/basic.py:6611: FutureWarning: Using a non-tuple sequence for multidimensional indexing is deprecated; use `arr[tuple(seq)]` instead of `arr[seq]`. In the future this will be interpreted as an array index, `arr[np.array(seq)]`, which will result either in an error or a different result.\n",
      "  result[diagonal_slice] = x\n"
     ]
    },
    {
     "data": {
      "text/html": [
       "\n",
       "\n",
       "\n",
       "\n",
       "\n",
       "\n",
       "  <div class=\"bk-root\" id=\"a9e96a99-fec4-4805-9e1e-ef9a6a1624a6\"></div>\n"
      ]
     },
     "metadata": {},
     "output_type": "display_data"
    },
    {
     "data": {
      "application/javascript": [
       "(function(root) {\n",
       "  function embed_document(root) {\n",
       "    \n",
       "  var docs_json = {\"bad0843d-87c5-46f2-9779-59adc1de5e25\":{\"roots\":{\"references\":[{\"attributes\":{\"below\":[{\"id\":\"2915\",\"type\":\"LinearAxis\"}],\"left\":[{\"id\":\"2920\",\"type\":\"LinearAxis\"}],\"plot_height\":350,\"plot_width\":550,\"renderers\":[{\"id\":\"2915\",\"type\":\"LinearAxis\"},{\"id\":\"2919\",\"type\":\"Grid\"},{\"id\":\"2920\",\"type\":\"LinearAxis\"},{\"id\":\"2924\",\"type\":\"Grid\"},{\"id\":\"2933\",\"type\":\"BoxAnnotation\"},{\"id\":\"2951\",\"type\":\"Legend\"},{\"id\":\"2943\",\"type\":\"GlyphRenderer\"},{\"id\":\"2956\",\"type\":\"GlyphRenderer\"},{\"id\":\"2961\",\"type\":\"GlyphRenderer\"}],\"title\":{\"id\":\"2904\",\"type\":\"Title\"},\"toolbar\":{\"id\":\"2931\",\"type\":\"Toolbar\"},\"x_range\":{\"id\":\"2907\",\"type\":\"DataRange1d\"},\"x_scale\":{\"id\":\"2911\",\"type\":\"LinearScale\"},\"y_range\":{\"id\":\"2909\",\"type\":\"DataRange1d\"},\"y_scale\":{\"id\":\"2913\",\"type\":\"LinearScale\"}},\"id\":\"2905\",\"subtype\":\"Figure\",\"type\":\"Plot\"},{\"attributes\":{\"callback\":null,\"data\":{\"x\":{\"__ndarray__\":\"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\",\"dtype\":\"float64\",\"shape\":[200]},\"y\":{\"__ndarray__\":\"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\",\"dtype\":\"float64\",\"shape\":[200]}},\"selected\":{\"id\":\"2971\",\"type\":\"Selection\"},\"selection_policy\":{\"id\":\"2970\",\"type\":\"UnionRenderers\"}},\"id\":\"2953\",\"type\":\"ColumnDataSource\"},{\"attributes\":{},\"id\":\"2971\",\"type\":\"Selection\"},{\"attributes\":{\"fill_alpha\":0.6,\"fill_color\":\"firebrick\",\"line_alpha\":0.6,\"line_color\":\"white\",\"x\":{\"field\":\"x\"},\"y\":{\"field\":\"y\"}},\"id\":\"2954\",\"type\":\"Patch\"},{\"attributes\":{},\"id\":\"2968\",\"type\":\"UnionRenderers\"},{\"attributes\":{\"line_color\":\"firebrick\",\"x\":{\"field\":\"x\"},\"y\":{\"field\":\"y\"}},\"id\":\"2941\",\"type\":\"Line\"},{\"attributes\":{\"fill_alpha\":0.1,\"fill_color\":\"#1f77b4\",\"line_alpha\":0.1,\"line_color\":\"#1f77b4\",\"x\":{\"field\":\"x\"},\"y\":{\"field\":\"y\"}},\"id\":\"2955\",\"type\":\"Patch\"},{\"attributes\":{},\"id\":\"2925\",\"type\":\"PanTool\"},{\"attributes\":{\"data_source\":{\"id\":\"2953\",\"type\":\"ColumnDataSource\"},\"glyph\":{\"id\":\"2954\",\"type\":\"Patch\"},\"hover_glyph\":null,\"muted_glyph\":null,\"nonselection_glyph\":{\"id\":\"2955\",\"type\":\"Patch\"},\"selection_glyph\":null,\"view\":{\"id\":\"2957\",\"type\":\"CDSView\"}},\"id\":\"2956\",\"type\":\"GlyphRenderer\"},{\"attributes\":{},\"id\":\"2926\",\"type\":\"WheelZoomTool\"},{\"attributes\":{\"source\":{\"id\":\"2953\",\"type\":\"ColumnDataSource\"}},\"id\":\"2957\",\"type\":\"CDSView\"},{\"attributes\":{\"overlay\":{\"id\":\"2933\",\"type\":\"BoxAnnotation\"}},\"id\":\"2927\",\"type\":\"BoxZoomTool\"},{\"attributes\":{},\"id\":\"3080\",\"type\":\"Selection\"},{\"attributes\":{\"callback\":null,\"data\":{\"x\":{\"__ndarray__\":\"AMChRbZzF0AA4CYxCCwcQAAgBoGVAypAAGBkO98PLEAAcD0K1wM0QAAwsp3vBzVAAFhkO98PNkAA6Pup8RI3QACg76fGCz1AAIhBYOUQPkAAGK5H4fo/QADo+6nxckVAALgehesBR0AAvEkMAntNQAA6tMh2vlBAAGIQWDk0VkAArkfhejRYQADMoUW2M1pAABbZzvczXEAAYhBYObReQA==\",\"dtype\":\"float64\",\"shape\":[20]},\"y\":{\"__ndarray__\":\"3SQGgZVDHkDdJAaBlUO7P9nO91PjJRNAKVyPwvWoL0Atsp3vp8YFQNxGA3gLJNA/7FG4HoVrOUAK16NwPepFQAQcQpWaPZA/DAIrhxbZAUD0/dR46aYfQJqZmZmZmShAAAAAAAAAEUAlBoGVQ4sfQD81XrpJDB5AzczMzMxMEUBcj8L1KFzxP8l2vp8aLxJACKwcWmQ7E0BiEFg5tMj0Pw==\",\"dtype\":\"float64\",\"shape\":[20]}},\"selected\":{\"id\":\"3080\",\"type\":\"Selection\"},\"selection_policy\":{\"id\":\"3079\",\"type\":\"UnionRenderers\"}},\"id\":\"2958\",\"type\":\"ColumnDataSource\"},{\"attributes\":{},\"id\":\"2928\",\"type\":\"SaveTool\"},{\"attributes\":{\"fill_color\":{\"value\":\"black\"},\"x\":{\"field\":\"x\"},\"y\":{\"field\":\"y\"}},\"id\":\"2959\",\"type\":\"Circle\"},{\"attributes\":{},\"id\":\"2929\",\"type\":\"ResetTool\"},{\"attributes\":{\"fill_alpha\":{\"value\":0.1},\"fill_color\":{\"value\":\"#1f77b4\"},\"line_alpha\":{\"value\":0.1},\"line_color\":{\"value\":\"#1f77b4\"},\"x\":{\"field\":\"x\"},\"y\":{\"field\":\"y\"}},\"id\":\"2960\",\"type\":\"Circle\"},{\"attributes\":{\"plot\":null,\"text\":\"SN000858 Filtro desg\"},\"id\":\"2904\",\"type\":\"Title\"},{\"attributes\":{},\"id\":\"2930\",\"type\":\"HelpTool\"},{\"attributes\":{\"data_source\":{\"id\":\"2958\",\"type\":\"ColumnDataSource\"},\"glyph\":{\"id\":\"2959\",\"type\":\"Circle\"},\"hover_glyph\":null,\"muted_glyph\":null,\"nonselection_glyph\":{\"id\":\"2960\",\"type\":\"Circle\"},\"selection_glyph\":null,\"view\":{\"id\":\"2962\",\"type\":\"CDSView\"}},\"id\":\"2961\",\"type\":\"GlyphRenderer\"},{\"attributes\":{\"callback\":null},\"id\":\"2907\",\"type\":\"DataRange1d\"},{\"attributes\":{\"active_drag\":\"auto\",\"active_inspect\":\"auto\",\"active_multi\":null,\"active_scroll\":\"auto\",\"active_tap\":\"auto\",\"tools\":[{\"id\":\"2925\",\"type\":\"PanTool\"},{\"id\":\"2926\",\"type\":\"WheelZoomTool\"},{\"id\":\"2927\",\"type\":\"BoxZoomTool\"},{\"id\":\"2928\",\"type\":\"SaveTool\"},{\"id\":\"2929\",\"type\":\"ResetTool\"},{\"id\":\"2930\",\"type\":\"HelpTool\"}]},\"id\":\"2931\",\"type\":\"Toolbar\"},{\"attributes\":{},\"id\":\"2970\",\"type\":\"UnionRenderers\"},{\"attributes\":{\"callback\":null,\"data\":{\"x\":{\"__ndarray__\":\"AAAAAAAAAADeztFupXX1P97O0W6ldQVAJlsdEzwYEEDeztFupXUVQJZChsoO0xpAJlsdEzwYIEAClffA8MYiQN7O0W6ldSVAugisHFokKECWQobKDtMqQHF8YHjDgS1AJlsdEzwYMEAUeApqlm8xQAKV98DwxjJA8LHkF0seNEDeztFupXU1QMzrvsX/zDZAugisHFokOECoJZlztHs5QJZChsoO0zpAg19zIWkqPEBxfGB4w4E9QF+ZTc8d2T5AJlsdEzwYQECd6ZM+6cNAQBR4CmqWb0FAiwaBlUMbQkAClffA8MZCQHkjbuydckNA8LHkF0seREBnQFtD+MlEQN7O0W6ldUVAVV1ImlIhRkDM677F/8xGQEN6NfGseEdAugisHFokSEAxlyJIB9BIQKglmXO0e0lAH7QPn2EnSkCWQobKDtNKQAzR/PW7fktAg19zIWkqTED67elMFtZMQHF8YHjDgU1A6ArXo3AtTkBfmU3PHdlOQNYnxPrKhE9AJlsdEzwYUEBiotioEm5QQJ3pkz7pw1BA2TBP1L8ZUUAUeApqlm9RQFC/xf9sxVFAiwaBlUMbUkDHTTwrGnFSQAKV98DwxlJAPtyyVsccU0B5I27snXJTQLVqKYJ0yFNA8LHkF0seVEAs+Z+tIXRUQGdAW0P4yVRAo4cW2c4fVUDeztFupXVVQBkWjQR8y1VAVV1ImlIhVkCQpAMwKXdWQMzrvsX/zFZABzN6W9YiV0BDejXxrHhXQH7B8IaDzldAugisHFokWED1T2eyMHpYQDGXIkgH0FhAbN7d3d0lWUCoJZlztHtZQONsVAmL0VlAH7QPn2EnWkBa+8o0OH1aQJZChsoO01pA0YlBYOUoW0AM0fz1u35bQEgYuIuS1FtAg19zIWkqXEC/pi63P4BcQPrt6UwW1lxANjWl4uwrXUBxfGB4w4FdQK3DGw6a111A6ArXo3AtXkAkUpI5R4NeQF+ZTc8d2V5Am+AIZfQuX0DWJ8T6yoRfQBJvf5Ch2l9AJlsdEzwYYEDE/vpdJ0NgQGKi2KgSbmBAAEa28/2YYEA=\",\"dtype\":\"float64\",\"shape\":[100]},\"y\":{\"__ndarray__\":\"XDUPDEdB+j/9zKIfK6n6P69t6M9sEPs/rGynZ/B2+z/t1J7Rmdz7PzhtUbJMQfw/raM/geyk/D9sfHaRXAf9P2uaZBGAaP0/bCqeDzrI/T9QtfWDbSb+Pzwfs1z9gv4/h6NQjczd/j++OrMYvjb/P1juvRm1jf8/MXcv0JTi/z//Q1lZoBoAQPA81ELOQgBAw/9qPMZpAEDoV3Cleo8AQKzLOzbeswBAnDuzE+TWAEBjxj3mf/gAQPSQEvWlGAFApppvTEs3AUA7DqXvZVQBQL65GPbsbwFA4gBnediJAUAe5Cd5IaIBQH6n2sLBuAFAeGI03rPNAUA947v98uABQHjmovN68gFAIpOzKkgCAkAaNXWgVxACQPHGLNymHAJA0QKs5jMnAkBCsZ9D/S8CQBzsLe0BNwJACQh5U0E8AkBEYzBguz8CQIqRNX5wQQJApsNhpWFBAkBiwnxqkD8CQM5ffBP/OwJA3OSCr7A2AkBrDGskqS8CQJQZrB3tJgJAu63a8oEcAkDdNguSbRACQJdwYW62AgJAK+d1cmPzAUA8hfnxe+IBQDW6mZQH0AFAjnTmQA68AUB/tqYKmKYBQK7NlyStjwFAljV61VV3AUB6wFNwml0BQNgb00+DQgFAbSfF1BgmAUAK5pBnYwgBQJYQs3xr6QBAUos2nDnJAED3LSts1qcAQDR+IL5KhQBAoyyun59hAEAovvht3jwAQCR+e+UQFwBAEnL8M4Lg/z/YRQrD8pD/P+J3IoKIP/8/nIViuFjs/j+yJ4DOeJf+P3gBwzj+QP4/ifRPZ/7o/T/SfvO7jo/9P57ef4TENP0/1YCP+bTY/D+CJopBdXv8PwYb3XYaHfw/m4T4rrm9+z+f06EDaF37PzboMqA6/Po/GirZ0kaa+j9EKYMhojf6P5QYF1di1Pk/TkWtb51w+T8kYo12aQz5P1iTrGbcp/g/jnVYDgxD+D+ORMr1Dd73P+u/YUj3ePc/ds5/wNwT9z/OT0qX0q72P1LwYnjsSfY/EUDEdz3l9T844UoJ2ID1P8B/xPnNHPU/EIFhaTC59D8=\",\"dtype\":\"float64\",\"shape\":[100]}},\"selected\":{\"id\":\"2969\",\"type\":\"Selection\"},\"selection_policy\":{\"id\":\"2968\",\"type\":\"UnionRenderers\"}},\"id\":\"2940\",\"type\":\"ColumnDataSource\"},{\"attributes\":{\"callback\":null},\"id\":\"2909\",\"type\":\"DataRange1d\"},{\"attributes\":{\"source\":{\"id\":\"2958\",\"type\":\"ColumnDataSource\"}},\"id\":\"2962\",\"type\":\"CDSView\"},{\"attributes\":{\"bottom_units\":\"screen\",\"fill_alpha\":{\"value\":0.5},\"fill_color\":{\"value\":\"lightgrey\"},\"left_units\":\"screen\",\"level\":\"overlay\",\"line_alpha\":{\"value\":1.0},\"line_color\":{\"value\":\"black\"},\"line_dash\":[4,4],\"line_width\":{\"value\":2},\"plot\":null,\"render_mode\":\"css\",\"right_units\":\"screen\",\"top_units\":\"screen\"},\"id\":\"2933\",\"type\":\"BoxAnnotation\"},{\"attributes\":{},\"id\":\"2911\",\"type\":\"LinearScale\"},{\"attributes\":{},\"id\":\"2913\",\"type\":\"LinearScale\"},{\"attributes\":{\"line_alpha\":0.1,\"line_color\":\"#1f77b4\",\"x\":{\"field\":\"x\"},\"y\":{\"field\":\"y\"}},\"id\":\"2942\",\"type\":\"Line\"},{\"attributes\":{\"axis_label\":\"Tempo (Dias)\",\"formatter\":{\"id\":\"2949\",\"type\":\"BasicTickFormatter\"},\"plot\":{\"id\":\"2905\",\"subtype\":\"Figure\",\"type\":\"Plot\"},\"ticker\":{\"id\":\"2916\",\"type\":\"BasicTicker\"}},\"id\":\"2915\",\"type\":\"LinearAxis\"},{\"attributes\":{\"data_source\":{\"id\":\"2940\",\"type\":\"ColumnDataSource\"},\"glyph\":{\"id\":\"2941\",\"type\":\"Line\"},\"hover_glyph\":null,\"muted_glyph\":null,\"nonselection_glyph\":{\"id\":\"2942\",\"type\":\"Line\"},\"selection_glyph\":null,\"view\":{\"id\":\"2944\",\"type\":\"CDSView\"}},\"id\":\"2943\",\"type\":\"GlyphRenderer\"},{\"attributes\":{},\"id\":\"3079\",\"type\":\"UnionRenderers\"},{\"attributes\":{},\"id\":\"2916\",\"type\":\"BasicTicker\"},{\"attributes\":{\"label\":{\"value\":\"Observed data\"},\"renderers\":[{\"id\":\"2961\",\"type\":\"GlyphRenderer\"}]},\"id\":\"2973\",\"type\":\"LegendItem\"},{\"attributes\":{\"plot\":{\"id\":\"2905\",\"subtype\":\"Figure\",\"type\":\"Plot\"},\"ticker\":{\"id\":\"2916\",\"type\":\"BasicTicker\"}},\"id\":\"2919\",\"type\":\"Grid\"},{\"attributes\":{\"source\":{\"id\":\"2940\",\"type\":\"ColumnDataSource\"}},\"id\":\"2944\",\"type\":\"CDSView\"},{\"attributes\":{},\"id\":\"2969\",\"type\":\"Selection\"},{\"attributes\":{},\"id\":\"2947\",\"type\":\"BasicTickFormatter\"},{\"attributes\":{\"axis_label\":\"Fluxo\",\"formatter\":{\"id\":\"2947\",\"type\":\"BasicTickFormatter\"},\"plot\":{\"id\":\"2905\",\"subtype\":\"Figure\",\"type\":\"Plot\"},\"ticker\":{\"id\":\"2921\",\"type\":\"BasicTicker\"}},\"id\":\"2920\",\"type\":\"LinearAxis\"},{\"attributes\":{},\"id\":\"2949\",\"type\":\"BasicTickFormatter\"},{\"attributes\":{},\"id\":\"2921\",\"type\":\"BasicTicker\"},{\"attributes\":{\"items\":[{\"id\":\"2952\",\"type\":\"LegendItem\"},{\"id\":\"2973\",\"type\":\"LegendItem\"}],\"plot\":{\"id\":\"2905\",\"subtype\":\"Figure\",\"type\":\"Plot\"}},\"id\":\"2951\",\"type\":\"Legend\"},{\"attributes\":{\"dimension\":1,\"plot\":{\"id\":\"2905\",\"subtype\":\"Figure\",\"type\":\"Plot\"},\"ticker\":{\"id\":\"2921\",\"type\":\"BasicTicker\"}},\"id\":\"2924\",\"type\":\"Grid\"},{\"attributes\":{\"label\":{\"value\":\"Total fit\"},\"renderers\":[{\"id\":\"2943\",\"type\":\"GlyphRenderer\"}]},\"id\":\"2952\",\"type\":\"LegendItem\"}],\"root_ids\":[\"2905\"]},\"title\":\"Bokeh Application\",\"version\":\"1.0.2\"}};\n",
       "  var render_items = [{\"docid\":\"bad0843d-87c5-46f2-9779-59adc1de5e25\",\"roots\":{\"2905\":\"a9e96a99-fec4-4805-9e1e-ef9a6a1624a6\"}}];\n",
       "  root.Bokeh.embed.embed_items_notebook(docs_json, render_items);\n",
       "\n",
       "  }\n",
       "  if (root.Bokeh !== undefined) {\n",
       "    embed_document(root);\n",
       "  } else {\n",
       "    var attempts = 0;\n",
       "    var timer = setInterval(function(root) {\n",
       "      if (root.Bokeh !== undefined) {\n",
       "        embed_document(root);\n",
       "        clearInterval(timer);\n",
       "      }\n",
       "      attempts++;\n",
       "      if (attempts > 100) {\n",
       "        console.log(\"Bokeh: ERROR: Unable to run BokehJS code because BokehJS library is missing\");\n",
       "        clearInterval(timer);\n",
       "      }\n",
       "    }, 10, root)\n",
       "  }\n",
       "})(window);"
      ],
      "application/vnd.bokehjs_exec.v0+json": ""
     },
     "metadata": {
      "application/vnd.bokehjs_exec.v0+json": {
       "id": "2905"
      }
     },
     "output_type": "display_data"
    }
   ],
   "source": [
    "print(\"Predicting with gp ...\")\n",
    "mu, var = gp.predict(t, point=mp, diag=True)\n",
    "\n",
    "fit = pd.DataFrame({\"t\": t.flatten(),\n",
    "                    \"mu_total\": mu,\n",
    "                    \"sd_total\": np.sqrt(var)})\n",
    "print('Done')\n",
    "prt()"
   ]
  },
  {
   "cell_type": "code",
   "execution_count": 25,
   "metadata": {},
   "outputs": [],
   "source": [
    "#matern32"
   ]
  },
  {
   "cell_type": "code",
   "execution_count": 118,
   "metadata": {},
   "outputs": [],
   "source": [
    "with pm.Model() as model:\n",
    "    ls = pm.Gamma(\"l\", alpha=4, beta=0.1)\n",
    "    tau = pm.HalfCauchy(\"n\", beta=2, testval=2.0)\n",
    "    cov = tau*500 * pm.gp.cov.Matern32(1, ls)\n",
    "    \n",
    "    gp = pm.gp.Marginal(cov_func=cov)\n",
    "    y_ = gp.marginal_likelihood(\"y\", X=x, y=y, noise=yerr)"
   ]
  },
  {
   "cell_type": "code",
   "execution_count": 119,
   "metadata": {},
   "outputs": [
    {
     "name": "stdout",
     "output_type": "stream",
     "text": [
      "Predicting with gp ...\n",
      "Done\n"
     ]
    }
   ],
   "source": [
    "print(\"Predicting with gp ...\")\n",
    "mu, var = gp.predict(t, point=mp, diag=True)\n",
    "\n",
    "fit = pd.DataFrame({\"t\": t.flatten(),\n",
    "                    \"mu_total\": mu,\n",
    "                    \"sd_total\": np.sqrt(var)})\n",
    "print('Done')"
   ]
  },
  {
   "cell_type": "code",
   "execution_count": 120,
   "metadata": {},
   "outputs": [
    {
     "data": {
      "text/html": [
       "\n",
       "\n",
       "\n",
       "\n",
       "\n",
       "\n",
       "  <div class=\"bk-root\" id=\"027c8bb1-9ea3-4949-b618-85c43eb9b348\"></div>\n"
      ]
     },
     "metadata": {},
     "output_type": "display_data"
    },
    {
     "data": {
      "application/javascript": [
       "(function(root) {\n",
       "  function embed_document(root) {\n",
       "    \n",
       "  var docs_json = {\"3f3b6335-6350-4bee-a059-092cc4309f32\":{\"roots\":{\"references\":[{\"attributes\":{\"below\":[{\"id\":\"10195\",\"type\":\"LinearAxis\"}],\"left\":[{\"id\":\"10200\",\"type\":\"LinearAxis\"}],\"plot_height\":350,\"plot_width\":550,\"renderers\":[{\"id\":\"10195\",\"type\":\"LinearAxis\"},{\"id\":\"10199\",\"type\":\"Grid\"},{\"id\":\"10200\",\"type\":\"LinearAxis\"},{\"id\":\"10204\",\"type\":\"Grid\"},{\"id\":\"10213\",\"type\":\"BoxAnnotation\"},{\"id\":\"10231\",\"type\":\"Legend\"},{\"id\":\"10223\",\"type\":\"GlyphRenderer\"},{\"id\":\"10236\",\"type\":\"GlyphRenderer\"},{\"id\":\"10241\",\"type\":\"GlyphRenderer\"}],\"title\":{\"id\":\"10184\",\"type\":\"Title\"},\"toolbar\":{\"id\":\"10211\",\"type\":\"Toolbar\"},\"x_range\":{\"id\":\"10187\",\"type\":\"DataRange1d\"},\"x_scale\":{\"id\":\"10191\",\"type\":\"LinearScale\"},\"y_range\":{\"id\":\"10189\",\"type\":\"DataRange1d\"},\"y_scale\":{\"id\":\"10193\",\"type\":\"LinearScale\"}},\"id\":\"10185\",\"subtype\":\"Figure\",\"type\":\"Plot\"},{\"attributes\":{},\"id\":\"10208\",\"type\":\"SaveTool\"},{\"attributes\":{\"plot\":{\"id\":\"10185\",\"subtype\":\"Figure\",\"type\":\"Plot\"},\"ticker\":{\"id\":\"10196\",\"type\":\"BasicTicker\"}},\"id\":\"10199\",\"type\":\"Grid\"},{\"attributes\":{\"fill_alpha\":0.6,\"fill_color\":\"firebrick\",\"line_alpha\":0.6,\"line_color\":\"white\",\"x\":{\"field\":\"x\"},\"y\":{\"field\":\"y\"}},\"id\":\"10234\",\"type\":\"Patch\"},{\"attributes\":{\"items\":[{\"id\":\"10232\",\"type\":\"LegendItem\"},{\"id\":\"10253\",\"type\":\"LegendItem\"}],\"plot\":{\"id\":\"10185\",\"subtype\":\"Figure\",\"type\":\"Plot\"}},\"id\":\"10231\",\"type\":\"Legend\"},{\"attributes\":{\"callback\":null,\"data\":{\"x\":{\"__ndarray__\":\"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\",\"dtype\":\"float64\",\"shape\":[200]},\"y\":{\"__ndarray__\":\"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\",\"dtype\":\"float64\",\"shape\":[200]}},\"selected\":{\"id\":\"10251\",\"type\":\"Selection\"},\"selection_policy\":{\"id\":\"10250\",\"type\":\"UnionRenderers\"}},\"id\":\"10233\",\"type\":\"ColumnDataSource\"},{\"attributes\":{\"fill_color\":{\"value\":\"black\"},\"x\":{\"field\":\"x\"},\"y\":{\"field\":\"y\"}},\"id\":\"10239\",\"type\":\"Circle\"},{\"attributes\":{\"source\":{\"id\":\"10238\",\"type\":\"ColumnDataSource\"}},\"id\":\"10242\",\"type\":\"CDSView\"},{\"attributes\":{\"overlay\":{\"id\":\"10213\",\"type\":\"BoxAnnotation\"}},\"id\":\"10207\",\"type\":\"BoxZoomTool\"},{\"attributes\":{\"label\":{\"value\":\"Total fit\"},\"renderers\":[{\"id\":\"10223\",\"type\":\"GlyphRenderer\"}]},\"id\":\"10232\",\"type\":\"LegendItem\"},{\"attributes\":{\"callback\":null},\"id\":\"10189\",\"type\":\"DataRange1d\"},{\"attributes\":{},\"id\":\"10227\",\"type\":\"BasicTickFormatter\"},{\"attributes\":{\"active_drag\":\"auto\",\"active_inspect\":\"auto\",\"active_multi\":null,\"active_scroll\":\"auto\",\"active_tap\":\"auto\",\"tools\":[{\"id\":\"10205\",\"type\":\"PanTool\"},{\"id\":\"10206\",\"type\":\"WheelZoomTool\"},{\"id\":\"10207\",\"type\":\"BoxZoomTool\"},{\"id\":\"10208\",\"type\":\"SaveTool\"},{\"id\":\"10209\",\"type\":\"ResetTool\"},{\"id\":\"10210\",\"type\":\"HelpTool\"}]},\"id\":\"10211\",\"type\":\"Toolbar\"},{\"attributes\":{\"data_source\":{\"id\":\"10233\",\"type\":\"ColumnDataSource\"},\"glyph\":{\"id\":\"10234\",\"type\":\"Patch\"},\"hover_glyph\":null,\"muted_glyph\":null,\"nonselection_glyph\":{\"id\":\"10235\",\"type\":\"Patch\"},\"selection_glyph\":null,\"view\":{\"id\":\"10237\",\"type\":\"CDSView\"}},\"id\":\"10236\",\"type\":\"GlyphRenderer\"},{\"attributes\":{},\"id\":\"10229\",\"type\":\"BasicTickFormatter\"},{\"attributes\":{\"data_source\":{\"id\":\"10238\",\"type\":\"ColumnDataSource\"},\"glyph\":{\"id\":\"10239\",\"type\":\"Circle\"},\"hover_glyph\":null,\"muted_glyph\":null,\"nonselection_glyph\":{\"id\":\"10240\",\"type\":\"Circle\"},\"selection_glyph\":null,\"view\":{\"id\":\"10242\",\"type\":\"CDSView\"}},\"id\":\"10241\",\"type\":\"GlyphRenderer\"},{\"attributes\":{\"line_color\":\"firebrick\",\"x\":{\"field\":\"x\"},\"y\":{\"field\":\"y\"}},\"id\":\"10221\",\"type\":\"Line\"},{\"attributes\":{\"data_source\":{\"id\":\"10220\",\"type\":\"ColumnDataSource\"},\"glyph\":{\"id\":\"10221\",\"type\":\"Line\"},\"hover_glyph\":null,\"muted_glyph\":null,\"nonselection_glyph\":{\"id\":\"10222\",\"type\":\"Line\"},\"selection_glyph\":null,\"view\":{\"id\":\"10224\",\"type\":\"CDSView\"}},\"id\":\"10223\",\"type\":\"GlyphRenderer\"},{\"attributes\":{},\"id\":\"10210\",\"type\":\"HelpTool\"},{\"attributes\":{},\"id\":\"10201\",\"type\":\"BasicTicker\"},{\"attributes\":{\"callback\":null,\"data\":{\"x\":{\"__ndarray__\":\"AAAAAAAAAADeztFupXX1P97O0W6ldQVAJlsdEzwYEEDeztFupXUVQJZChsoO0xpAJlsdEzwYIEAClffA8MYiQN7O0W6ldSVAugisHFokKECWQobKDtMqQHF8YHjDgS1AJlsdEzwYMEAUeApqlm8xQAKV98DwxjJA8LHkF0seNEDeztFupXU1QMzrvsX/zDZAugisHFokOECoJZlztHs5QJZChsoO0zpAg19zIWkqPEBxfGB4w4E9QF+ZTc8d2T5AJlsdEzwYQECd6ZM+6cNAQBR4CmqWb0FAiwaBlUMbQkAClffA8MZCQHkjbuydckNA8LHkF0seREBnQFtD+MlEQN7O0W6ldUVAVV1ImlIhRkDM677F/8xGQEN6NfGseEdAugisHFokSEAxlyJIB9BIQKglmXO0e0lAH7QPn2EnSkCWQobKDtNKQAzR/PW7fktAg19zIWkqTED67elMFtZMQHF8YHjDgU1A6ArXo3AtTkBfmU3PHdlOQNYnxPrKhE9AJlsdEzwYUEBiotioEm5QQJ3pkz7pw1BA2TBP1L8ZUUAUeApqlm9RQFC/xf9sxVFAiwaBlUMbUkDHTTwrGnFSQAKV98DwxlJAPtyyVsccU0B5I27snXJTQLVqKYJ0yFNA8LHkF0seVEAs+Z+tIXRUQGdAW0P4yVRAo4cW2c4fVUDeztFupXVVQBkWjQR8y1VAVV1ImlIhVkCQpAMwKXdWQMzrvsX/zFZABzN6W9YiV0BDejXxrHhXQH7B8IaDzldAugisHFokWED1T2eyMHpYQDGXIkgH0FhAbN7d3d0lWUCoJZlztHtZQONsVAmL0VlAH7QPn2EnWkBa+8o0OH1aQJZChsoO01pA0YlBYOUoW0AM0fz1u35bQEgYuIuS1FtAg19zIWkqXEC/pi63P4BcQPrt6UwW1lxANjWl4uwrXUBxfGB4w4FdQK3DGw6a111A6ArXo3AtXkAkUpI5R4NeQF+ZTc8d2V5Am+AIZfQuX0DWJ8T6yoRfQBJvf5Ch2l9AJlsdEzwYYEDE/vpdJ0NgQGKi2KgSbmBAAEa28/2YYEA=\",\"dtype\":\"float64\",\"shape\":[100]},\"y\":{\"__ndarray__\":\"3V7j26V9D0B2D+Y+7YwPQCYIWCS7lA9A5Zmmbo+UD0AltxC144sPQKVFkIaOeg9AhvSc9h9lD0C1K1h+3k8PQI9OgMcTPQ9AmStWPAQvD0Cb2EpT9ScPQD8jy8R+Kg9AlKlgZKU7D0BYvnXAWWIPQDhI+bKmpQ9AaO+35VEGEEDy7nej7E4QQISwSpFvrRBAfgDDMcAgEUBQt/1f/KgRQCHVOq6nRhJA5EaEElD6EkCGpNi/c8QTQIbaA/7rnxRAfhguXK1+FUB82s2iYVUWQN9iVloZIhdAPSCgxVXkF0DeCcogkZsYQEQTZ04+RxlAVtSWgcjmGUBkNebkknkaQJIm7z34/hpAfuSPnrp2G0DH/ObOPuIbQPAImE4mQxxARsghSayZHEBjTQnsMOUcQLgphc0JJR1ALWiJeoRYHUDTGIcV5n4dQHqSoPFqlx1A5p0qKkahHUBkX1E2oZsdQGzcBnqbhR1A7uvlYaheHUALZSXLgCcdQD48BdUd4RxA7LRPtm6MHEDCoq8+WSocQHaIGla6uxtAwWTBSItBG0AQzLdeN70aQEvAoOs7MBpAjKhl8Q+cGUBv1QvtJAIZQAgOJ6HnYxhAToU53sDCF0Bo11BJFiAXQAEBLyFLfRZAwMBNAsHbFUCOXgqq2DwVQOaAR7nyoRRAsoDSdnAMFEA+j9mRtH0TQPb9v+Qj9xJAgw+eOCZ6EkBQU48f/QcSQLFJcdSjoBFAqi4iKH1DEUDbI28X7+8QQEqbxnJjpRBA3J+tlUdjEEAquhhP5igQQLtRc+oA6Q9Atwh008iHD0BNrgX1wSkPQHOYWHGJyg5A2s+lrrllDkDiu4/C9/YNQCW3qo9Ceg1Ai5sXvbTrDECGS1m6XUcMQEQf26g/iQtACCX3Uk2tCkBCBsTGsLAJQOyvbeGxlwhAKBu1PQhpB0BIM7MoXysGQDPx7olY5QRAz5wLbZCdA0CwKfuIoFoCQKiDZx4LIwFADBiuv1v0/z+Im7K3Qb/9P8SZZtiRpfs/qLmlFyKm+T94tN021L/3P6Kpq1CV8fU/JxKual069D8=\",\"dtype\":\"float64\",\"shape\":[100]}},\"selected\":{\"id\":\"10249\",\"type\":\"Selection\"},\"selection_policy\":{\"id\":\"10248\",\"type\":\"UnionRenderers\"}},\"id\":\"10220\",\"type\":\"ColumnDataSource\"},{\"attributes\":{\"fill_alpha\":0.1,\"fill_color\":\"#1f77b4\",\"line_alpha\":0.1,\"line_color\":\"#1f77b4\",\"x\":{\"field\":\"x\"},\"y\":{\"field\":\"y\"}},\"id\":\"10235\",\"type\":\"Patch\"},{\"attributes\":{\"fill_alpha\":{\"value\":0.1},\"fill_color\":{\"value\":\"#1f77b4\"},\"line_alpha\":{\"value\":0.1},\"line_color\":{\"value\":\"#1f77b4\"},\"x\":{\"field\":\"x\"},\"y\":{\"field\":\"y\"}},\"id\":\"10240\",\"type\":\"Circle\"},{\"attributes\":{\"source\":{\"id\":\"10233\",\"type\":\"ColumnDataSource\"}},\"id\":\"10237\",\"type\":\"CDSView\"},{\"attributes\":{},\"id\":\"10251\",\"type\":\"Selection\"},{\"attributes\":{},\"id\":\"10196\",\"type\":\"BasicTicker\"},{\"attributes\":{\"dimension\":1,\"plot\":{\"id\":\"10185\",\"subtype\":\"Figure\",\"type\":\"Plot\"},\"ticker\":{\"id\":\"10201\",\"type\":\"BasicTicker\"}},\"id\":\"10204\",\"type\":\"Grid\"},{\"attributes\":{\"label\":{\"value\":\"Observed data\"},\"renderers\":[{\"id\":\"10241\",\"type\":\"GlyphRenderer\"}]},\"id\":\"10253\",\"type\":\"LegendItem\"},{\"attributes\":{},\"id\":\"10205\",\"type\":\"PanTool\"},{\"attributes\":{},\"id\":\"10249\",\"type\":\"Selection\"},{\"attributes\":{\"bottom_units\":\"screen\",\"fill_alpha\":{\"value\":0.5},\"fill_color\":{\"value\":\"lightgrey\"},\"left_units\":\"screen\",\"level\":\"overlay\",\"line_alpha\":{\"value\":1.0},\"line_color\":{\"value\":\"black\"},\"line_dash\":[4,4],\"line_width\":{\"value\":2},\"plot\":null,\"render_mode\":\"css\",\"right_units\":\"screen\",\"top_units\":\"screen\"},\"id\":\"10213\",\"type\":\"BoxAnnotation\"},{\"attributes\":{},\"id\":\"10206\",\"type\":\"WheelZoomTool\"},{\"attributes\":{\"source\":{\"id\":\"10220\",\"type\":\"ColumnDataSource\"}},\"id\":\"10224\",\"type\":\"CDSView\"},{\"attributes\":{},\"id\":\"10250\",\"type\":\"UnionRenderers\"},{\"attributes\":{\"line_alpha\":0.1,\"line_color\":\"#1f77b4\",\"x\":{\"field\":\"x\"},\"y\":{\"field\":\"y\"}},\"id\":\"10222\",\"type\":\"Line\"},{\"attributes\":{\"axis_label\":\"Fluxo\",\"formatter\":{\"id\":\"10227\",\"type\":\"BasicTickFormatter\"},\"plot\":{\"id\":\"10185\",\"subtype\":\"Figure\",\"type\":\"Plot\"},\"ticker\":{\"id\":\"10201\",\"type\":\"BasicTicker\"}},\"id\":\"10200\",\"type\":\"LinearAxis\"},{\"attributes\":{\"callback\":null,\"data\":{\"x\":{\"__ndarray__\":\"AMChRbZzF0AA4CYxCCwcQAAgBoGVAypAAGBkO98PLEAAcD0K1wM0QAAwsp3vBzVAAFhkO98PNkAA6Pup8RI3QACg76fGCz1AAIhBYOUQPkAAGK5H4fo/QADo+6nxckVAALgehesBR0AAvEkMAntNQAA6tMh2vlBAAGIQWDk0VkAArkfhejRYQADMoUW2M1pAABbZzvczXEAAYhBYObReQA==\",\"dtype\":\"float64\",\"shape\":[20]},\"y\":{\"__ndarray__\":\"3SQGgZVDHkDdJAaBlUO7P9nO91PjJRNAKVyPwvWoL0Atsp3vp8YFQNxGA3gLJNA/7FG4HoVrOUAK16NwPepFQAQcQpWaPZA/DAIrhxbZAUD0/dR46aYfQJqZmZmZmShAAAAAAAAAEUAlBoGVQ4sfQD81XrpJDB5AzczMzMxMEUBcj8L1KFzxP8l2vp8aLxJACKwcWmQ7E0BiEFg5tMj0Pw==\",\"dtype\":\"float64\",\"shape\":[20]}},\"selected\":{\"id\":\"10600\",\"type\":\"Selection\"},\"selection_policy\":{\"id\":\"10599\",\"type\":\"UnionRenderers\"}},\"id\":\"10238\",\"type\":\"ColumnDataSource\"},{\"attributes\":{\"axis_label\":\"Tempo (Dias)\",\"formatter\":{\"id\":\"10229\",\"type\":\"BasicTickFormatter\"},\"plot\":{\"id\":\"10185\",\"subtype\":\"Figure\",\"type\":\"Plot\"},\"ticker\":{\"id\":\"10196\",\"type\":\"BasicTicker\"}},\"id\":\"10195\",\"type\":\"LinearAxis\"},{\"attributes\":{},\"id\":\"10600\",\"type\":\"Selection\"},{\"attributes\":{\"plot\":null,\"text\":\"SN000858 Filtro desg\"},\"id\":\"10184\",\"type\":\"Title\"},{\"attributes\":{},\"id\":\"10191\",\"type\":\"LinearScale\"},{\"attributes\":{},\"id\":\"10209\",\"type\":\"ResetTool\"},{\"attributes\":{},\"id\":\"10193\",\"type\":\"LinearScale\"},{\"attributes\":{},\"id\":\"10248\",\"type\":\"UnionRenderers\"},{\"attributes\":{\"callback\":null},\"id\":\"10187\",\"type\":\"DataRange1d\"},{\"attributes\":{},\"id\":\"10599\",\"type\":\"UnionRenderers\"}],\"root_ids\":[\"10185\"]},\"title\":\"Bokeh Application\",\"version\":\"1.0.2\"}};\n",
       "  var render_items = [{\"docid\":\"3f3b6335-6350-4bee-a059-092cc4309f32\",\"roots\":{\"10185\":\"027c8bb1-9ea3-4949-b618-85c43eb9b348\"}}];\n",
       "  root.Bokeh.embed.embed_items_notebook(docs_json, render_items);\n",
       "\n",
       "  }\n",
       "  if (root.Bokeh !== undefined) {\n",
       "    embed_document(root);\n",
       "  } else {\n",
       "    var attempts = 0;\n",
       "    var timer = setInterval(function(root) {\n",
       "      if (root.Bokeh !== undefined) {\n",
       "        embed_document(root);\n",
       "        clearInterval(timer);\n",
       "      }\n",
       "      attempts++;\n",
       "      if (attempts > 100) {\n",
       "        console.log(\"Bokeh: ERROR: Unable to run BokehJS code because BokehJS library is missing\");\n",
       "        clearInterval(timer);\n",
       "      }\n",
       "    }, 10, root)\n",
       "  }\n",
       "})(window);"
      ],
      "application/vnd.bokehjs_exec.v0+json": ""
     },
     "metadata": {
      "application/vnd.bokehjs_exec.v0+json": {
       "id": "10185"
      }
     },
     "output_type": "display_data"
    }
   ],
   "source": [
    "from bokeh.plotting import figure, show\n",
    "\n",
    "p = figure(title=\"SN000858 Filtro desg\",\n",
    "           x_axis_type='linear', plot_width=550, plot_height=350)\n",
    "p.yaxis.axis_label = 'Fluxo'\n",
    "p.xaxis.axis_label = 'Tempo (Dias)'\n",
    "\n",
    "# plot mean and 2σ region of total prediction\n",
    "upper = fit.mu_total + 1*fit.sd_total\n",
    "lower = fit.mu_total - 1*fit.sd_total\n",
    "band_x = np.append(fit.t.values, fit.t.values[::-1])\n",
    "band_y = np.append(lower, upper[::-1])\n",
    "\n",
    "# total fit\n",
    "p.line(fit.t, fit.mu_total,\n",
    "       line_width=1, line_color=\"firebrick\", legend=\"Total fit\")\n",
    "p.patch(band_x, band_y,\n",
    "        color=\"firebrick\", alpha=0.6, line_color=\"white\")\n",
    "\n",
    "\n",
    "p.circle(x.reshape(len(x)), y,\n",
    "         color=\"black\", legend=\"Observed data\")\n",
    "\n",
    "show(p)"
   ]
  },
  {
   "cell_type": "code",
   "execution_count": 113,
   "metadata": {},
   "outputs": [],
   "source": [
    "#Modelo que deu certo Exp Quadratic"
   ]
  },
  {
   "cell_type": "code",
   "execution_count": 62,
   "metadata": {
    "scrolled": true
   },
   "outputs": [
    {
     "name": "stderr",
     "output_type": "stream",
     "text": [
      "/home/felipematheus/anaconda3/lib/python3.7/site-packages/theano/tensor/basic.py:6611: FutureWarning: Using a non-tuple sequence for multidimensional indexing is deprecated; use `arr[tuple(seq)]` instead of `arr[seq]`. In the future this will be interpreted as an array index, `arr[np.array(seq)]`, which will result either in an error or a different result.\n",
      "  result[diagonal_slice] = x\n"
     ]
    }
   ],
   "source": [
    "with pm.Model() as model:\n",
    "    n = pm.HalfCauchy(\"n\", beta=2, testval=2.0)\n",
    "    l = pm.Gamma(\"l\", alpha=4, beta=0.1)\n",
    "    cov = n**3 * pm.gp.cov.ExpQuad(1, l)\n",
    "    gp = pm.gp.Marginal(cov_func=cov)\n",
    "    y_ = gp.marginal_likelihood(\"y\", X=x, y=y, noise=yerr)\n",
    "    \n",
    "    #mp = pm.find_MAP(include_transformed=True)"
   ]
  },
  {
   "cell_type": "code",
   "execution_count": 63,
   "metadata": {},
   "outputs": [
    {
     "name": "stdout",
     "output_type": "stream",
     "text": [
      "Predicting with gp ...\n",
      "Done\n"
     ]
    }
   ],
   "source": [
    "print(\"Predicting with gp ...\")\n",
    "mu, var = gp.predict(t, point=mp, diag=True)\n",
    "\n",
    "fit = pd.DataFrame({\"t\": t.flatten(),\n",
    "                    \"mu_total\": mu,\n",
    "                    \"sd_total\": np.sqrt(var)})\n",
    "print('Done')"
   ]
  }
 ],
 "metadata": {
  "kernelspec": {
   "display_name": "Python 3",
   "language": "python",
   "name": "python3"
  },
  "language_info": {
   "codemirror_mode": {
    "name": "ipython",
    "version": 3
   },
   "file_extension": ".py",
   "mimetype": "text/x-python",
   "name": "python",
   "nbconvert_exporter": "python",
   "pygments_lexer": "ipython3",
   "version": "3.7.1"
  }
 },
 "nbformat": 4,
 "nbformat_minor": 2
}
