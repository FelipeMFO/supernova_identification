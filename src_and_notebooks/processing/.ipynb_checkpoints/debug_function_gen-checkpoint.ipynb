{
 "cells": [
  {
   "cell_type": "code",
   "execution_count": 1,
   "metadata": {},
   "outputs": [],
   "source": [
    "%run read_data.py\n",
    "import pandas as pd\n",
    "import matplotlib\n",
    "import matplotlib.pyplot as plt\n",
    "import os\n",
    "import time\n",
    "import scipy.optimize as op\n",
    "import george as gg\n",
    "import george.kernels as kr"
   ]
  },
  {
   "cell_type": "code",
   "execution_count": 56,
   "metadata": {},
   "outputs": [],
   "source": [
    "def gen_images_with_GP(file_name, path_to_read, path_to_export,error_margin, points, show_fig):\n",
    "    #file_name must be like: DES_SN123456.DAT\n",
    "    file_id = file_name[4:12]\n",
    "    file_read = read_sn(path_to_read + file_name)\n",
    "    sn_type = file_read['SIM_COMMENT'][3]\n",
    "    #TODO, add verification here, add type verification and also if it has 4 bands, \n",
    "#if it does not, return 0\n",
    "    GP_Function(file_read['df'], file_id, sn_type, path_to_export,error_margin, points, show_fig)\n",
    "\n",
    "def GP_Function(df_all, file_id, sn_type, path_to_export,error_margin, points, show_fig):\n",
    "    \n",
    "    x = np.linspace(0, df_all.MJD.max(), 200)\n",
    "    \n",
    "    data = {band: df[['MJD', 'FLUXCAL', 'FLUXCALERR']].values for band, df in df_all.groupby('FLT')}\n",
    "    colors = {'g': 'g', 'r': 'r', 'i': 'y', 'z': 'b'}\n",
    "\n",
    "    for band, dat in data.items():\n",
    "        gp = gg.GP((500**2)*kr.ExpSquaredKernel(metric=20**2), fit_mean=True)\n",
    "        gp.compute(dat[:,0], dat[:,2])\n",
    "\n",
    "        def nll(p):\n",
    "            gp.set_parameter_vector(p)\n",
    "            ll = gp.log_likelihood(dat[:,1], quiet=True)\n",
    "            return -ll if np.isfinite(ll) else 1e25\n",
    "        \n",
    "        def grad_nll(p):\n",
    "            gp.set_parameter_vector(p)\n",
    "            return -gp.grad_log_likelihood(dat[:,1], quiet=True)\n",
    "            \n",
    "        p0 = gp.get_parameter_vector()\n",
    "        results = op.minimize(nll, p0, jac=grad_nll, method=\"L-BFGS-B\")\n",
    "          \n",
    "        mu, var = gp.predict(dat[:,1], x, return_var=True)\n",
    "        std = np.sqrt(var)\n",
    "        \n",
    "        fig = plt.figure(num=None, figsize=(8, 5), dpi=8, facecolor='w', edgecolor='w')\n",
    "        #plt.ylim(bottom = 1)\n",
    "        #plt.xlim(-0, 250)\n",
    "        if error_margin == True:\n",
    "            plt.fill_between(x, mu-std, mu+std, alpha=.1, color=colors[band[-1]])\n",
    "        #plt.tight_layout()\n",
    "        plt.plot(x, mu, color= 'k', linewidth=5)\n",
    "        if points == True:\n",
    "            plt.errorbar(dat[:,0], dat[:,1], yerr=dat[:,2], fmt='o', color= 'k')\n",
    "        plt.axis('off')\n",
    "        plt.savefig(path_to_export + file_id + '_'+ sn_type +'_'+ band + '.png', bbox_inches='tight')\n",
    "        if show_fig == False:\n",
    "            plt.close(fig)"
   ]
  },
  {
   "cell_type": "code",
   "execution_count": null,
   "metadata": {},
   "outputs": [],
   "source": []
  },
  {
   "cell_type": "code",
   "execution_count": 2,
   "metadata": {},
   "outputs": [
    {
     "name": "stderr",
     "output_type": "stream",
     "text": [
      "ERROR:root:Internal Python error in the inspect module.\n",
      "Below is the traceback from this internal error.\n",
      "\n"
     ]
    },
    {
     "name": "stdout",
     "output_type": "stream",
     "text": [
      "Traceback (most recent call last):\n",
      "  File \"/home/felipematheus/anaconda3/lib/python3.7/site-packages/IPython/core/interactiveshell.py\", line 3267, in run_code\n",
      "    exec(code_obj, self.user_global_ns, self.user_ns)\n",
      "  File \"<ipython-input-2-25d8153a8c5f>\", line 5, in <module>\n",
      "    read = read_sn(path_to_read + file_name)\n",
      "  File \"/home/felipematheus/Documents/tcc/notebooks/src_and_notebooks/processing/read_data.py\", line 23, in read_sn\n",
      "    with open(file_name, 'r') as fp:\n",
      "FileNotFoundError: [Errno 2] No such file or directory: '../../data/raw_dataDES_SN067538.DAT'\n",
      "\n",
      "During handling of the above exception, another exception occurred:\n",
      "\n",
      "Traceback (most recent call last):\n",
      "  File \"/home/felipematheus/anaconda3/lib/python3.7/site-packages/IPython/core/interactiveshell.py\", line 2018, in showtraceback\n",
      "    stb = value._render_traceback_()\n",
      "AttributeError: 'FileNotFoundError' object has no attribute '_render_traceback_'\n",
      "\n",
      "During handling of the above exception, another exception occurred:\n",
      "\n",
      "Traceback (most recent call last):\n",
      "  File \"/home/felipematheus/anaconda3/lib/python3.7/site-packages/IPython/core/ultratb.py\", line 1095, in get_records\n",
      "    return _fixed_getinnerframes(etb, number_of_lines_of_context, tb_offset)\n",
      "  File \"/home/felipematheus/anaconda3/lib/python3.7/site-packages/IPython/core/ultratb.py\", line 313, in wrapped\n",
      "    return f(*args, **kwargs)\n",
      "  File \"/home/felipematheus/anaconda3/lib/python3.7/site-packages/IPython/core/ultratb.py\", line 347, in _fixed_getinnerframes\n",
      "    records = fix_frame_records_filenames(inspect.getinnerframes(etb, context))\n",
      "  File \"/home/felipematheus/anaconda3/lib/python3.7/inspect.py\", line 1500, in getinnerframes\n",
      "    frameinfo = (tb.tb_frame,) + getframeinfo(tb, context)\n",
      "  File \"/home/felipematheus/anaconda3/lib/python3.7/inspect.py\", line 1458, in getframeinfo\n",
      "    filename = getsourcefile(frame) or getfile(frame)\n",
      "  File \"/home/felipematheus/anaconda3/lib/python3.7/inspect.py\", line 696, in getsourcefile\n",
      "    if getattr(getmodule(object, filename), '__loader__', None) is not None:\n",
      "  File \"/home/felipematheus/anaconda3/lib/python3.7/inspect.py\", line 742, in getmodule\n",
      "    os.path.realpath(f)] = module.__name__\n",
      "AttributeError: module has no attribute '__name__'\n"
     ]
    },
    {
     "ename": "FileNotFoundError",
     "evalue": "[Errno 2] No such file or directory: '../../data/raw_dataDES_SN067538.DAT'",
     "output_type": "error",
     "traceback": [
      "\u001b[0;31m---------------------------------------------------------------------------\u001b[0m"
     ]
    }
   ],
   "source": [
    "#single test\n",
    "file_name = 'DES_SN067538.DAT'\n",
    "path_to_read = '../../data/raw_data'\n",
    "path_to_export = '../../data/teste'\n",
    "read = read_sn(path_to_read + file_name)\n",
    "\n",
    "#file_id = file_name[4:12]\n",
    "#sn_type = read['SIM_COMMENT'][3]\n",
    "\n",
    "gen_images_with_GP(file_name, path_to_read, path_to_export, \n",
    "                   error_margin = False, points = False, show_fig = False)"
   ]
  },
  {
   "cell_type": "code",
   "execution_count": null,
   "metadata": {},
   "outputs": [],
   "source": []
  },
  {
   "cell_type": "code",
   "execution_count": null,
   "metadata": {},
   "outputs": [],
   "source": []
  }
 ],
 "metadata": {
  "kernelspec": {
   "display_name": "Python 3",
   "language": "python",
   "name": "python3"
  },
  "language_info": {
   "codemirror_mode": {
    "name": "ipython",
    "version": 3
   },
   "file_extension": ".py",
   "mimetype": "text/x-python",
   "name": "python",
   "nbconvert_exporter": "python",
   "pygments_lexer": "ipython3",
   "version": "3.7.1"
  }
 },
 "nbformat": 4,
 "nbformat_minor": 2
}
