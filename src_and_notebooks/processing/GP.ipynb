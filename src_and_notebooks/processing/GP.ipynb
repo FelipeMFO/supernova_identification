{
 "cells": [
  {
   "cell_type": "code",
   "execution_count": 1,
   "metadata": {},
   "outputs": [],
   "source": [
    "%run -i ../code/wavelets_pca_with_zhost_1100_average_precision.py"
   ]
  },
  {
   "cell_type": "code",
   "execution_count": 2,
   "metadata": {},
   "outputs": [],
   "source": [
    "%run -i ../code/wavelets_pca_with_zhost_1100_roc_auc.py"
   ]
  },
  {
   "cell_type": "code",
   "execution_count": 3,
   "metadata": {},
   "outputs": [],
   "source": [
    "import pandas as pd\n",
    "import numpy as np\n",
    "\n",
    "import pywt as wt\n",
    "\n",
    "import pymc3 as pm\n",
    "%matplotlib inline\n",
    "\n",
    "import matplotlib.pyplot as plt"
   ]
  },
  {
   "cell_type": "code",
   "execution_count": 4,
   "metadata": {},
   "outputs": [],
   "source": [
    "%run gen_files_array.ipynb"
   ]
  },
  {
   "cell_type": "code",
   "execution_count": 5,
   "metadata": {},
   "outputs": [],
   "source": [
    "%run functions.ipynb"
   ]
  },
  {
   "cell_type": "code",
   "execution_count": 6,
   "metadata": {},
   "outputs": [],
   "source": [
    "def get_wavelets(file, keys, wavelet = 'sym2', mlev = 2):\n",
    "    wav = wt.Wavelet(wavelet)\n",
    "    \n",
    "    xstar, mu, stds = GP_prep(file, keys)\n",
    "    \n",
    "    for filt in keys: \n",
    "        coeffs = [np.array(wt.swt(mu[filt], wav, level=mlev)).flatten()]\n",
    "\n",
    "    return np.concatenate(coeffs)"
   ]
  },
  {
   "cell_type": "code",
   "execution_count": 10,
   "metadata": {},
   "outputs": [],
   "source": [
    "file = files[0]\n",
    "filters = ['desg' , 'desi' , 'desr' , 'desz']"
   ]
  },
  {
   "cell_type": "code",
   "execution_count": 9,
   "metadata": {
    "scrolled": true
   },
   "outputs": [
    {
     "name": "stderr",
     "output_type": "stream",
     "text": [
      "UsageError: Cell magic `%%mprun` not found.\n"
     ]
    }
   ],
   "source": [
    "%%mprun \n",
    "\n",
    "samples_wavelets = []\n",
    "results = []\n",
    "keys = ['desg' , 'desi' , 'desr' , 'desz']\n",
    "\n",
    "\n",
    "#results = []\n",
    "for f in files[0:5]:\n",
    "    \n",
    "    results.append(get_wavelets(file,filters))"
   ]
  },
  {
   "cell_type": "code",
   "execution_count": 12,
   "metadata": {},
   "outputs": [
    {
     "data": {
      "text/plain": [
       "59.534939765930176"
      ]
     },
     "execution_count": 12,
     "metadata": {},
     "output_type": "execute_result"
    }
   ],
   "source": [
    "end-start"
   ]
  },
  {
   "cell_type": "code",
   "execution_count": 13,
   "metadata": {},
   "outputs": [
    {
     "name": "stderr",
     "output_type": "stream",
     "text": [
      "UsageError: %%time is a cell magic, but the cell body is empty. Did you mean the line magic %time (single %)?\n"
     ]
    }
   ],
   "source": [
    "%%time "
   ]
  },
  {
   "cell_type": "code",
   "execution_count": null,
   "metadata": {},
   "outputs": [],
   "source": []
  },
  {
   "cell_type": "code",
   "execution_count": null,
   "metadata": {},
   "outputs": [],
   "source": []
  },
  {
   "cell_type": "code",
   "execution_count": null,
   "metadata": {},
   "outputs": [],
   "source": []
  },
  {
   "cell_type": "code",
   "execution_count": null,
   "metadata": {},
   "outputs": [],
   "source": []
  },
  {
   "cell_type": "code",
   "execution_count": null,
   "metadata": {},
   "outputs": [],
   "source": []
  },
  {
   "cell_type": "code",
   "execution_count": null,
   "metadata": {},
   "outputs": [],
   "source": []
  },
  {
   "cell_type": "code",
   "execution_count": null,
   "metadata": {},
   "outputs": [],
   "source": []
  },
  {
   "cell_type": "code",
   "execution_count": null,
   "metadata": {},
   "outputs": [],
   "source": []
  },
  {
   "cell_type": "code",
   "execution_count": null,
   "metadata": {},
   "outputs": [],
   "source": []
  },
  {
   "cell_type": "code",
   "execution_count": null,
   "metadata": {},
   "outputs": [],
   "source": []
  },
  {
   "cell_type": "code",
   "execution_count": null,
   "metadata": {},
   "outputs": [],
   "source": []
  },
  {
   "cell_type": "code",
   "execution_count": null,
   "metadata": {},
   "outputs": [],
   "source": []
  },
  {
   "cell_type": "code",
   "execution_count": null,
   "metadata": {},
   "outputs": [],
   "source": []
  },
  {
   "cell_type": "code",
   "execution_count": null,
   "metadata": {},
   "outputs": [],
   "source": []
  },
  {
   "cell_type": "code",
   "execution_count": null,
   "metadata": {},
   "outputs": [],
   "source": []
  },
  {
   "cell_type": "code",
   "execution_count": null,
   "metadata": {},
   "outputs": [],
   "source": []
  },
  {
   "cell_type": "code",
   "execution_count": null,
   "metadata": {},
   "outputs": [],
   "source": []
  },
  {
   "cell_type": "code",
   "execution_count": null,
   "metadata": {},
   "outputs": [],
   "source": []
  },
  {
   "cell_type": "code",
   "execution_count": null,
   "metadata": {},
   "outputs": [],
   "source": [
    "np.random.seed(9)\n",
    "resp = []\n",
    "clean_method = ''\n",
    "wavelet = 'sym2'\n",
    "mlev = 2\n",
    "wav = wt.Wavelet(wavelet)\n",
    "filters = ['desg' , 'desi' , 'desr' , 'desz']\n",
    "\n",
    "i = 0\n",
    "start = time.time()\n",
    "\n",
    "with pm.Model() as model:\n",
    "    eta = pm.HalfCauchy(\"eta\", beta=2, testval=2.0)\n",
    "    lengthscale = pm.Gamma(\"lenght\", alpha=4, beta=0.1)\n",
    "    cov = 500*eta**2 * pm.gp.cov.Matern32(1, lengthscale)        \n",
    "\n",
    "    gp = pm.gp.Marginal(cov_func=cov)\n",
    "\n",
    "    #mp = pm.find_MAP(include_transformed=True)\n",
    "    \n",
    "    for file in files[0:50]:\n",
    "        data_dict, t = get_df(file)\n",
    "        t = t.reshape(len(t),1)\n",
    "            \n",
    "        mus = {filters[0] : [], filters[1] : [], filters[2] : [], filters[3] : []}\n",
    "        stds = {filters[0] : [], filters[1] : [], filters[2] : [], filters[3] : []}\n",
    "    \n",
    "        for band, dat in data_dict.items():\n",
    "            #with error treatment std_dev\n",
    "            x, y, yerr = get_xys(cleaning_df(data_dict[band], method = clean_method, clean_neg = True))\n",
    "            x = x.reshape(len(x),1)\n",
    "            \n",
    "            y_ = gp.marginal_likelihood(str(band)+str(i), X=x, y=y, noise=yerr)\n",
    "            mu, var = gp.predict(t,  diag=True)\n",
    "            fit = pd.DataFrame({\"t\": t.flatten(),\n",
    "                            \"mu_total\": mu,\n",
    "                            \"sd_total\": np.sqrt(var)})\n",
    "            #stds[band] = fit['mu_total']\n",
    "            mus[band] = fit['sd_total']\n",
    "            \n",
    "        for filt in filters: \n",
    "            coeffs = [np.array(wt.swt(mus[filt], wav, level=mlev)).flatten()]            \n",
    "        resp.append(np.concatenate(coeffs)) \n",
    "        i = i + 1\n",
    "end = time.time()\n",
    "print(\"Time running: \" , (end - start)) "
   ]
  },
  {
   "cell_type": "code",
   "execution_count": 13,
   "metadata": {},
   "outputs": [],
   "source": [
    "def GP_matern32(t,x,y,yerr):\n",
    "    np.random.seed(9)\n",
    "    with pm.Model() as model:\n",
    "        eta = pm.HalfCauchy(\"eta\", beta=2, testval=2.0)\n",
    "        lengthscale = pm.Gamma(\"lenght\", alpha=4, beta=0.1)\n",
    "        cov = 500*eta**2 * pm.gp.cov.Matern32(1, lengthscale)        \n",
    "\n",
    "        gp = pm.gp.Marginal(cov_func=cov)\n",
    "\n",
    "        y_ = gp.marginal_likelihood(\"y\", X=x, y=y, noise=yerr)\n",
    "\n",
    "        #mp = pm.find_MAP(include_transformed=True)\n",
    "\n",
    "        mu, var = gp.predict(t,  diag=True)\n",
    "        fit = pd.DataFrame({\"t\": t.flatten(),\n",
    "                        \"mu_total\": mu,\n",
    "                        \"sd_total\": np.sqrt(var)})\n",
    "        return fit"
   ]
  },
  {
   "cell_type": "code",
   "execution_count": 33,
   "metadata": {},
   "outputs": [
    {
     "data": {
      "text/plain": [
       "22.761687951034972"
      ]
     },
     "execution_count": 33,
     "metadata": {},
     "output_type": "execute_result"
    }
   ],
   "source": [
    "(38.44158220291138*len(files)/10)/3600"
   ]
  },
  {
   "cell_type": "code",
   "execution_count": 34,
   "metadata": {},
   "outputs": [
    {
     "name": "stdout",
     "output_type": "stream",
     "text": [
      "Time running:  4.361891984939575\n"
     ]
    }
   ],
   "source": [
    "start = time.time()\n",
    "resp = get_wavelets(file,filters)\n",
    "end = time.time()\n",
    "print(\"Time running: \" , (end - start)) "
   ]
  },
  {
   "cell_type": "code",
   "execution_count": null,
   "metadata": {},
   "outputs": [],
   "source": []
  },
  {
   "cell_type": "code",
   "execution_count": null,
   "metadata": {},
   "outputs": [],
   "source": []
  },
  {
   "cell_type": "code",
   "execution_count": null,
   "metadata": {},
   "outputs": [],
   "source": []
  },
  {
   "cell_type": "code",
   "execution_count": null,
   "metadata": {},
   "outputs": [],
   "source": []
  },
  {
   "cell_type": "code",
   "execution_count": 175,
   "metadata": {},
   "outputs": [
    {
     "data": {
      "text/plain": [
       "28.518415294594234"
      ]
     },
     "execution_count": 175,
     "metadata": {},
     "output_type": "execute_result"
    }
   ],
   "source": [
    ".013378877507315742 * len(files)/10"
   ]
  },
  {
   "cell_type": "code",
   "execution_count": 176,
   "metadata": {},
   "outputs": [
    {
     "data": {
      "text/plain": [
       "2664.5"
      ]
     },
     "execution_count": 176,
     "metadata": {},
     "output_type": "execute_result"
    }
   ],
   "source": [
    "len(files)/8"
   ]
  },
  {
   "cell_type": "code",
   "execution_count": 178,
   "metadata": {},
   "outputs": [
    {
     "data": {
      "text/plain": [
       "10.707844134171804"
      ]
     },
     "execution_count": 178,
     "metadata": {},
     "output_type": "execute_result"
    }
   ],
   "source": [
    "#tempo do 0 ao 100\n",
    "0.1784640689028634 * 60"
   ]
  },
  {
   "cell_type": "code",
   "execution_count": 179,
   "metadata": {},
   "outputs": [
    {
     "data": {
      "text/plain": [
       "100"
      ]
     },
     "execution_count": 179,
     "metadata": {},
     "output_type": "execute_result"
    }
   ],
   "source": [
    "len(results)"
   ]
  },
  {
   "cell_type": "code",
   "execution_count": null,
   "metadata": {},
   "outputs": [],
   "source": []
  }
 ],
 "metadata": {
  "kernelspec": {
   "display_name": "Python 3",
   "language": "python",
   "name": "python3"
  },
  "language_info": {
   "codemirror_mode": {
    "name": "ipython",
    "version": 3
   },
   "file_extension": ".py",
   "mimetype": "text/x-python",
   "name": "python",
   "nbconvert_exporter": "python",
   "pygments_lexer": "ipython3",
   "version": "3.7.1"
  }
 },
 "nbformat": 4,
 "nbformat_minor": 2
}
