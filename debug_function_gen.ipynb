{
 "cells": [
  {
   "cell_type": "code",
   "execution_count": 1,
   "metadata": {},
   "outputs": [],
   "source": [
    "%run read_data.py\n",
    "import pandas as pd\n",
    "import matplotlib\n",
    "import matplotlib.pyplot as plt\n",
    "import os\n",
    "import time\n",
    "import scipy.optimize as op\n",
    "import george as gg\n",
    "import george.kernels as kr"
   ]
  },
  {
   "cell_type": "code",
   "execution_count": 56,
   "metadata": {},
   "outputs": [],
   "source": [
    "def gen_images_with_GP(file_name, path_to_read, path_to_export,error_margin, points, show_fig):\n",
    "    #file_name must be like: DES_SN123456.DAT\n",
    "    file_id = file_name[4:12]\n",
    "    file_read = read_sn(path_to_read + file_name)\n",
    "    sn_type = file_read['SIM_COMMENT'][3]\n",
    "    #TODO, add verification here, add type verification and also if it has 4 bands, \n",
    "#if it does not, return 0\n",
    "    GP_Function(file_read['df'], file_id, sn_type, path_to_export,error_margin, points, show_fig)\n",
    "\n",
    "def GP_Function(df_all, file_id, sn_type, path_to_export,error_margin, points, show_fig):\n",
    "    \n",
    "    x = np.linspace(0, df_all.MJD.max(), 200)\n",
    "    \n",
    "    data = {band: df[['MJD', 'FLUXCAL', 'FLUXCALERR']].values for band, df in df_all.groupby('FLT')}\n",
    "    colors = {'g': 'g', 'r': 'r', 'i': 'y', 'z': 'b'}\n",
    "\n",
    "    for band, dat in data.items():\n",
    "        gp = gg.GP((500**2)*kr.ExpSquaredKernel(metric=20**2), fit_mean=True)\n",
    "        gp.compute(dat[:,0], dat[:,2])\n",
    "\n",
    "        def nll(p):\n",
    "            gp.set_parameter_vector(p)\n",
    "            ll = gp.log_likelihood(dat[:,1], quiet=True)\n",
    "            return -ll if np.isfinite(ll) else 1e25\n",
    "        \n",
    "        def grad_nll(p):\n",
    "            gp.set_parameter_vector(p)\n",
    "            return -gp.grad_log_likelihood(dat[:,1], quiet=True)\n",
    "            \n",
    "        p0 = gp.get_parameter_vector()\n",
    "        results = op.minimize(nll, p0, jac=grad_nll, method=\"L-BFGS-B\")\n",
    "          \n",
    "        mu, var = gp.predict(dat[:,1], x, return_var=True)\n",
    "        std = np.sqrt(var)\n",
    "        \n",
    "        fig = plt.figure(num=None, figsize=(8, 5), dpi=8, facecolor='w', edgecolor='w')\n",
    "        #plt.ylim(bottom = 1)\n",
    "        #plt.xlim(-0, 250)\n",
    "        if error_margin == True:\n",
    "            plt.fill_between(x, mu-std, mu+std, alpha=.1, color=colors[band[-1]])\n",
    "        #plt.tight_layout()\n",
    "        plt.plot(x, mu, color= 'k', linewidth=5)\n",
    "        if points == True:\n",
    "            plt.errorbar(dat[:,0], dat[:,1], yerr=dat[:,2], fmt='o', color= 'k')\n",
    "        plt.axis('off')\n",
    "        plt.savefig(path_to_export + file_id + '_'+ sn_type +'_'+ band + '.png', bbox_inches='tight')\n",
    "        if show_fig == False:\n",
    "            plt.close(fig)"
   ]
  },
  {
   "cell_type": "code",
   "execution_count": null,
   "metadata": {},
   "outputs": [],
   "source": []
  },
  {
   "cell_type": "code",
   "execution_count": 58,
   "metadata": {},
   "outputs": [],
   "source": [
    "#single test\n",
    "file_name = 'DES_SN067538.DAT'\n",
    "path_to_read = 'data/'\n",
    "path_to_export = 'teste/'\n",
    "read = read_sn(path_to_read + file_name)\n",
    "\n",
    "#file_id = file_name[4:12]\n",
    "#sn_type = read['SIM_COMMENT'][3]\n",
    "\n",
    "gen_images_with_GP(file_name, path_to_read, path_to_export, \n",
    "                   error_margin = False, points = False, show_fig = False)"
   ]
  },
  {
   "cell_type": "code",
   "execution_count": null,
   "metadata": {},
   "outputs": [],
   "source": []
  },
  {
   "cell_type": "code",
   "execution_count": null,
   "metadata": {},
   "outputs": [],
   "source": []
  }
 ],
 "metadata": {
  "kernelspec": {
   "display_name": "Python 3",
   "language": "python",
   "name": "python3"
  },
  "language_info": {
   "codemirror_mode": {
    "name": "ipython",
    "version": 3
   },
   "file_extension": ".py",
   "mimetype": "text/x-python",
   "name": "python",
   "nbconvert_exporter": "python",
   "pygments_lexer": "ipython3",
   "version": "3.7.1"
  }
 },
 "nbformat": 4,
 "nbformat_minor": 2
}
